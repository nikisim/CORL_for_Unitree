{
 "cells": [
  {
   "cell_type": "code",
   "execution_count": 7,
   "metadata": {},
   "outputs": [
    {
     "name": "stderr",
     "output_type": "stream",
     "text": [
      "/home/nikisim/.local/lib/python3.10/site-packages/tqdm/auto.py:21: TqdmWarning: IProgress not found. Please update jupyter and ipywidgets. See https://ipywidgets.readthedocs.io/en/stable/user_install.html\n",
      "  from .autonotebook import tqdm as notebook_tqdm\n",
      "pybullet build time: Nov 28 2023 23:45:17\n"
     ]
    }
   ],
   "source": [
    "import gymnasium as gym\n",
    "import numpy as np\n",
    "import loco_mujoco\n",
    "from loco_mujoco import LocoEnv\n",
    "\n",
    "\n",
    "env = gym.make(\"LocoMujoco\", env_name=\"UnitreeA1.simple\")\n",
    "mdp = LocoEnv.make(\"UnitreeA1.simple.perfect\")\n",
    "\n",
    "# env = gym.make('HalfCheetah-v4')"
   ]
  },
  {
   "cell_type": "code",
   "execution_count": 8,
   "metadata": {},
   "outputs": [
    {
     "name": "stderr",
     "output_type": "stream",
     "text": [
      "WARNING:jax._src.xla_bridge:CUDA backend failed to initialize: Found cuDNN version 8302, but JAX was built against version 8906, which is newer. The copy of cuDNN that is installed must be at least as new as the version against which JAX was built. (Set TF_CPP_MIN_LOG_LEVEL=0 and rerun for more info.)\n"
     ]
    },
    {
     "name": "stdout",
     "output_type": "stream",
     "text": [
      "[0 1 2 3 4]\n"
     ]
    }
   ],
   "source": [
    "import jax\n",
    "import jax.numpy as jnp\n",
    "\n",
    "x = jnp.arange(5)\n",
    "print(x)\n",
    "jnp.save('test_save.npy', x)"
   ]
  },
  {
   "cell_type": "code",
   "execution_count": 9,
   "metadata": {},
   "outputs": [],
   "source": [
    "import flax\n",
    "# Load the TrainState from a file\n",
    "def load_train_state(save_path, state_structure):\n",
    "    with open(save_path, 'rb') as f:\n",
    "        state_dict = flax.serialization.from_bytes(state_structure, f.read())\n",
    "    return state_dict"
   ]
  },
  {
   "cell_type": "code",
   "execution_count": null,
   "metadata": {},
   "outputs": [],
   "source": []
  },
  {
   "cell_type": "code",
   "execution_count": 10,
   "metadata": {},
   "outputs": [
    {
     "name": "stderr",
     "output_type": "stream",
     "text": [
      "2024-05-15 13:22:50.703392: E external/local_xla/xla/stream_executor/cuda/cuda_dnn.cc:9261] Unable to register cuDNN factory: Attempting to register factory for plugin cuDNN when one has already been registered\n",
      "2024-05-15 13:22:50.703444: E external/local_xla/xla/stream_executor/cuda/cuda_fft.cc:607] Unable to register cuFFT factory: Attempting to register factory for plugin cuFFT when one has already been registered\n",
      "2024-05-15 13:22:50.724438: E external/local_xla/xla/stream_executor/cuda/cuda_blas.cc:1515] Unable to register cuBLAS factory: Attempting to register factory for plugin cuBLAS when one has already been registered\n",
      "2024-05-15 13:22:51.450861: W tensorflow/compiler/tf2tensorrt/utils/py_utils.cc:38] TF-TRT Warning: Could not find TensorRT\n",
      "/home/nikisim/.local/lib/python3.10/site-packages/tensorboard/compat/tensorflow_stub/dtypes.py:326: DeprecationWarning: `np.bool8` is a deprecated alias for `np.bool_`.  (Deprecated NumPy 1.24)\n",
      "  np.bool8: (False, True),\n",
      "/home/nikisim/.local/lib/python3.10/site-packages/wandb/apis/public.py:3109: DeprecationWarning: pkg_resources is deprecated as an API. See https://setuptools.pypa.io/en/latest/pkg_resources.html\n",
      "  from pkg_resources import parse_version\n"
     ]
    },
    {
     "ename": "KeyboardInterrupt",
     "evalue": "",
     "output_type": "error",
     "traceback": [
      "\u001b[0;31m---------------------------------------------------------------------------\u001b[0m",
      "\u001b[0;31mKeyboardInterrupt\u001b[0m                         Traceback (most recent call last)",
      "Cell \u001b[0;32mIn[10], line 19\u001b[0m\n\u001b[1;32m     17\u001b[0m \u001b[38;5;28;01mimport\u001b[39;00m \u001b[38;5;21;01moptax\u001b[39;00m\n\u001b[1;32m     18\u001b[0m \u001b[38;5;28;01mimport\u001b[39;00m \u001b[38;5;21;01mpyrallis\u001b[39;00m\n\u001b[0;32m---> 19\u001b[0m \u001b[38;5;28;01mimport\u001b[39;00m \u001b[38;5;21;01mwandb\u001b[39;00m\n\u001b[1;32m     20\u001b[0m \u001b[38;5;28;01mimport\u001b[39;00m \u001b[38;5;21;01mflax\u001b[39;00m\n\u001b[1;32m     21\u001b[0m \u001b[38;5;28;01mfrom\u001b[39;00m \u001b[38;5;21;01mflax\u001b[39;00m\u001b[38;5;21;01m.\u001b[39;00m\u001b[38;5;21;01mcore\u001b[39;00m \u001b[38;5;28;01mimport\u001b[39;00m FrozenDict\n",
      "File \u001b[0;32m~/.local/lib/python3.10/site-packages/wandb/__init__.py:26\u001b[0m\n\u001b[1;32m     23\u001b[0m \u001b[38;5;66;03m# This needs to be early as other modules call it.\u001b[39;00m\n\u001b[1;32m     24\u001b[0m \u001b[38;5;28;01mfrom\u001b[39;00m \u001b[38;5;21;01mwandb\u001b[39;00m\u001b[38;5;21;01m.\u001b[39;00m\u001b[38;5;21;01merrors\u001b[39;00m\u001b[38;5;21;01m.\u001b[39;00m\u001b[38;5;21;01mterm\u001b[39;00m \u001b[38;5;28;01mimport\u001b[39;00m termsetup, termlog, termerror, termwarn\n\u001b[0;32m---> 26\u001b[0m \u001b[38;5;28;01mfrom\u001b[39;00m \u001b[38;5;21;01mwandb\u001b[39;00m \u001b[38;5;28;01mimport\u001b[39;00m sdk \u001b[38;5;28;01mas\u001b[39;00m wandb_sdk\n\u001b[1;32m     28\u001b[0m \u001b[38;5;28;01mimport\u001b[39;00m \u001b[38;5;21;01mwandb\u001b[39;00m\n\u001b[1;32m     30\u001b[0m wandb\u001b[38;5;241m.\u001b[39mwandb_lib \u001b[38;5;241m=\u001b[39m wandb_sdk\u001b[38;5;241m.\u001b[39mlib\n",
      "File \u001b[0;32m~/.local/lib/python3.10/site-packages/wandb/sdk/__init__.py:5\u001b[0m\n\u001b[1;32m      3\u001b[0m \u001b[38;5;28;01mfrom\u001b[39;00m \u001b[38;5;21;01m.\u001b[39;00m \u001b[38;5;28;01mimport\u001b[39;00m wandb_helper \u001b[38;5;28;01mas\u001b[39;00m helper  \u001b[38;5;66;03m# noqa: F401\u001b[39;00m\n\u001b[1;32m      4\u001b[0m \u001b[38;5;28;01mfrom\u001b[39;00m \u001b[38;5;21;01m.\u001b[39;00m\u001b[38;5;21;01mwandb_alerts\u001b[39;00m \u001b[38;5;28;01mimport\u001b[39;00m AlertLevel  \u001b[38;5;66;03m# noqa: F401\u001b[39;00m\n\u001b[0;32m----> 5\u001b[0m \u001b[38;5;28;01mfrom\u001b[39;00m \u001b[38;5;21;01m.\u001b[39;00m\u001b[38;5;21;01mwandb_artifacts\u001b[39;00m \u001b[38;5;28;01mimport\u001b[39;00m Artifact  \u001b[38;5;66;03m# noqa: F401\u001b[39;00m\n\u001b[1;32m      6\u001b[0m \u001b[38;5;28;01mfrom\u001b[39;00m \u001b[38;5;21;01m.\u001b[39;00m\u001b[38;5;21;01mwandb_config\u001b[39;00m \u001b[38;5;28;01mimport\u001b[39;00m Config  \u001b[38;5;66;03m# noqa: F401\u001b[39;00m\n\u001b[1;32m      7\u001b[0m \u001b[38;5;28;01mfrom\u001b[39;00m \u001b[38;5;21;01m.\u001b[39;00m\u001b[38;5;21;01mwandb_init\u001b[39;00m \u001b[38;5;28;01mimport\u001b[39;00m _attach, init  \u001b[38;5;66;03m# noqa: F401\u001b[39;00m\n",
      "File \u001b[0;32m~/.local/lib/python3.10/site-packages/wandb/sdk/wandb_artifacts.py:33\u001b[0m\n\u001b[1;32m     31\u001b[0m \u001b[38;5;28;01mimport\u001b[39;00m \u001b[38;5;21;01mwandb\u001b[39;00m\u001b[38;5;21;01m.\u001b[39;00m\u001b[38;5;21;01mdata_types\u001b[39;00m \u001b[38;5;28;01mas\u001b[39;00m \u001b[38;5;21;01mdata_types\u001b[39;00m\n\u001b[1;32m     32\u001b[0m \u001b[38;5;28;01mfrom\u001b[39;00m \u001b[38;5;21;01mwandb\u001b[39;00m \u001b[38;5;28;01mimport\u001b[39;00m env, util\n\u001b[0;32m---> 33\u001b[0m \u001b[38;5;28;01mfrom\u001b[39;00m \u001b[38;5;21;01mwandb\u001b[39;00m\u001b[38;5;21;01m.\u001b[39;00m\u001b[38;5;21;01mapis\u001b[39;00m \u001b[38;5;28;01mimport\u001b[39;00m InternalApi, PublicApi\n\u001b[1;32m     34\u001b[0m \u001b[38;5;28;01mfrom\u001b[39;00m \u001b[38;5;21;01mwandb\u001b[39;00m\u001b[38;5;21;01m.\u001b[39;00m\u001b[38;5;21;01mapis\u001b[39;00m\u001b[38;5;21;01m.\u001b[39;00m\u001b[38;5;21;01mpublic\u001b[39;00m \u001b[38;5;28;01mimport\u001b[39;00m Artifact \u001b[38;5;28;01mas\u001b[39;00m PublicArtifact\n\u001b[1;32m     35\u001b[0m \u001b[38;5;28;01mfrom\u001b[39;00m \u001b[38;5;21;01mwandb\u001b[39;00m\u001b[38;5;21;01m.\u001b[39;00m\u001b[38;5;21;01merrors\u001b[39;00m \u001b[38;5;28;01mimport\u001b[39;00m CommError\n",
      "File \u001b[0;32m~/.local/lib/python3.10/site-packages/wandb/apis/__init__.py:43\u001b[0m\n\u001b[1;32m     40\u001b[0m reset_path \u001b[38;5;241m=\u001b[39m util\u001b[38;5;241m.\u001b[39mvendor_setup()\n\u001b[1;32m     42\u001b[0m \u001b[38;5;28;01mfrom\u001b[39;00m \u001b[38;5;21;01m.\u001b[39;00m\u001b[38;5;21;01minternal\u001b[39;00m \u001b[38;5;28;01mimport\u001b[39;00m Api \u001b[38;5;28;01mas\u001b[39;00m InternalApi  \u001b[38;5;66;03m# noqa\u001b[39;00m\n\u001b[0;32m---> 43\u001b[0m \u001b[38;5;28;01mfrom\u001b[39;00m \u001b[38;5;21;01m.\u001b[39;00m\u001b[38;5;21;01mpublic\u001b[39;00m \u001b[38;5;28;01mimport\u001b[39;00m Api \u001b[38;5;28;01mas\u001b[39;00m PublicApi  \u001b[38;5;66;03m# noqa\u001b[39;00m\n\u001b[1;32m     45\u001b[0m reset_path()\n\u001b[1;32m     47\u001b[0m __all__ \u001b[38;5;241m=\u001b[39m [\u001b[38;5;124m\"\u001b[39m\u001b[38;5;124mInternalApi\u001b[39m\u001b[38;5;124m\"\u001b[39m, \u001b[38;5;124m\"\u001b[39m\u001b[38;5;124mPublicApi\u001b[39m\u001b[38;5;124m\"\u001b[39m]\n",
      "File \u001b[0;32m~/.local/lib/python3.10/site-packages/wandb/apis/public.py:3108\u001b[0m\n\u001b[1;32m   3104\u001b[0m                 \u001b[38;5;28;01melse\u001b[39;00m:\n\u001b[1;32m   3105\u001b[0m                     \u001b[38;5;28;01mreturn\u001b[39;00m {\u001b[38;5;124m\"\u001b[39m\u001b[38;5;124mkey\u001b[39m\u001b[38;5;124m\"\u001b[39m: \u001b[38;5;28mself\u001b[39m\u001b[38;5;241m.\u001b[39mserver_path_to_key(k), \u001b[38;5;124m\"\u001b[39m\u001b[38;5;124mop\u001b[39m\u001b[38;5;124m\"\u001b[39m: \u001b[38;5;124m\"\u001b[39m\u001b[38;5;124m=\u001b[39m\u001b[38;5;124m\"\u001b[39m, \u001b[38;5;124m\"\u001b[39m\u001b[38;5;124mvalue\u001b[39m\u001b[38;5;124m\"\u001b[39m: v}\n\u001b[0;32m-> 3108\u001b[0m \u001b[38;5;28;01mclass\u001b[39;00m \u001b[38;5;21;01mPythonMongoishQueryGenerator\u001b[39;00m:\n\u001b[1;32m   3109\u001b[0m     \u001b[38;5;28;01mfrom\u001b[39;00m \u001b[38;5;21;01mpkg_resources\u001b[39;00m \u001b[38;5;28;01mimport\u001b[39;00m parse_version\n\u001b[1;32m   3111\u001b[0m     SPACER \u001b[38;5;241m=\u001b[39m \u001b[38;5;124m\"\u001b[39m\u001b[38;5;124m----------\u001b[39m\u001b[38;5;124m\"\u001b[39m\n",
      "File \u001b[0;32m~/.local/lib/python3.10/site-packages/wandb/apis/public.py:3109\u001b[0m, in \u001b[0;36mPythonMongoishQueryGenerator\u001b[0;34m()\u001b[0m\n\u001b[1;32m   3108\u001b[0m \u001b[38;5;28;01mclass\u001b[39;00m \u001b[38;5;21;01mPythonMongoishQueryGenerator\u001b[39;00m:\n\u001b[0;32m-> 3109\u001b[0m     \u001b[38;5;28;01mfrom\u001b[39;00m \u001b[38;5;21;01mpkg_resources\u001b[39;00m \u001b[38;5;28;01mimport\u001b[39;00m parse_version\n\u001b[1;32m   3111\u001b[0m     SPACER \u001b[38;5;241m=\u001b[39m \u001b[38;5;124m\"\u001b[39m\u001b[38;5;124m----------\u001b[39m\u001b[38;5;124m\"\u001b[39m\n\u001b[1;32m   3112\u001b[0m     DECIMAL_SPACER \u001b[38;5;241m=\u001b[39m \u001b[38;5;124m\"\u001b[39m\u001b[38;5;124m;;;\u001b[39m\u001b[38;5;124m\"\u001b[39m\n",
      "File \u001b[0;32m~/.local/lib/python3.10/site-packages/pkg_resources/__init__.py:3292\u001b[0m\n\u001b[1;32m   3282\u001b[0m \u001b[38;5;28;01mclass\u001b[39;00m \u001b[38;5;21;01mPkgResourcesDeprecationWarning\u001b[39;00m(\u001b[38;5;167;01mWarning\u001b[39;00m):\n\u001b[1;32m   3283\u001b[0m \u001b[38;5;250m    \u001b[39m\u001b[38;5;124;03m\"\"\"\u001b[39;00m\n\u001b[1;32m   3284\u001b[0m \u001b[38;5;124;03m    Base class for warning about deprecations in ``pkg_resources``\u001b[39;00m\n\u001b[1;32m   3285\u001b[0m \n\u001b[1;32m   3286\u001b[0m \u001b[38;5;124;03m    This class is not derived from ``DeprecationWarning``, and as such is\u001b[39;00m\n\u001b[1;32m   3287\u001b[0m \u001b[38;5;124;03m    visible by default.\u001b[39;00m\n\u001b[1;32m   3288\u001b[0m \u001b[38;5;124;03m    \"\"\"\u001b[39;00m\n\u001b[1;32m   3291\u001b[0m \u001b[38;5;129;43m@_call_aside\u001b[39;49m\n\u001b[0;32m-> 3292\u001b[0m \u001b[38;5;28;43;01mdef\u001b[39;49;00m\u001b[43m \u001b[49m\u001b[38;5;21;43m_initialize_master_working_set\u001b[39;49m\u001b[43m(\u001b[49m\u001b[43m)\u001b[49m\u001b[43m:\u001b[49m\n\u001b[1;32m   3293\u001b[0m \u001b[38;5;250;43m    \u001b[39;49m\u001b[38;5;124;43;03m\"\"\"\u001b[39;49;00m\n\u001b[1;32m   3294\u001b[0m \u001b[38;5;124;43;03m    Prepare the master working set and make the ``require()``\u001b[39;49;00m\n\u001b[1;32m   3295\u001b[0m \u001b[38;5;124;43;03m    API available.\u001b[39;49;00m\n\u001b[0;32m   (...)\u001b[0m\n\u001b[1;32m   3302\u001b[0m \u001b[38;5;124;43;03m    at their own risk.\u001b[39;49;00m\n\u001b[1;32m   3303\u001b[0m \u001b[38;5;124;43;03m    \"\"\"\u001b[39;49;00m\n\u001b[1;32m   3304\u001b[0m \u001b[43m    \u001b[49m\u001b[43mworking_set\u001b[49m\u001b[43m \u001b[49m\u001b[38;5;241;43m=\u001b[39;49m\u001b[43m \u001b[49m\u001b[43mWorkingSet\u001b[49m\u001b[38;5;241;43m.\u001b[39;49m\u001b[43m_build_master\u001b[49m\u001b[43m(\u001b[49m\u001b[43m)\u001b[49m\n",
      "File \u001b[0;32m~/.local/lib/python3.10/site-packages/pkg_resources/__init__.py:3266\u001b[0m, in \u001b[0;36m_call_aside\u001b[0;34m(f, *args, **kwargs)\u001b[0m\n\u001b[1;32m   3265\u001b[0m \u001b[38;5;28;01mdef\u001b[39;00m \u001b[38;5;21m_call_aside\u001b[39m(f, \u001b[38;5;241m*\u001b[39margs, \u001b[38;5;241m*\u001b[39m\u001b[38;5;241m*\u001b[39mkwargs):\n\u001b[0;32m-> 3266\u001b[0m     \u001b[43mf\u001b[49m\u001b[43m(\u001b[49m\u001b[38;5;241;43m*\u001b[39;49m\u001b[43margs\u001b[49m\u001b[43m,\u001b[49m\u001b[43m \u001b[49m\u001b[38;5;241;43m*\u001b[39;49m\u001b[38;5;241;43m*\u001b[39;49m\u001b[43mkwargs\u001b[49m\u001b[43m)\u001b[49m\n\u001b[1;32m   3267\u001b[0m     \u001b[38;5;28;01mreturn\u001b[39;00m f\n",
      "File \u001b[0;32m~/.local/lib/python3.10/site-packages/pkg_resources/__init__.py:3304\u001b[0m, in \u001b[0;36m_initialize_master_working_set\u001b[0;34m()\u001b[0m\n\u001b[1;32m   3291\u001b[0m \u001b[38;5;129m@_call_aside\u001b[39m\n\u001b[1;32m   3292\u001b[0m \u001b[38;5;28;01mdef\u001b[39;00m \u001b[38;5;21m_initialize_master_working_set\u001b[39m():\n\u001b[1;32m   3293\u001b[0m \u001b[38;5;250m    \u001b[39m\u001b[38;5;124;03m\"\"\"\u001b[39;00m\n\u001b[1;32m   3294\u001b[0m \u001b[38;5;124;03m    Prepare the master working set and make the ``require()``\u001b[39;00m\n\u001b[1;32m   3295\u001b[0m \u001b[38;5;124;03m    API available.\u001b[39;00m\n\u001b[0;32m   (...)\u001b[0m\n\u001b[1;32m   3302\u001b[0m \u001b[38;5;124;03m    at their own risk.\u001b[39;00m\n\u001b[1;32m   3303\u001b[0m \u001b[38;5;124;03m    \"\"\"\u001b[39;00m\n\u001b[0;32m-> 3304\u001b[0m     working_set \u001b[38;5;241m=\u001b[39m \u001b[43mWorkingSet\u001b[49m\u001b[38;5;241;43m.\u001b[39;49m\u001b[43m_build_master\u001b[49m\u001b[43m(\u001b[49m\u001b[43m)\u001b[49m\n\u001b[1;32m   3305\u001b[0m     _declare_state(\u001b[38;5;124m'\u001b[39m\u001b[38;5;124mobject\u001b[39m\u001b[38;5;124m'\u001b[39m, working_set\u001b[38;5;241m=\u001b[39mworking_set)\n\u001b[1;32m   3307\u001b[0m     require \u001b[38;5;241m=\u001b[39m working_set\u001b[38;5;241m.\u001b[39mrequire\n",
      "File \u001b[0;32m~/.local/lib/python3.10/site-packages/pkg_resources/__init__.py:591\u001b[0m, in \u001b[0;36mWorkingSet._build_master\u001b[0;34m(cls)\u001b[0m\n\u001b[1;32m    586\u001b[0m \u001b[38;5;129m@classmethod\u001b[39m\n\u001b[1;32m    587\u001b[0m \u001b[38;5;28;01mdef\u001b[39;00m \u001b[38;5;21m_build_master\u001b[39m(\u001b[38;5;28mcls\u001b[39m):\n\u001b[1;32m    588\u001b[0m \u001b[38;5;250m    \u001b[39m\u001b[38;5;124;03m\"\"\"\u001b[39;00m\n\u001b[1;32m    589\u001b[0m \u001b[38;5;124;03m    Prepare the master working set.\u001b[39;00m\n\u001b[1;32m    590\u001b[0m \u001b[38;5;124;03m    \"\"\"\u001b[39;00m\n\u001b[0;32m--> 591\u001b[0m     ws \u001b[38;5;241m=\u001b[39m \u001b[38;5;28;43mcls\u001b[39;49m\u001b[43m(\u001b[49m\u001b[43m)\u001b[49m\n\u001b[1;32m    592\u001b[0m     \u001b[38;5;28;01mtry\u001b[39;00m:\n\u001b[1;32m    593\u001b[0m         \u001b[38;5;28;01mfrom\u001b[39;00m \u001b[38;5;21;01m__main__\u001b[39;00m \u001b[38;5;28;01mimport\u001b[39;00m __requires__\n",
      "File \u001b[0;32m~/.local/lib/python3.10/site-packages/pkg_resources/__init__.py:584\u001b[0m, in \u001b[0;36mWorkingSet.__init__\u001b[0;34m(self, entries)\u001b[0m\n\u001b[1;32m    581\u001b[0m     entries \u001b[38;5;241m=\u001b[39m sys\u001b[38;5;241m.\u001b[39mpath\n\u001b[1;32m    583\u001b[0m \u001b[38;5;28;01mfor\u001b[39;00m entry \u001b[38;5;129;01min\u001b[39;00m entries:\n\u001b[0;32m--> 584\u001b[0m     \u001b[38;5;28;43mself\u001b[39;49m\u001b[38;5;241;43m.\u001b[39;49m\u001b[43madd_entry\u001b[49m\u001b[43m(\u001b[49m\u001b[43mentry\u001b[49m\u001b[43m)\u001b[49m\n",
      "File \u001b[0;32m~/.local/lib/python3.10/site-packages/pkg_resources/__init__.py:640\u001b[0m, in \u001b[0;36mWorkingSet.add_entry\u001b[0;34m(self, entry)\u001b[0m\n\u001b[1;32m    638\u001b[0m \u001b[38;5;28mself\u001b[39m\u001b[38;5;241m.\u001b[39mentry_keys\u001b[38;5;241m.\u001b[39msetdefault(entry, [])\n\u001b[1;32m    639\u001b[0m \u001b[38;5;28mself\u001b[39m\u001b[38;5;241m.\u001b[39mentries\u001b[38;5;241m.\u001b[39mappend(entry)\n\u001b[0;32m--> 640\u001b[0m \u001b[38;5;28;01mfor\u001b[39;00m dist \u001b[38;5;129;01min\u001b[39;00m find_distributions(entry, \u001b[38;5;28;01mTrue\u001b[39;00m):\n\u001b[1;32m    641\u001b[0m     \u001b[38;5;28mself\u001b[39m\u001b[38;5;241m.\u001b[39madd(dist, entry, \u001b[38;5;28;01mFalse\u001b[39;00m)\n",
      "File \u001b[0;32m~/.local/lib/python3.10/site-packages/pkg_resources/__init__.py:2102\u001b[0m, in \u001b[0;36mfind_on_path\u001b[0;34m(importer, path_item, only)\u001b[0m\n\u001b[1;32m   2100\u001b[0m fullpath \u001b[38;5;241m=\u001b[39m os\u001b[38;5;241m.\u001b[39mpath\u001b[38;5;241m.\u001b[39mjoin(path_item, entry)\n\u001b[1;32m   2101\u001b[0m factory \u001b[38;5;241m=\u001b[39m dist_factory(path_item, entry, only)\n\u001b[0;32m-> 2102\u001b[0m \u001b[38;5;28;01myield from\u001b[39;00m factory(fullpath)\n",
      "File \u001b[0;32m~/.local/lib/python3.10/site-packages/pkg_resources/__init__.py:2166\u001b[0m, in \u001b[0;36mdistributions_from_metadata\u001b[0;34m(path)\u001b[0m\n\u001b[1;32m   2164\u001b[0m     metadata \u001b[38;5;241m=\u001b[39m FileMetadata(path)\n\u001b[1;32m   2165\u001b[0m entry \u001b[38;5;241m=\u001b[39m os\u001b[38;5;241m.\u001b[39mpath\u001b[38;5;241m.\u001b[39mbasename(path)\n\u001b[0;32m-> 2166\u001b[0m \u001b[38;5;28;01myield\u001b[39;00m \u001b[43mDistribution\u001b[49m\u001b[38;5;241;43m.\u001b[39;49m\u001b[43mfrom_location\u001b[49m\u001b[43m(\u001b[49m\n\u001b[1;32m   2167\u001b[0m \u001b[43m    \u001b[49m\u001b[43mroot\u001b[49m\u001b[43m,\u001b[49m\n\u001b[1;32m   2168\u001b[0m \u001b[43m    \u001b[49m\u001b[43mentry\u001b[49m\u001b[43m,\u001b[49m\n\u001b[1;32m   2169\u001b[0m \u001b[43m    \u001b[49m\u001b[43mmetadata\u001b[49m\u001b[43m,\u001b[49m\n\u001b[1;32m   2170\u001b[0m \u001b[43m    \u001b[49m\u001b[43mprecedence\u001b[49m\u001b[38;5;241;43m=\u001b[39;49m\u001b[43mDEVELOP_DIST\u001b[49m\u001b[43m,\u001b[49m\n\u001b[1;32m   2171\u001b[0m \u001b[43m\u001b[49m\u001b[43m)\u001b[49m\n",
      "File \u001b[0;32m~/.local/lib/python3.10/site-packages/pkg_resources/__init__.py:2629\u001b[0m, in \u001b[0;36mDistribution.from_location\u001b[0;34m(cls, location, basename, metadata, **kw)\u001b[0m\n\u001b[1;32m   2625\u001b[0m     \u001b[38;5;28;01mif\u001b[39;00m match:\n\u001b[1;32m   2626\u001b[0m         project_name, version, py_version, platform \u001b[38;5;241m=\u001b[39m match\u001b[38;5;241m.\u001b[39mgroup(\n\u001b[1;32m   2627\u001b[0m             \u001b[38;5;124m'\u001b[39m\u001b[38;5;124mname\u001b[39m\u001b[38;5;124m'\u001b[39m, \u001b[38;5;124m'\u001b[39m\u001b[38;5;124mver\u001b[39m\u001b[38;5;124m'\u001b[39m, \u001b[38;5;124m'\u001b[39m\u001b[38;5;124mpyver\u001b[39m\u001b[38;5;124m'\u001b[39m, \u001b[38;5;124m'\u001b[39m\u001b[38;5;124mplat\u001b[39m\u001b[38;5;124m'\u001b[39m\n\u001b[1;32m   2628\u001b[0m         )\n\u001b[0;32m-> 2629\u001b[0m \u001b[38;5;28;01mreturn\u001b[39;00m \u001b[38;5;28;43mcls\u001b[39;49m\u001b[43m(\u001b[49m\n\u001b[1;32m   2630\u001b[0m \u001b[43m    \u001b[49m\u001b[43mlocation\u001b[49m\u001b[43m,\u001b[49m\n\u001b[1;32m   2631\u001b[0m \u001b[43m    \u001b[49m\u001b[43mmetadata\u001b[49m\u001b[43m,\u001b[49m\n\u001b[1;32m   2632\u001b[0m \u001b[43m    \u001b[49m\u001b[43mproject_name\u001b[49m\u001b[38;5;241;43m=\u001b[39;49m\u001b[43mproject_name\u001b[49m\u001b[43m,\u001b[49m\n\u001b[1;32m   2633\u001b[0m \u001b[43m    \u001b[49m\u001b[43mversion\u001b[49m\u001b[38;5;241;43m=\u001b[39;49m\u001b[43mversion\u001b[49m\u001b[43m,\u001b[49m\n\u001b[1;32m   2634\u001b[0m \u001b[43m    \u001b[49m\u001b[43mpy_version\u001b[49m\u001b[38;5;241;43m=\u001b[39;49m\u001b[43mpy_version\u001b[49m\u001b[43m,\u001b[49m\n\u001b[1;32m   2635\u001b[0m \u001b[43m    \u001b[49m\u001b[43mplatform\u001b[49m\u001b[38;5;241;43m=\u001b[39;49m\u001b[43mplatform\u001b[49m\u001b[43m,\u001b[49m\n\u001b[1;32m   2636\u001b[0m \u001b[43m    \u001b[49m\u001b[38;5;241;43m*\u001b[39;49m\u001b[38;5;241;43m*\u001b[39;49m\u001b[43mkw\u001b[49m\u001b[43m,\u001b[49m\n\u001b[1;32m   2637\u001b[0m \u001b[43m\u001b[49m\u001b[43m)\u001b[49m\u001b[38;5;241m.\u001b[39m_reload_version()\n",
      "\u001b[0;31mKeyboardInterrupt\u001b[0m: "
     ]
    }
   ],
   "source": [
    "from flax.training import checkpoints\n",
    "import math\n",
    "import uuid\n",
    "from copy import deepcopy\n",
    "from dataclasses import asdict, dataclass\n",
    "from functools import partial\n",
    "from typing import Any, Callable, Dict, Sequence, Tuple, Union\n",
    "\n",
    "import chex\n",
    "#import d4rl  # noqa\n",
    "import flax.linen as nn\n",
    "import gymnasium as gym\n",
    "# import metagym.quadrupedal\n",
    "import jax\n",
    "import jax.numpy as jnp\n",
    "import numpy as np\n",
    "import optax\n",
    "import pyrallis\n",
    "import wandb\n",
    "import flax\n",
    "from flax.core import FrozenDict\n",
    "from flax.training.train_state import TrainState\n",
    "from flax.training import checkpoints\n",
    "from tqdm.auto import trange\n",
    "\n",
    "from rebrac_Fetch import pytorch_init, identity, DetActor, ActorTrainState, ReplayBuffer\n",
    "\n",
    "actor_learning_rate: float = 1e-3\n",
    "hidden_dim: int = 256\n",
    "actor_n_hiddens: int = 3\n",
    "critic_n_hiddens: int = 3\n",
    "actor_ln: bool = False\n",
    "\n",
    "dataset_name = '/home/nikisim/Mag_diplom/CORL/data/FetchReachDense.npy'\n",
    "\n",
    "buffer = ReplayBuffer()\n",
    "buffer.create_from_d4rl(\n",
    "    dataset_name, False, False\n",
    ")\n",
    "\n",
    "init_state = buffer.data[\"states\"][0][None, ...]\n",
    "init_action = buffer.data[\"actions\"][0][None, ...]\n",
    "\n",
    "key = jax.random.PRNGKey(seed=51)\n",
    "key, actor_key, critic_key = jax.random.split(key, 3)\n",
    "\n",
    "# Load the TrainState from a file\n",
    "def load_train_state(save_path, state_structure):\n",
    "    with open(save_path, 'rb') as f:\n",
    "        state_dict = flax.serialization.from_bytes(state_structure, f.read())\n",
    "    return state_dict\n",
    "\n",
    "def create_train_state(actor_module, actor_key, init_state, actor_learning_rate):\n",
    "    return ActorTrainState.create(\n",
    "        apply_fn=actor_module.apply,\n",
    "        params=actor_module.init(actor_key, init_state),\n",
    "        target_params=actor_module.init(actor_key, init_state),\n",
    "        tx=optax.adam(learning_rate=actor_learning_rate),\n",
    "    )\n",
    "\n",
    "save_path = '/home/nikisim/Mag_diplom/CORL/data/saved_models/FetchReach/actor_state90.pkl'\n",
    "\n",
    "actor_module = DetActor(\n",
    "        action_dim=init_action.shape[-1],\n",
    "        hidden_dim=hidden_dim,\n",
    "        layernorm=actor_ln,\n",
    "        n_hiddens=actor_n_hiddens,\n",
    "    )\n",
    "\n",
    "dummy_state = create_train_state(actor_module, actor_key, init_state, actor_learning_rate)\n",
    "\n",
    "actor = load_train_state(save_path, dummy_state)\n"
   ]
  },
  {
   "cell_type": "code",
   "execution_count": null,
   "metadata": {},
   "outputs": [
    {
     "name": "stdout",
     "output_type": "stream",
     "text": [
      "{'params': {'Dense_0': {'kernel': array([[-0.14602408, -0.22698468, -0.08548546, ..., -0.04975212,\n",
      "        -0.12742001, -0.2578424 ],\n",
      "       [-0.33556554,  0.14237517,  0.03783202, ...,  0.08671832,\n",
      "         0.01024811,  0.1053289 ],\n",
      "       [ 0.01355439, -0.01968372, -0.07256222, ...,  0.10857463,\n",
      "         0.10180728,  0.19010435],\n",
      "       ...,\n",
      "       [-0.07764928, -0.24640918, -0.14659715, ..., -0.22207695,\n",
      "        -0.06397453, -0.1294698 ],\n",
      "       [ 0.06875625, -0.00241721, -0.0972665 , ...,  0.20183265,\n",
      "         0.22510295, -0.01366103],\n",
      "       [ 0.02791828, -0.09984249,  0.11291629, ...,  0.21878201,\n",
      "         0.08490983, -0.24760768]], dtype=float32), 'bias': array([ 0.09134793,  0.1       ,  0.1       ,  0.1       ,  0.00185449,\n",
      "        0.00843881,  0.12572853,  0.1       ,  0.1       ,  0.1       ,\n",
      "        0.01489196,  0.1       ,  0.1       , -0.08207791,  0.09432369,\n",
      "        0.02702796,  0.1       ,  0.03410022,  0.1       ,  0.09503895,\n",
      "        0.10266239,  0.12366823,  0.02314879, -0.00649947, -0.00252037,\n",
      "        0.08990782, -0.01242898,  0.08624428,  0.10513671,  0.06562701,\n",
      "        0.07495514,  0.1       ,  0.1       ,  0.06884417,  0.02869165,\n",
      "        0.06411156,  0.10780486,  0.1       ,  0.0734444 ,  0.0040473 ,\n",
      "        0.14638467,  0.09877467,  0.06474635,  0.05869983,  0.08045163,\n",
      "        0.03508593,  0.04848805, -0.06532849,  0.1128086 ,  0.1       ,\n",
      "        0.11163588,  0.1       ,  0.08225374,  0.08629047,  0.1       ,\n",
      "        0.1       ,  0.08092605,  0.05152044,  0.1       ,  0.1       ,\n",
      "       -0.03245737, -0.05261642,  0.03656339,  0.09429985,  0.1       ,\n",
      "        0.1354732 ,  0.1       ,  0.08103762,  0.05160864,  0.01645742,\n",
      "        0.0460209 ,  0.00165947,  0.11794074,  0.09963   ,  0.1       ,\n",
      "        0.11622246,  0.1       ,  0.1       ,  0.07130734,  0.01157551,\n",
      "        0.1       ,  0.03610592,  0.06561509,  0.02368029,  0.09821481,\n",
      "        0.12198952,  0.09098583,  0.1       ,  0.12983374,  0.07646612,\n",
      "        0.04846719, -0.03700297,  0.1       ,  0.06500414,  0.06590864,\n",
      "        0.00759331,  0.1       ,  0.1       ,  0.04388061,  0.0909754 ,\n",
      "        0.09096348,  0.11283989,  0.1181015 ,  0.12319832, -0.02495407,\n",
      "        0.1       ,  0.03831427,  0.1       ,  0.1       ,  0.11363561,\n",
      "        0.1       ,  0.09265178,  0.041635  ,  0.1       ,  0.0420798 ,\n",
      "        0.1       ,  0.11304042,  0.12117121,  0.1376971 , -0.02830832,\n",
      "        0.05858285,  0.1       ,  0.09644536,  0.04809466,  0.09894451,\n",
      "        0.1       ,  0.1       ,  0.12383893, -0.00591218,  0.02983093,\n",
      "        0.1       ,  0.1       ,  0.08111231,  0.01797547,  0.1       ,\n",
      "       -0.03241952,  0.06141109,  0.04533273,  0.06556591, -0.01362182,\n",
      "        0.03355558,  0.1       , -0.04171994,  0.1       ,  0.10710166,\n",
      "        0.1       ,  0.1043492 ,  0.13156226,  0.10557213,  0.05290313,\n",
      "        0.09363227,  0.11093191,  0.1       ,  0.12259275,  0.06256966,\n",
      "        0.1       ,  0.05433145,  0.08349948,  0.1       ,  0.15252616,\n",
      "        0.08733377,  0.1       ,  0.09095602,  0.1       ,  0.05470929,\n",
      "       -0.02203307, -0.08562886, -0.04557711,  0.00339506,  0.1       ,\n",
      "        0.18515448,  0.1       ,  0.08290061, -0.00903617,  0.11319271,\n",
      "        0.1315431 ,  0.07843308, -0.04854766, -0.00207348,  0.1       ,\n",
      "        0.09404206,  0.10487223,  0.1       ,  0.04137497,  0.05050844,\n",
      "        0.12257963,  0.1       ,  0.03996383,  0.1       ,  0.11730578,\n",
      "        0.05331231,  0.00031278,  0.08040152,  0.08633517, -0.00756211,\n",
      "        0.08432177, -0.05475326,  0.0870943 ,  0.07011892,  0.04922839,\n",
      "        0.06411901,  0.1       ,  0.1       ,  0.06130849,  0.03912266,\n",
      "        0.06467932,  0.03527518,  0.09151631,  0.06784132,  0.06306103,\n",
      "        0.02629703,  0.1       ,  0.06334713,  0.1       ,  0.09584631,\n",
      "        0.1       , -0.01865683,  0.14242394,  0.1       ,  0.1       ,\n",
      "        0.07375298,  0.03750553,  0.1       ,  0.08830302,  0.05697278,\n",
      "        0.1       ,  0.06578198,  0.02407601,  0.0190044 ,  0.01738576,\n",
      "       -0.0269024 ,  0.1       ,  0.1       ,  0.1       ,  0.07890098,\n",
      "        0.1       , -0.04113507,  0.03396313,  0.00516451,  0.1       ,\n",
      "        0.1429666 ,  0.1       ,  0.10856027,  0.04468006,  0.1       ,\n",
      "        0.01519445,  0.14049828,  0.12306359,  0.1       ,  0.12121435,\n",
      "        0.1       ,  0.1       , -0.03575548,  0.1       ,  0.08245199,\n",
      "        0.10433272], dtype=float32)}, 'Dense_1': {'kernel': array([[-0.05152342,  0.00808957, -0.01126567, ..., -0.03024622,\n",
      "        -0.03424029, -0.11496332],\n",
      "       [-0.01669239, -0.03917913, -0.05912125, ..., -0.01388955,\n",
      "         0.01094706,  0.0526683 ],\n",
      "       [ 0.04180501,  0.02693641, -0.00398654, ...,  0.00840083,\n",
      "         0.00398201,  0.01338798],\n",
      "       ...,\n",
      "       [ 0.00988833, -0.04983863, -0.03566158, ...,  0.004005  ,\n",
      "         0.03692847, -0.05397663],\n",
      "       [-0.13419254, -0.04971218, -0.06481192, ...,  0.00822387,\n",
      "         0.0010719 , -0.38604474],\n",
      "       [-0.06565682, -0.01855476, -0.05625231, ...,  0.01244481,\n",
      "        -0.06630055, -0.15556678]], dtype=float32), 'bias': array([ 0.05799425,  0.05190936,  0.06905428,  0.0551459 ,  0.07313571,\n",
      "        0.06291798,  0.04654643,  0.05296287,  0.04431721,  0.05365578,\n",
      "        0.04255226,  0.07182292,  0.07767126,  0.03316145,  0.04295971,\n",
      "        0.03490041,  0.06174861,  0.02569615,  0.06514272,  0.05035666,\n",
      "        0.00239284,  0.03493394,  0.12891738, -0.01100834,  0.08398698,\n",
      "        0.06150422,  0.14688374,  0.16611305,  0.04496839,  0.06671777,\n",
      "       -0.02443364,  0.06226344,  0.02944571,  0.06637654,  0.05710167,\n",
      "        0.05067522,  0.02056604,  0.20334195,  0.06074948, -0.03393855,\n",
      "        0.06606212,  0.06832114,  0.04234131,  0.07089756,  0.06846866,\n",
      "        0.12263265,  0.07141165,  0.07569573,  0.0883212 , -0.0563775 ,\n",
      "        0.06390443,  0.04741144,  0.10334625,  0.04437905,  0.03294463,\n",
      "        0.06274103,  0.05485085,  0.10227603,  0.10031959,  0.05582241,\n",
      "       -0.02494065,  0.03942888,  0.09862055,  0.0599858 ,  0.05812911,\n",
      "        0.02565447,  0.05404395,  0.06625882,  0.10726893,  0.05917666,\n",
      "        0.05714489,  0.05398807,  0.07105104,  0.1172745 ,  0.12262479,\n",
      "        0.05337042,  0.02862497,  0.05094824,  0.04101735,  0.05078059,\n",
      "        0.06317428,  0.05895017,  0.06118236, -0.02846888,  0.15196307,\n",
      "        0.06047977,  0.06803951,  0.04498404,  0.0729569 ,  0.05246368,\n",
      "        0.07176331,  0.11641014, -0.02035806,  0.012011  , -0.00384499,\n",
      "        0.04992825,  0.04476574,  0.08113317,  0.06346038,  0.02557507,\n",
      "        0.03934618,  0.06377777,  0.06793222,  0.06667903,  0.04777876,\n",
      "        0.05683196,  0.07252923,  0.04419577,  0.05189073, -0.07375512,\n",
      "        0.06696066,  0.08061081,  0.03833364,  0.00265369,  0.16991141,\n",
      "        0.04323241,  0.03142919,  0.0637733 ,  0.05182219,  0.06795606,\n",
      "        0.10687534,  0.04890528,  0.04670885,  0.06277753,  0.04765955,\n",
      "       -0.03189561,  0.06331733,  0.05331901,  0.04984406,  0.06356618,\n",
      "        0.02974181,  0.05258513, -0.05754591,  0.06558827,  0.06699494,\n",
      "        0.06144313,  0.12304798,  0.03484155,  0.1281869 ,  0.03797974,\n",
      "        0.12948495,  0.13999707,  0.06565681,  0.07010928,  0.04328903,\n",
      "        0.16312283,  0.07305524,  0.06231708,  0.0447635 ,  0.02614295,\n",
      "        0.06581178,  0.0698947 ,  0.05915655,  0.02328104,  0.06546459,\n",
      "        0.05634321,  0.05206135,  0.10918143,  0.119863  ,  0.01823028,\n",
      "        0.06933293,  0.04816321,  0.07813059,  0.05927129,  0.06909302,\n",
      "        0.03978353,  0.06238712,  0.0608821 ,  0.0416581 ,  0.07326535,\n",
      "        0.04540798,  0.12504052,  0.04348052,  0.11952955,  0.05582498,\n",
      "        0.1183384 ,  0.04850966,  0.11414908,  0.03138355,  0.12094781,\n",
      "        0.06466737,  0.07359169,  0.04642722,  0.03475215,  0.03486837,\n",
      "        0.06871155,  0.08498661,  0.02779188,  0.06177245,  0.06338587,\n",
      "        0.04746732,  0.05130959,  0.02942181,  0.04837555,  0.04721475,\n",
      "        0.06381205,  0.13488337,  0.05846439,  0.04299101,  0.0549045 ,\n",
      "        0.05652872,  0.0324745 ,  0.03664758,  0.01317143,  0.06546459,\n",
      "        0.13836077,  0.07146678,  0.0543782 ,  0.03687705,  0.04765284,\n",
      "        0.21609376,  0.07578961,  0.0700765 ,  0.06369582,  0.05303812,\n",
      "        0.05153236,  0.03846254,  0.06092681,  0.07075898,  0.07270805,\n",
      "        0.065478  ,  0.08764011,  0.04723442,  0.0400467 ,  0.06267621,\n",
      "        0.07471225,  0.04545194,  0.13095349,  0.06496242,  0.07261119,\n",
      "        0.05384726,  0.06875029,  0.07575385,  0.0655838 ,  0.05098102,\n",
      "        0.04451912,  0.06612173,  0.0705444 ,  0.03250225,  0.07173649,\n",
      "        0.06335905, -0.00344313,  0.13504884,  0.15602969,  0.03255358,\n",
      "        0.03983792,  0.05978314,  0.09856088,  0.13806763,  0.02663902,\n",
      "        0.03754314,  0.04936424,  0.03751631,  0.06875625,  0.05480764,\n",
      "        0.04920033], dtype=float32)}, 'Dense_2': {'kernel': array([[-0.06801567, -0.09548301, -0.0713297 , ..., -0.04368392,\n",
      "        -0.01731908, -0.0442062 ],\n",
      "       [ 0.01357085,  0.01942398, -0.02123234, ...,  0.04686356,\n",
      "         0.02497172,  0.01490593],\n",
      "       [-0.0265134 ,  0.02302043,  0.03819664, ..., -0.04443884,\n",
      "        -0.04979445, -0.02008376],\n",
      "       ...,\n",
      "       [ 0.06194869,  0.0203059 , -0.02435826, ..., -0.0606887 ,\n",
      "        -0.05849755,  0.06133388],\n",
      "       [-0.05709413, -0.0120859 ,  0.04325449, ...,  0.00846006,\n",
      "        -0.05191746,  0.05947879],\n",
      "       [-0.03145377, -0.03823977,  0.00546626, ...,  0.03264363,\n",
      "         0.00406891,  0.01856072]], dtype=float32), 'bias': array([ 0.05500434,  0.05603252,  0.01614524,  0.0512023 ,  0.04870561,\n",
      "        0.06010501,  0.05673436,  0.00200896,  0.06555697, -0.01588372,\n",
      "        0.05796371,  0.03820773, -0.02702943,  0.04684966,  0.03994893,\n",
      "        0.05968405,  0.13513148,  0.14302209,  0.07821552,  0.04291352,\n",
      "        0.04426878,  0.05629478,  0.05871249,  0.05294704,  0.07245473,\n",
      "        0.06009979,  0.05351322,  0.04633632,  0.06027786,  0.0643172 ,\n",
      "        0.07260821,  0.1381727 ,  0.06623913,  0.04012179,  0.06102366,\n",
      "        0.05924447,  0.06367198,  0.05513994,  0.05537165,  0.0602868 ,\n",
      "        0.07360212,  0.04154038,  0.04246201,  0.07114343,  0.06056396,\n",
      "        0.06372562,  0.04818562,  0.05416391,  0.05243016,  0.05827812,\n",
      "        0.03231953,  0.06983361,  0.07773272,  0.06089924,  0.08789609,\n",
      "        0.04923236,  0.08008413,  0.06250484, -0.10545636,  0.065855  ,\n",
      "        0.05268646,  0.05374518,  0.07904103,  0.11544532,  0.14094429,\n",
      "        0.07266334,  0.04408252,  0.04560542,  0.05055782,  0.07491938,\n",
      "        0.05290252, -0.03482104,  0.06330839,  0.05249572,  0.04563298,\n",
      "        0.05546031,  0.1672658 ,  0.05688039,  0.04233312,  0.06660005,\n",
      "        0.08713388,  0.1862499 ,  0.06080387,  0.05398509,  0.02758338,\n",
      "        0.05918859,  0.07795177,  0.05744217, -0.00784552,  0.0573617 ,\n",
      "        0.08632772,  0.0530642 ,  0.04280325,  0.06856105,  0.03166761,\n",
      "        0.03956597,  0.05469588,  0.03536682,  0.04202667,  0.05552737,\n",
      "        0.05291891,  0.05080817,  0.059804  ,  0.03839325,  0.09875381,\n",
      "        0.04951698,  0.05391878,  0.00359145,  0.06153403,  0.04197326,\n",
      "        0.07899234, -0.04726034,  0.05216864,  0.06321004,  0.0584845 ,\n",
      "        0.04600924,  0.05028662, -0.21077824,  0.04809242,  0.05979357,\n",
      "        0.04507941, -0.0437919 ,  0.09788656,  0.07032833,  0.00997012,\n",
      "        0.15334429,  0.04648235,  0.05301875,  0.07666878,  0.01281722,\n",
      "        0.05960284,  0.09143584,  0.06350508,  0.03829341,  0.05776776,\n",
      "        0.05227518,  0.12006074,  0.06948045,  0.06315938,  0.04673865,\n",
      "        0.05112332,  0.05323482,  0.05892484,  0.08428477,  0.06025774,\n",
      "        0.07519952,  0.07513807,  0.0300435 ,  0.04406091,  0.05851356,\n",
      "        0.08103333,  0.06097374,  0.14782113,  0.05730284,  0.06435743,\n",
      "        0.13836142,  0.00781481,  0.06008266,  0.11956474,  0.07063232,\n",
      "        0.06021528,  0.03227821,  0.06362727,  0.00356565,  0.05643038,\n",
      "        0.08644246,  0.05184007,  0.08573912,  0.08477353,  0.06339332,\n",
      "        0.05013761, -0.10877432,  0.05803821,  0.11222447,  0.04605618,\n",
      "        0.05805833,  0.08903676,  0.0460599 ,  0.05610479,  0.05669115,\n",
      "        0.05775733,  0.01415211,  0.05083648,  0.1571931 ,  0.07723651,\n",
      "        0.05583359,  0.0653722 ,  0.07019719,  0.06023539,  0.03828074,\n",
      "        0.07278553,  0.0860908 ,  0.06876519,  0.04709554,  0.1618988 ,\n",
      "        0.031909  ,  0.06915858,  0.01102398,  0.11231767,  0.10408393,\n",
      "        0.08275591,  0.03635626,  0.0779622 ,  0.04546758,  0.14981209,\n",
      "        0.15944546,  0.06680867,  0.05575014,  0.04985747,  0.09294831,\n",
      "        0.06494901, -0.09578402,  0.07297925,  0.08651548,  0.05985541,\n",
      "        0.07083348,  0.05469961,  0.05086628,  0.06327859,  0.06616792,\n",
      "        0.05682302,  0.14607477,  0.05112034,  0.07064573,  0.03512552,\n",
      "        0.2278436 ,  0.05164934,  0.02671166,  0.03859218, -0.02596738,\n",
      "        0.04221838,  0.05648402,  0.03530126,  0.05784301,  0.06136565,\n",
      "        0.06132444,  0.05164412,  0.05372209,  0.11884167,  0.06873539,\n",
      "        0.09110355,  0.05535079,  0.06446472,  0.06258754,  0.07676116,\n",
      "        0.04278835,  0.03972467,  0.08473925,  0.04921523,  0.06972185,\n",
      "        0.04752842,  0.05919231,  0.05800916,  0.06473741,  0.0807815 ,\n",
      "        0.05175737], dtype=float32)}, 'Dense_3': {'kernel': array([[-0.02601093,  0.03814068, -0.02320094,  0.02635776],\n",
      "       [ 0.02400524,  0.01667796,  0.02716391,  0.00973783],\n",
      "       [-0.02505875,  0.03532212,  0.02724959,  0.02605676],\n",
      "       ...,\n",
      "       [ 0.00177088, -0.00194992,  0.00244908, -0.00280848],\n",
      "       [ 0.00406974, -0.00575507,  0.00551451,  0.00517709],\n",
      "       [ 0.02892039, -0.02413301, -0.03953096,  0.04224744]],\n",
      "      dtype=float32), 'bias': array([ 0.12247623, -0.00588134, -0.06376141, -0.04394032], dtype=float32)}}}\n"
     ]
    }
   ],
   "source": [
    "\n",
    "print(actor.target_params)"
   ]
  },
  {
   "cell_type": "code",
   "execution_count": null,
   "metadata": {},
   "outputs": [
    {
     "name": "stderr",
     "output_type": "stream",
     "text": [
      "                                                     "
     ]
    },
    {
     "name": "stdout",
     "output_type": "stream",
     "text": [
      "------------------------------\n",
      "10 Suceess Episodes out of 10\n",
      "------------------------------\n"
     ]
    },
    {
     "name": "stderr",
     "output_type": "stream",
     "text": [
      "\r"
     ]
    }
   ],
   "source": [
    "import gymnasium as gym\n",
    "import numpy as np\n",
    "from rebrac_Fetch import make_env, wrap_env, evaluate# ReplayBuffer, create_from\n",
    "# from rebrac_Fetch import actor_action_fn\n",
    "\n",
    "seed = 41\n",
    "\n",
    "@jax.jit\n",
    "def actor_action_fn(params: jax.Array, obs: jax.Array):\n",
    "    return actor.apply_fn(params, obs)\n",
    "\n",
    "\n",
    "env = gym.make(f'FetchReachDense-v2', render_mode='human')\n",
    "env.action_space.seed(seed)\n",
    "env.observation_space.seed(seed)\n",
    "env = wrap_env(env, buffer.mean, buffer.std)\n",
    "\n",
    "\n",
    "\n",
    "for eval_epoch in range(1):\n",
    "    eval_returns, eval_success = evaluate(\n",
    "        env,\n",
    "        actor.params,\n",
    "        actor_action_fn,\n",
    "        10,\n",
    "        seed=41,\n",
    "    )\n",
    "env.close()\n",
    "\n",
    "\n",
    "#eval_env = make_env(config.dataset_name, seed=config.eval_seed)"
   ]
  },
  {
   "cell_type": "code",
   "execution_count": null,
   "metadata": {},
   "outputs": [],
   "source": [
    "from rebrac_Fetch import Config\n",
    "import json\n",
    "with open('/home/nikisim/Mag_diplom/CORL/data/saved_models/FetchPush/config.json') as json_file:\n",
    "    config_dict = json.load(json_file)\n",
    "\n",
    "config = Config.from_dict(Config, config_dict)"
   ]
  },
  {
   "cell_type": "code",
   "execution_count": null,
   "metadata": {},
   "outputs": [
    {
     "data": {
      "text/plain": [
       "'/home/nikisim/Mag_diplom/CORL/data/FetchPushDense.npy'"
      ]
     },
     "execution_count": 5,
     "metadata": {},
     "output_type": "execute_result"
    }
   ],
   "source": [
    "config.dataset_name"
   ]
  },
  {
   "cell_type": "code",
   "execution_count": null,
   "metadata": {},
   "outputs": [
    {
     "name": "stderr",
     "output_type": "stream",
     "text": [
      "2024-04-04 16:25:56.845558: E external/local_xla/xla/stream_executor/cuda/cuda_dnn.cc:9261] Unable to register cuDNN factory: Attempting to register factory for plugin cuDNN when one has already been registered\n",
      "2024-04-04 16:25:56.845620: E external/local_xla/xla/stream_executor/cuda/cuda_fft.cc:607] Unable to register cuFFT factory: Attempting to register factory for plugin cuFFT when one has already been registered\n",
      "2024-04-04 16:25:56.867449: E external/local_xla/xla/stream_executor/cuda/cuda_blas.cc:1515] Unable to register cuBLAS factory: Attempting to register factory for plugin cuBLAS when one has already been registered\n",
      "2024-04-04 16:25:57.505191: W tensorflow/compiler/tf2tensorrt/utils/py_utils.cc:38] TF-TRT Warning: Could not find TensorRT\n",
      "/home/nikisim/.local/lib/python3.10/site-packages/tensorboard/compat/tensorflow_stub/dtypes.py:326: DeprecationWarning: `np.bool8` is a deprecated alias for `np.bool_`.  (Deprecated NumPy 1.24)\n",
      "  np.bool8: (False, True),\n"
     ]
    },
    {
     "data": {
      "text/plain": [
       "{'opt_state': {'0': {'count': array(27500, dtype=int32),\n",
       "   'mu': {'params': {'Dense_0': {'bias': array([-1.2987372e-02,  0.0000000e+00,  0.0000000e+00,  0.0000000e+00,\n",
       "              2.0203024e-02, -1.9912191e-03,  5.8952766e-04,  0.0000000e+00,\n",
       "              0.0000000e+00,  0.0000000e+00, -3.0621034e-03,  0.0000000e+00,\n",
       "              0.0000000e+00,  5.6051939e-45,  5.6051939e-45,  3.3811876e-03,\n",
       "              0.0000000e+00,  5.6051939e-45,  0.0000000e+00,  5.6051939e-45,\n",
       "             -1.1433272e-02, -8.9011341e-03, -3.5869079e-03,  5.6051939e-45,\n",
       "              5.6051939e-45, -5.9464830e-04,  5.6051939e-45,  5.6051939e-45,\n",
       "             -5.7158493e-03,  5.6051939e-45,  5.6051939e-45,  0.0000000e+00,\n",
       "              0.0000000e+00,  5.6051939e-45,  5.6051939e-45,  5.6051939e-45,\n",
       "             -2.7207106e-03,  0.0000000e+00,  3.9559626e-04,  9.3925875e-03,\n",
       "              5.6051939e-45,  5.6051939e-45, -1.0684513e-02,  5.6051939e-45,\n",
       "              8.5089868e-04,  5.6051939e-45,  5.6051939e-45, -1.0263529e-03,\n",
       "              5.6051939e-45,  0.0000000e+00,  5.6051939e-45,  0.0000000e+00,\n",
       "              5.6051939e-45,  5.6051939e-45,  0.0000000e+00,  0.0000000e+00,\n",
       "              4.8385952e-03,  5.6051939e-45,  0.0000000e+00,  0.0000000e+00,\n",
       "              7.6338388e-03, -3.8055610e-04,  5.6051939e-45,  5.6051939e-45,\n",
       "              0.0000000e+00, -1.0644727e-02,  0.0000000e+00, -8.1238942e-04,\n",
       "              1.9502356e-03,  5.6051939e-45, -8.2177557e-03, -9.2267040e-03,\n",
       "             -5.7415725e-03,  5.6051939e-45,  0.0000000e+00,  5.6051939e-45,\n",
       "              0.0000000e+00,  0.0000000e+00,  1.8583190e-21,  5.6051939e-45,\n",
       "              0.0000000e+00,  5.6051939e-45,  5.6051939e-45, -3.5924185e-04,\n",
       "             -6.2275715e-03, -9.5379213e-04,  5.6051939e-45,  0.0000000e+00,\n",
       "              1.8736976e-03,  5.6051939e-45,  5.6051939e-45,  5.6051939e-45,\n",
       "              0.0000000e+00,  5.6051939e-45,  5.6051939e-45,  5.6051939e-45,\n",
       "              0.0000000e+00,  0.0000000e+00,  6.8074609e-03, -6.9010267e-03,\n",
       "             -3.9895219e-03,  5.6051939e-45,  7.4353875e-03, -2.9457705e-03,\n",
       "              5.6051939e-45,  0.0000000e+00,  5.6051939e-45,  0.0000000e+00,\n",
       "              0.0000000e+00, -3.5645152e-03,  0.0000000e+00,  5.6051939e-45,\n",
       "              5.6051939e-45,  0.0000000e+00,  5.6051939e-45,  0.0000000e+00,\n",
       "             -9.0555972e-05, -9.2369020e-03, -7.6464596e-03,  5.6051939e-45,\n",
       "              5.6051939e-45,  0.0000000e+00, -1.9432623e-02,  5.6051939e-45,\n",
       "              1.1818800e-02,  0.0000000e+00,  0.0000000e+00,  1.4879904e-02,\n",
       "              5.6051939e-45,  4.2061680e-03,  0.0000000e+00,  0.0000000e+00,\n",
       "              1.6030129e-03,  5.6051939e-45,  0.0000000e+00,  8.6746179e-05,\n",
       "              5.6051939e-45, -2.0344118e-03,  5.6051939e-45,  5.6051939e-45,\n",
       "              5.6051939e-45,  0.0000000e+00,  2.1902644e-19,  0.0000000e+00,\n",
       "             -2.8548259e-03,  0.0000000e+00,  5.6051939e-45, -4.9472689e-03,\n",
       "             -6.0079340e-03, -2.1671336e-03,  5.6051939e-45, -6.8449369e-03,\n",
       "              0.0000000e+00, -3.4215171e-03,  5.6051939e-45,  0.0000000e+00,\n",
       "             -3.0193315e-03,  5.6051939e-45,  0.0000000e+00,  2.3512286e-04,\n",
       "              5.8415849e-03,  0.0000000e+00,  5.6051939e-45,  0.0000000e+00,\n",
       "             -2.3940937e-03,  5.6051939e-45,  5.6051939e-45,  5.6051939e-45,\n",
       "              5.7961941e-03,  0.0000000e+00, -1.0989774e-03,  0.0000000e+00,\n",
       "             -3.0782048e-03,  1.0930467e-03, -1.3402557e-02,  5.6051939e-45,\n",
       "             -6.2915790e-03,  5.6051939e-45,  1.2390720e-02,  0.0000000e+00,\n",
       "              5.6051939e-45,  1.7417967e-03,  0.0000000e+00,  5.6051939e-45,\n",
       "              1.4749591e-02, -4.9873069e-03,  0.0000000e+00,  5.6051939e-45,\n",
       "              0.0000000e+00, -1.1160030e-02,  5.6051939e-45,  2.2419728e-03,\n",
       "              5.6051939e-45,  5.6051939e-45, -1.2051426e-02, -1.4176229e-03,\n",
       "              5.6051939e-45,  1.5147496e-05,  3.8534086e-03, -5.2603474e-03,\n",
       "              5.6051939e-45,  0.0000000e+00,  0.0000000e+00, -3.5360316e-03,\n",
       "              5.6051939e-45,  1.0984981e-02,  5.6051939e-45,  5.6051939e-45,\n",
       "              5.6051939e-45,  5.6051939e-45,  5.6051939e-45,  0.0000000e+00,\n",
       "              5.6051939e-45,  0.0000000e+00,  5.6943181e-06,  0.0000000e+00,\n",
       "              5.6051939e-45, -7.3157214e-03,  0.0000000e+00,  0.0000000e+00,\n",
       "              3.8147017e-03, -1.6222088e-02,  0.0000000e+00,  2.4193928e-03,\n",
       "              5.6051939e-45,  0.0000000e+00, -2.1154599e-03,  5.6051939e-45,\n",
       "              5.6051939e-45,  4.0985914e-03,  5.6051939e-45,  0.0000000e+00,\n",
       "              0.0000000e+00,  0.0000000e+00,  5.6051939e-45,  0.0000000e+00,\n",
       "              5.6051939e-45,  5.6051939e-45,  5.6051939e-45,  0.0000000e+00,\n",
       "             -2.6265848e-03,  0.0000000e+00,  6.0428362e-03,  5.6051939e-45,\n",
       "              0.0000000e+00,  5.6051939e-45, -8.0681071e-03,  2.6454920e-02,\n",
       "              0.0000000e+00,  5.6051939e-45,  0.0000000e+00,  0.0000000e+00,\n",
       "              4.3282779e-03,  0.0000000e+00,  2.0778742e-02,  7.8899208e-03],\n",
       "            dtype=float32),\n",
       "      'kernel': array([[-0.01756553,  0.        ,  0.        , ...,  0.        ,\n",
       "               0.02799766,  0.01039451],\n",
       "             [-0.00947551,  0.        ,  0.        , ...,  0.        ,\n",
       "               0.01538898,  0.00588195],\n",
       "             [-0.00724721,  0.        ,  0.        , ...,  0.        ,\n",
       "               0.0108781 ,  0.00409739],\n",
       "             ...,\n",
       "             [-0.01756553,  0.        ,  0.        , ...,  0.        ,\n",
       "               0.02799766,  0.01039451],\n",
       "             [-0.00947551,  0.        ,  0.        , ...,  0.        ,\n",
       "               0.01538898,  0.00588195],\n",
       "             [-0.00724721,  0.        ,  0.        , ...,  0.        ,\n",
       "               0.0108781 ,  0.00409739]], dtype=float32)},\n",
       "     'Dense_1': {'bias': array([ 7.17683462e-04,  5.60519386e-45,  5.60519386e-45,  5.60519386e-45,\n",
       "              5.60519386e-45,  5.60519386e-45,  3.49746246e-35,  8.93283286e-05,\n",
       "              5.60519386e-45, -2.21818825e-03, -4.13396978e-04,  5.60519386e-45,\n",
       "              3.60811864e-05,  5.60519386e-45,  5.60519386e-45, -1.92272337e-03,\n",
       "              5.60519386e-45,  5.60519386e-45,  5.60519386e-45,  5.60519386e-45,\n",
       "             -5.52899111e-03,  5.54996868e-39,  1.13086705e-03,  5.60519386e-45,\n",
       "              8.76995735e-04, -7.24354526e-04,  4.61637712e-04, -4.99963295e-04,\n",
       "              2.27789837e-03,  5.60519386e-45,  3.13882047e-05, -5.60519386e-45,\n",
       "             -1.19234435e-03,  5.60519386e-45,  5.60519386e-45, -8.13733728e-04,\n",
       "              5.60519386e-45, -8.83883913e-05,  5.60519386e-45, -5.40740974e-03,\n",
       "             -1.97976828e-03,  5.60519386e-45,  5.60519386e-45,  5.60519386e-45,\n",
       "              5.60519386e-45, -6.77113538e-04,  5.60519386e-45,  5.60519386e-45,\n",
       "             -4.25543170e-04,  5.47315553e-03,  5.60519386e-45,  5.60519386e-45,\n",
       "              2.32001243e-04,  5.60519386e-45,  5.60519386e-45,  5.60519386e-45,\n",
       "             -1.67680642e-04,  1.85517222e-03,  7.36825110e-04,  5.60519386e-45,\n",
       "             -6.47019036e-03,  5.60519386e-45,  1.76807772e-03,  5.60519386e-45,\n",
       "              5.60519386e-45, -3.10957490e-04,  5.60519386e-45, -2.83007743e-04,\n",
       "              9.20442282e-04, -8.54318496e-05,  5.60519386e-45,  5.60519386e-45,\n",
       "              5.60519386e-45, -5.92389028e-04,  9.92383924e-04,  5.60519386e-45,\n",
       "              4.08412307e-04,  5.60519386e-45,  5.60519386e-45,  5.60519386e-45,\n",
       "              5.60519386e-45,  5.60519386e-45,  5.60519386e-45,  1.96251459e-03,\n",
       "             -4.61561664e-04,  5.60519386e-45,  5.60519386e-45,  5.60519386e-45,\n",
       "              5.60519386e-45, -4.03886428e-03,  5.60519386e-45, -5.60519386e-45,\n",
       "              4.97636525e-03,  5.60519386e-45,  3.66897578e-03, -1.10860041e-03,\n",
       "              5.60519386e-45, -3.25565273e-03,  5.60519386e-45,  5.60519386e-45,\n",
       "              5.60519386e-45,  5.60519386e-45,  5.60519386e-45,  5.60519386e-45,\n",
       "             -2.42230250e-04,  5.60519386e-45,  5.60519386e-45,  1.28552993e-03,\n",
       "              5.60519386e-45, -4.32833657e-03,  5.60519386e-45,  9.88242682e-05,\n",
       "              7.71454070e-05, -5.68677904e-04, -8.08369089e-03,  5.60519386e-45,\n",
       "              5.60519386e-45, -2.41433131e-03,  5.60519386e-45,  5.60519386e-45,\n",
       "              3.65619594e-03,  5.60519386e-45, -5.01512201e-04, -3.43444699e-04,\n",
       "              5.60519386e-45,  6.06294302e-03,  5.60519386e-45,  5.60519386e-45,\n",
       "              5.60519386e-45,  5.60519386e-45,  5.92059223e-05,  5.60519386e-45,\n",
       "              4.96453745e-03,  5.60519386e-45,  5.60519386e-45,  5.60519386e-45,\n",
       "             -6.07749564e-04,  5.60519386e-45,  1.03185209e-03, -5.78543812e-04,\n",
       "              2.28835642e-03,  5.45375748e-04,  5.60519386e-45,  5.60519386e-45,\n",
       "             -1.39005890e-03,  2.24816799e-03,  5.60519386e-45,  5.60519386e-45,\n",
       "              5.60519386e-45, -5.10594016e-03, -6.76875003e-04,  5.60519386e-45,\n",
       "              5.60519386e-45,  5.60519386e-45,  5.60519386e-45,  5.60519386e-45,\n",
       "              5.60519386e-45,  3.82610504e-03, -3.42868152e-04,  5.53525053e-04,\n",
       "              5.60519386e-45,  5.60519386e-45,  5.60519386e-45,  5.60519386e-45,\n",
       "              5.60519386e-45,  5.60519386e-45,  5.60519386e-45,  4.15014452e-04,\n",
       "              1.45496820e-40,  5.60519386e-45,  5.60519386e-45,  1.72144058e-03,\n",
       "              2.26421002e-03, -2.10229773e-05, -3.43634421e-03, -5.35263447e-04,\n",
       "              9.01131716e-05,  1.95812085e-04,  5.60519386e-45,  7.04974227e-04,\n",
       "              5.60519386e-45,  5.60519386e-45,  5.60519386e-45,  5.60519386e-45,\n",
       "              5.60519386e-45,  5.60519386e-45,  8.36992869e-04, -3.85472644e-03,\n",
       "             -2.94981437e-04,  5.60519386e-45,  5.60519386e-45,  5.60519386e-45,\n",
       "              5.60519386e-45,  1.51961669e-03,  5.60519386e-45,  5.60519386e-45,\n",
       "              2.44374736e-03,  5.60519386e-45,  5.60519386e-45,  5.60519386e-45,\n",
       "              5.60519386e-45,  5.60519386e-45,  5.60519386e-45,  8.16766675e-26,\n",
       "              1.49420672e-03,  1.29110611e-03,  5.60519386e-45, -3.68748297e-04,\n",
       "              9.09020891e-04,  1.37644366e-03, -1.09432265e-04,  5.60519386e-45,\n",
       "              5.60519386e-45,  5.60519386e-45,  5.60519386e-45,  1.94596360e-04,\n",
       "              5.60519386e-45,  5.60519386e-45,  5.60519386e-45,  5.60519386e-45,\n",
       "              5.60519386e-45, -1.06274628e-03, -3.59802274e-04,  3.15799937e-03,\n",
       "              5.60519386e-45,  9.24337655e-04,  5.60519386e-45, -4.92700667e-04,\n",
       "              5.60519386e-45,  5.60519386e-45,  5.60519386e-45,  5.60519386e-45,\n",
       "              5.60519386e-45,  5.60519386e-45,  5.60519386e-45,  5.60519386e-45,\n",
       "              5.60519386e-45,  5.60519386e-45,  1.43465237e-04,  5.60519386e-45,\n",
       "              5.60519386e-45,  5.60519386e-45,  1.61011296e-04,  6.04890985e-04,\n",
       "              2.93516438e-03, -7.44533027e-04,  5.60519386e-45,  4.45926748e-03,\n",
       "             -4.62693116e-03,  5.60519386e-45, -1.34019146e-03,  6.67204253e-16,\n",
       "              5.60519386e-45,  5.60519386e-45,  5.60519386e-45,  1.94371608e-03],\n",
       "            dtype=float32),\n",
       "      'kernel': array([[-7.7940331e-06,  5.6051939e-45,  0.0000000e+00, ...,\n",
       "               5.6051939e-45, -5.6051939e-45,  3.3415912e-05],\n",
       "             [ 0.0000000e+00,  0.0000000e+00,  0.0000000e+00, ...,\n",
       "               0.0000000e+00,  0.0000000e+00,  0.0000000e+00],\n",
       "             [ 0.0000000e+00,  0.0000000e+00,  0.0000000e+00, ...,\n",
       "               0.0000000e+00,  0.0000000e+00,  0.0000000e+00],\n",
       "             ...,\n",
       "             [ 0.0000000e+00,  0.0000000e+00,  0.0000000e+00, ...,\n",
       "               0.0000000e+00,  0.0000000e+00,  0.0000000e+00],\n",
       "             [ 4.1978918e-05,  5.6051939e-45,  5.6051939e-45, ...,\n",
       "               5.6051939e-45,  5.6051939e-45,  4.2843079e-05],\n",
       "             [ 4.9528899e-07,  5.6051939e-45,  5.6051939e-45, ...,\n",
       "               5.6051939e-45,  5.6051939e-45, -3.5935227e-06]], dtype=float32)},\n",
       "     'Dense_2': {'bias': array([-5.6051939e-45,  5.6051939e-45,  5.6051939e-45,  5.6051939e-45,\n",
       "              5.6051939e-45,  5.6051939e-45,  5.6051939e-45,  5.6051939e-45,\n",
       "              5.6051939e-45,  5.6051939e-45,  5.6051939e-45,  5.6051939e-45,\n",
       "              5.6051939e-45,  5.6051939e-45,  5.6051939e-45,  5.6051939e-45,\n",
       "              3.1302404e-03, -2.0116335e-05,  5.6051939e-45,  5.6051939e-45,\n",
       "              5.6051939e-45,  5.6051939e-45,  5.6051939e-45,  5.6051939e-45,\n",
       "              5.6051939e-45,  5.6051939e-45,  5.6051939e-45,  1.1743865e-26,\n",
       "              5.6051939e-45,  5.6051939e-45,  5.6051939e-45,  5.6051939e-45,\n",
       "              5.6051939e-45,  5.6051939e-45,  5.6051939e-45,  5.6051939e-45,\n",
       "              5.6051939e-45,  5.6051939e-45,  5.6051939e-45,  5.6051939e-45,\n",
       "              5.6051939e-45,  3.2606814e-41,  5.6051939e-45,  5.6051939e-45,\n",
       "              5.6051939e-45,  5.6051939e-45,  5.6051939e-45,  5.6051939e-45,\n",
       "              5.6051939e-45,  5.6051939e-45,  5.6051939e-45,  5.6051939e-45,\n",
       "              5.6051939e-45,  5.6051939e-45,  5.6051939e-45,  5.6051939e-45,\n",
       "              5.6051939e-45,  5.6051939e-45,  5.6051939e-45,  5.6051939e-45,\n",
       "              5.6051939e-45,  5.6051939e-45, -5.6051939e-45,  1.1931104e-03,\n",
       "              5.6051939e-45,  5.6051939e-45,  5.6051939e-45,  5.6051939e-45,\n",
       "              5.6051939e-45,  5.6051939e-45,  5.6051939e-45,  5.6051939e-45,\n",
       "              5.6051939e-45,  5.6051939e-45,  5.6051939e-45,  5.6051939e-45,\n",
       "             -4.6596397e-05,  5.6051939e-45,  5.6051939e-45,  5.6051939e-45,\n",
       "              5.6051939e-45, -1.8346228e-03,  5.6051939e-45,  5.6051939e-45,\n",
       "              5.6051939e-45,  5.6051939e-45,  5.6051939e-45,  5.6051939e-45,\n",
       "              5.6051939e-45,  5.6051939e-45,  5.6051939e-45,  5.6051939e-45,\n",
       "              5.6051939e-45,  5.6051939e-45,  5.6051939e-45,  5.6051939e-45,\n",
       "              5.6051939e-45,  5.6051939e-45,  5.6051939e-45,  5.6051939e-45,\n",
       "              5.6051939e-45,  5.6051939e-45,  5.6051939e-45,  2.5671266e-31,\n",
       "              5.6051939e-45,  5.6051939e-45,  5.6051939e-45,  5.6051939e-45,\n",
       "              5.6051939e-45,  5.6051939e-45,  5.6051939e-45,  5.6051939e-45,\n",
       "              5.6051939e-45,  5.6051939e-45, -5.6051939e-45,  5.6051939e-45,\n",
       "              5.6051939e-45,  5.6051939e-45,  5.6051939e-45,  5.6051939e-45,\n",
       "              5.6051939e-45, -1.8636226e-03,  5.6051939e-45,  5.6051939e-45,\n",
       "              5.6051939e-45,  2.1884341e-03,  5.6051939e-45,  1.5537177e-39,\n",
       "              5.6051939e-45,  5.6051939e-45,  5.6051939e-45,  5.6051939e-45,\n",
       "              5.6051939e-45,  5.6051939e-45,  5.6051939e-45,  5.6051939e-45,\n",
       "             -6.4323982e-04,  5.6051939e-45,  5.6051939e-45,  5.6051939e-45,\n",
       "              5.6051939e-45,  5.6051939e-45,  5.6051939e-45,  5.6051939e-45,\n",
       "              5.6051939e-45,  5.6051939e-45, -2.2312375e-03,  5.6051939e-45,\n",
       "              5.6051939e-45,  5.6051939e-45,  5.6051939e-45,  5.6051939e-45,\n",
       "              5.6051939e-45,  5.6051939e-45,  5.6051939e-45,  2.4842465e-04,\n",
       "              1.5803385e-03,  5.6051939e-45, -5.1380056e-03,  5.6051939e-45,\n",
       "              5.6051939e-45, -1.3321617e-03,  5.6051939e-45,  5.6051939e-45,\n",
       "              5.6051939e-45,  5.6051939e-45,  5.6051939e-45,  5.6051939e-45,\n",
       "              5.6051939e-45,  5.6051939e-45,  5.6051939e-45,  5.6051939e-45,\n",
       "              5.6051939e-45,  5.6051939e-45,  5.6051939e-45,  5.6051939e-45,\n",
       "              5.6051939e-45,  5.6051939e-45,  5.6051939e-45,  5.6051939e-45,\n",
       "              5.6051939e-45,  5.6051939e-45,  5.6051939e-45, -3.7363437e-03,\n",
       "              5.6051939e-45,  5.6051939e-45,  5.6051939e-45,  5.6051939e-45,\n",
       "              5.6051939e-45,  5.6051939e-45,  5.6051939e-45,  5.6051939e-45,\n",
       "              5.6051939e-45,  5.6051939e-45, -1.7492357e-04,  5.6051939e-45,\n",
       "              5.6833692e-14,  5.6051939e-45,  4.8117754e-03,  5.6051939e-45,\n",
       "              5.6051939e-45,  5.6051939e-45,  5.6051939e-45,  5.6051939e-45,\n",
       "             -3.3187699e-03,  4.3379320e-03,  5.6051939e-45,  5.6051939e-45,\n",
       "              5.6051939e-45,  5.6051939e-45,  5.6051939e-45,  5.6051939e-45,\n",
       "              5.6051939e-45,  5.6051939e-45,  5.6051939e-45,  5.6051939e-45,\n",
       "              5.6051939e-45,  5.6051939e-45,  5.6051939e-45,  5.6051939e-45,\n",
       "              5.6051939e-45, -5.6051939e-45,  5.6051939e-45,  5.6051939e-45,\n",
       "             -6.7477522e-05,  1.8683509e-03,  5.6051939e-45,  5.6051939e-45,\n",
       "              5.6051939e-45, -2.3808621e-05,  5.6051939e-45, -5.6051939e-45,\n",
       "              5.6051939e-45,  5.6051939e-45,  5.6051939e-45,  5.6051939e-45,\n",
       "              5.6051939e-45,  5.6051939e-45, -5.9707095e-03,  5.6051939e-45,\n",
       "              5.6051939e-45,  5.6051939e-45,  5.6051939e-45,  5.6051939e-45,\n",
       "              1.0309051e-11,  5.6051939e-45,  5.6051939e-45,  5.6051939e-45,\n",
       "              5.6051939e-45,  5.6051939e-45,  5.6051939e-45,  5.6051939e-45,\n",
       "              5.6051939e-45,  5.6051939e-45,  5.6051939e-45,  5.6051939e-45],\n",
       "            dtype=float32),\n",
       "      'kernel': array([[-6.e-45,  6.e-45,  6.e-45, ...,  6.e-45,  6.e-45,  6.e-45],\n",
       "             [ 0.e+00,  0.e+00,  0.e+00, ...,  0.e+00,  0.e+00,  0.e+00],\n",
       "             [ 0.e+00,  0.e+00,  0.e+00, ...,  0.e+00,  0.e+00,  0.e+00],\n",
       "             ...,\n",
       "             [ 0.e+00,  0.e+00,  0.e+00, ...,  0.e+00,  0.e+00,  0.e+00],\n",
       "             [ 0.e+00,  0.e+00,  0.e+00, ...,  0.e+00,  0.e+00,  0.e+00],\n",
       "             [-6.e-45,  6.e-45,  6.e-45, ..., -6.e-45,  6.e-45,  6.e-45]],\n",
       "            dtype=float32)},\n",
       "     'Dense_3': {'bias': array([ 0.00634788,  0.01019697,  0.00043059, -0.00156852], dtype=float32),\n",
       "      'kernel': array([[-6.e-45, -6.e-45, -6.e-45,  6.e-45],\n",
       "             [-6.e-45, -6.e-45, -6.e-45, -6.e-45],\n",
       "             [ 6.e-45, -6.e-45, -6.e-45, -6.e-45],\n",
       "             ...,\n",
       "             [ 6.e-45, -6.e-45, -6.e-45, -6.e-45],\n",
       "             [ 6.e-45, -6.e-45,  6.e-45,  6.e-45],\n",
       "             [-6.e-45, -6.e-45,  6.e-45, -6.e-45]], dtype=float32)}}},\n",
       "   'nu': {'params': {'Dense_0': {'bias': array([1.42808780e-02, 0.00000000e+00, 0.00000000e+00, 0.00000000e+00,\n",
       "             1.04109878e-02, 1.70604549e-02, 6.79228175e-03, 0.00000000e+00,\n",
       "             0.00000000e+00, 0.00000000e+00, 3.78418830e-04, 0.00000000e+00,\n",
       "             0.00000000e+00, 1.53329456e-04, 3.25296075e-11, 8.34662747e-03,\n",
       "             0.00000000e+00, 2.70209988e-13, 0.00000000e+00, 1.93558981e-28,\n",
       "             1.58505104e-02, 1.34751499e-02, 2.16227155e-02, 1.11075826e-06,\n",
       "             5.84679401e-06, 5.72329154e-04, 9.07936339e-07, 4.21901446e-12,\n",
       "             3.38032767e-02, 6.70089886e-11, 6.49632292e-11, 0.00000000e+00,\n",
       "             0.00000000e+00, 1.01910858e-11, 3.93236604e-13, 1.81461166e-06,\n",
       "             2.18795985e-02, 0.00000000e+00, 4.19964083e-03, 4.99835890e-03,\n",
       "             1.50034938e-03, 8.20052012e-11, 6.13897946e-03, 3.73257762e-12,\n",
       "             3.77602950e-02, 7.94867537e-06, 1.63225995e-05, 2.47885101e-03,\n",
       "             1.80298980e-06, 0.00000000e+00, 4.03357917e-05, 0.00000000e+00,\n",
       "             2.22711587e-05, 9.81942321e-07, 0.00000000e+00, 0.00000000e+00,\n",
       "             1.72519824e-03, 3.10341949e-13, 0.00000000e+00, 0.00000000e+00,\n",
       "             2.30525830e-03, 8.95067467e-04, 3.23668094e-13, 5.30614079e-06,\n",
       "             0.00000000e+00, 3.82464975e-02, 0.00000000e+00, 3.38784768e-03,\n",
       "             3.96953197e-03, 1.37785685e-06, 1.54200019e-02, 1.34254200e-02,\n",
       "             5.50580397e-03, 2.17045294e-06, 0.00000000e+00, 1.39248505e-06,\n",
       "             0.00000000e+00, 0.00000000e+00, 7.46349178e-06, 1.52693288e-12,\n",
       "             0.00000000e+00, 5.16514349e-13, 5.14865993e-03, 7.80818006e-03,\n",
       "             2.58532073e-02, 2.89029852e-02, 1.39785853e-23, 0.00000000e+00,\n",
       "             4.94488981e-03, 1.49818311e-06, 4.97678093e-06, 6.29938857e-09,\n",
       "             0.00000000e+00, 7.84500416e-12, 2.02375395e-06, 5.21461686e-07,\n",
       "             0.00000000e+00, 0.00000000e+00, 3.86273628e-03, 1.39449059e-03,\n",
       "             2.50404179e-02, 1.90493597e-06, 2.10450473e-03, 3.69570069e-02,\n",
       "             1.53935325e-05, 0.00000000e+00, 1.47362452e-05, 0.00000000e+00,\n",
       "             0.00000000e+00, 4.41662007e-04, 0.00000000e+00, 1.22687646e-26,\n",
       "             2.18994988e-04, 0.00000000e+00, 2.63204996e-12, 0.00000000e+00,\n",
       "             6.08499568e-06, 9.95404087e-03, 1.17260199e-02, 1.02745181e-08,\n",
       "             1.72751709e-06, 0.00000000e+00, 7.74940401e-02, 5.29177093e-12,\n",
       "             2.14340165e-02, 0.00000000e+00, 0.00000000e+00, 3.81247289e-02,\n",
       "             5.28010795e-13, 6.13393635e-03, 0.00000000e+00, 0.00000000e+00,\n",
       "             2.62946021e-02, 5.51301409e-13, 0.00000000e+00, 3.80187877e-03,\n",
       "             4.67833498e-12, 1.18901776e-02, 1.36297237e-13, 6.10959887e-07,\n",
       "             1.87675184e-07, 0.00000000e+00, 3.81633026e-06, 0.00000000e+00,\n",
       "             2.07435749e-02, 0.00000000e+00, 5.56550731e-07, 2.09013317e-02,\n",
       "             5.24600688e-03, 2.21902821e-02, 2.73884361e-24, 1.10081658e-02,\n",
       "             0.00000000e+00, 4.66691293e-02, 2.08514468e-08, 0.00000000e+00,\n",
       "             2.66996697e-02, 2.25918538e-05, 0.00000000e+00, 3.18841799e-03,\n",
       "             5.75984083e-03, 0.00000000e+00, 6.22927465e-25, 0.00000000e+00,\n",
       "             2.79126165e-04, 7.81917890e-08, 3.43933334e-06, 2.12826376e-06,\n",
       "             1.00372462e-02, 0.00000000e+00, 1.06130484e-02, 0.00000000e+00,\n",
       "             1.54015422e-02, 6.71693962e-03, 2.82138456e-02, 1.38824066e-06,\n",
       "             1.91689152e-02, 2.07928508e-07, 2.08092406e-02, 0.00000000e+00,\n",
       "             1.32578922e-26, 2.21442804e-03, 0.00000000e+00, 1.07967866e-12,\n",
       "             3.19386981e-02, 5.84371947e-03, 0.00000000e+00, 7.14848329e-06,\n",
       "             0.00000000e+00, 4.62170877e-03, 3.40400902e-11, 4.33214894e-03,\n",
       "             5.80965658e-11, 1.23691155e-10, 5.97956628e-02, 2.16933526e-02,\n",
       "             5.93426696e-04, 1.33531149e-02, 1.79359205e-02, 2.59699882e-03,\n",
       "             5.04687762e-07, 0.00000000e+00, 0.00000000e+00, 1.03738541e-02,\n",
       "             1.31929374e-12, 3.77451926e-02, 1.82901307e-12, 2.20590437e-18,\n",
       "             1.94701703e-11, 1.23336705e-11, 6.31103059e-04, 0.00000000e+00,\n",
       "             4.29999147e-07, 0.00000000e+00, 5.56539126e-05, 0.00000000e+00,\n",
       "             4.79453499e-09, 1.60883162e-02, 0.00000000e+00, 0.00000000e+00,\n",
       "             1.93148144e-02, 3.22027951e-02, 0.00000000e+00, 2.76808208e-03,\n",
       "             2.71233513e-12, 0.00000000e+00, 7.50564563e-04, 1.83532757e-06,\n",
       "             5.70951597e-09, 1.16492771e-02, 1.80241117e-13, 0.00000000e+00,\n",
       "             0.00000000e+00, 0.00000000e+00, 2.60785588e-13, 0.00000000e+00,\n",
       "             4.07117362e-08, 1.06187405e-13, 2.86128483e-07, 0.00000000e+00,\n",
       "             1.39870290e-02, 0.00000000e+00, 5.19267023e-02, 3.10043896e-12,\n",
       "             0.00000000e+00, 1.42554176e-12, 5.73408371e-03, 3.07359025e-02,\n",
       "             0.00000000e+00, 9.53745439e-06, 0.00000000e+00, 0.00000000e+00,\n",
       "             2.50588497e-03, 0.00000000e+00, 4.25696969e-02, 2.30109934e-02],\n",
       "            dtype=float32),\n",
       "      'kernel': array([[0.02554524, 0.        , 0.        , ..., 0.        , 0.07558762,\n",
       "              0.04140854],\n",
       "             [0.00819027, 0.        , 0.        , ..., 0.        , 0.02432732,\n",
       "              0.01299402],\n",
       "             [0.00427923, 0.        , 0.        , ..., 0.        , 0.01241393,\n",
       "              0.00671459],\n",
       "             ...,\n",
       "             [0.02554524, 0.        , 0.        , ..., 0.        , 0.07558762,\n",
       "              0.04140854],\n",
       "             [0.00819027, 0.        , 0.        , ..., 0.        , 0.02432732,\n",
       "              0.01299402],\n",
       "             [0.00427923, 0.        , 0.        , ..., 0.        , 0.01241393,\n",
       "              0.00671459]], dtype=float32)},\n",
       "     'Dense_1': {'bias': array([2.92877405e-04, 1.11243995e-18, 2.44044566e-23, 7.03539941e-18,\n",
       "             8.86205378e-20, 5.24761437e-18, 9.03887951e-08, 3.36850499e-05,\n",
       "             6.85679737e-19, 4.35217051e-04, 4.14606475e-04, 7.67918857e-21,\n",
       "             7.70489220e-04, 5.50344102e-12, 1.24083212e-13, 1.69484818e-04,\n",
       "             2.74607342e-19, 2.38967960e-12, 3.35127185e-20, 2.41314795e-15,\n",
       "             8.93176720e-03, 9.33251478e-16, 1.98055245e-03, 5.41951863e-07,\n",
       "             3.33916134e-04, 4.63280652e-04, 2.35982839e-06, 5.19712921e-04,\n",
       "             1.05671328e-03, 7.53708072e-21, 4.92845393e-05, 6.56811790e-13,\n",
       "             6.64330972e-03, 7.11352385e-21, 1.39617918e-13, 1.99628776e-04,\n",
       "             2.36970027e-11, 7.17224830e-05, 1.98853165e-18, 1.27925933e-03,\n",
       "             1.03564491e-03, 1.95673855e-20, 1.77774340e-11, 5.49595243e-17,\n",
       "             2.59632090e-20, 5.42476599e-04, 3.94473583e-18, 5.64695649e-18,\n",
       "             4.22219047e-04, 5.82397217e-03, 2.71440823e-17, 1.34225306e-19,\n",
       "             1.56461378e-04, 4.57310513e-13, 7.42041562e-20, 1.15788863e-20,\n",
       "             2.61147056e-06, 9.53070994e-04, 4.82129893e-04, 2.23575444e-13,\n",
       "             5.76104783e-03, 5.17654970e-14, 9.39275138e-04, 1.74977899e-18,\n",
       "             8.55552458e-16, 6.76800337e-05, 3.48457972e-17, 3.59508878e-04,\n",
       "             7.43218407e-04, 5.89815900e-04, 3.47481409e-14, 3.76529103e-13,\n",
       "             4.81773874e-19, 4.46241698e-04, 2.47667893e-04, 2.55616349e-14,\n",
       "             2.15646272e-04, 2.16349875e-18, 2.57437956e-16, 1.49874877e-13,\n",
       "             5.23142985e-19, 1.14337305e-17, 1.15186902e-17, 6.83509046e-03,\n",
       "             3.63381376e-04, 1.24032044e-17, 6.40655383e-21, 2.93098960e-13,\n",
       "             1.11796653e-13, 1.62888129e-04, 3.70791849e-16, 7.36649355e-08,\n",
       "             3.73379851e-04, 2.60312860e-09, 3.16165318e-03, 3.28438182e-04,\n",
       "             2.36019442e-15, 5.01616916e-04, 8.03968866e-17, 2.96166591e-10,\n",
       "             5.13664038e-20, 9.03747487e-20, 4.26120185e-14, 3.75535200e-18,\n",
       "             5.28108445e-04, 1.74835970e-19, 1.44563983e-23, 2.47334770e-04,\n",
       "             2.23737032e-18, 2.04886729e-03, 8.62991329e-19, 5.13385894e-05,\n",
       "             1.89767306e-04, 5.56388986e-04, 1.13981022e-02, 7.04121816e-10,\n",
       "             3.13074776e-20, 3.63101426e-04, 4.56389043e-14, 1.02466564e-18,\n",
       "             3.33392760e-03, 8.72813242e-15, 1.25226070e-04, 7.22811164e-05,\n",
       "             4.35604261e-11, 1.45291514e-03, 4.76169580e-18, 2.51338880e-12,\n",
       "             2.83458899e-11, 9.04097896e-15, 2.36578309e-03, 5.00283105e-12,\n",
       "             3.28953669e-04, 2.36019477e-17, 3.82237055e-11, 4.71651341e-20,\n",
       "             1.52339650e-04, 1.24336450e-20, 1.08115026e-03, 1.41704120e-04,\n",
       "             6.93504524e-04, 1.98332506e-04, 1.44690062e-16, 2.11980683e-23,\n",
       "             2.35554253e-04, 1.10214564e-03, 2.11581030e-11, 2.33636550e-20,\n",
       "             2.53052787e-15, 2.22549448e-03, 4.34097863e-04, 1.86256073e-21,\n",
       "             3.39795038e-15, 2.55145183e-10, 6.67573218e-19, 3.94474259e-20,\n",
       "             4.26039581e-18, 3.73242470e-03, 1.23422869e-04, 1.48963658e-02,\n",
       "             1.66327022e-19, 1.22710931e-18, 1.02693990e-16, 4.03912376e-18,\n",
       "             4.56328392e-23, 3.98775197e-13, 3.17526989e-18, 5.86054579e-04,\n",
       "             1.87782645e-12, 8.53923814e-20, 1.83067577e-17, 4.00360004e-04,\n",
       "             2.95407465e-03, 4.81033436e-04, 2.11229734e-03, 8.25305469e-04,\n",
       "             9.48990782e-05, 1.12886273e-05, 4.91966601e-09, 5.19179739e-04,\n",
       "             3.11432204e-16, 3.98943472e-14, 2.12558484e-06, 1.11249498e-17,\n",
       "             5.44138134e-17, 5.93873977e-22, 8.74728779e-04, 9.61029611e-04,\n",
       "             9.76449373e-05, 1.27132424e-15, 3.09057704e-08, 6.64481176e-18,\n",
       "             1.03213644e-11, 4.23710735e-04, 5.77272672e-14, 2.24583920e-18,\n",
       "             6.21527783e-04, 1.52986421e-19, 2.67155086e-13, 5.63000896e-17,\n",
       "             4.93695473e-10, 6.12610240e-10, 3.74373865e-11, 3.28379599e-07,\n",
       "             6.92210626e-04, 2.74555496e-04, 2.83263109e-24, 2.79587810e-04,\n",
       "             4.97786910e-04, 4.20640106e-04, 8.46047478e-04, 1.78796119e-14,\n",
       "             1.07608281e-21, 1.49096552e-19, 1.87226347e-13, 1.73288106e-04,\n",
       "             2.96115440e-20, 1.90745905e-18, 2.61652737e-19, 5.97624477e-15,\n",
       "             1.46151419e-16, 4.28021187e-04, 4.09813685e-04, 2.75509059e-03,\n",
       "             1.59534431e-15, 1.77861366e-03, 2.73238745e-12, 7.49729516e-04,\n",
       "             2.20755561e-23, 1.44865568e-18, 1.32518801e-17, 3.38310434e-19,\n",
       "             1.69683514e-22, 6.05431569e-16, 7.17402501e-20, 4.07920734e-15,\n",
       "             4.15636289e-14, 3.13516269e-14, 7.27107035e-05, 8.23655500e-17,\n",
       "             2.65351576e-20, 4.33191701e-07, 2.75328755e-04, 9.89363689e-05,\n",
       "             2.88596563e-03, 4.11842222e-04, 2.57290931e-18, 5.52911265e-03,\n",
       "             5.32075251e-03, 3.04011416e-09, 1.62849014e-04, 5.86200635e-08,\n",
       "             2.30187583e-16, 2.82892993e-22, 2.18179682e-13, 3.33375618e-04],\n",
       "            dtype=float32),\n",
       "      'kernel': array([[7.0119931e-08, 8.3501659e-23, 0.0000000e+00, ..., 3.0146391e-25,\n",
       "              7.3798998e-23, 1.8961649e-07],\n",
       "             [0.0000000e+00, 0.0000000e+00, 0.0000000e+00, ..., 0.0000000e+00,\n",
       "              0.0000000e+00, 0.0000000e+00],\n",
       "             [0.0000000e+00, 0.0000000e+00, 0.0000000e+00, ..., 0.0000000e+00,\n",
       "              0.0000000e+00, 0.0000000e+00],\n",
       "             ...,\n",
       "             [0.0000000e+00, 0.0000000e+00, 0.0000000e+00, ..., 0.0000000e+00,\n",
       "              0.0000000e+00, 0.0000000e+00],\n",
       "             [3.8255496e-07, 2.0407618e-21, 7.2920885e-27, ..., 4.0291090e-25,\n",
       "              5.8682773e-17, 1.3405020e-07],\n",
       "             [7.7605614e-07, 2.0436703e-21, 1.1713903e-26, ..., 3.5503683e-24,\n",
       "              3.1431786e-16, 3.7277988e-07]], dtype=float32)},\n",
       "     'Dense_2': {'bias': array([2.9315720e-19, 2.8550296e-16, 1.2110893e-17, 5.9428886e-15,\n",
       "             1.8916740e-20, 3.0042780e-20, 4.2369936e-21, 1.1226960e-12,\n",
       "             1.7773569e-21, 1.9152818e-11, 1.2375536e-09, 1.9014543e-20,\n",
       "             6.5812208e-12, 1.4457128e-12, 3.8717087e-20, 2.9898772e-21,\n",
       "             3.6223163e-03, 6.5899431e-03, 2.8884266e-15, 4.2211082e-15,\n",
       "             4.4296711e-13, 3.1744851e-15, 4.9704715e-15, 1.4032161e-20,\n",
       "             2.1300597e-19, 2.9769386e-14, 8.1970026e-13, 2.0453652e-12,\n",
       "             3.9207918e-15, 3.2079118e-20, 9.2181317e-15, 4.0186032e-19,\n",
       "             3.6070122e-14, 9.5548722e-15, 2.0676071e-14, 2.4063199e-20,\n",
       "             1.8289531e-13, 1.4384929e-21, 7.6794571e-08, 8.6296651e-21,\n",
       "             1.1490225e-20, 3.1202105e-09, 2.4580998e-10, 4.4052925e-21,\n",
       "             2.5556330e-20, 6.6342870e-21, 3.4359953e-15, 1.2821739e-11,\n",
       "             8.6028874e-14, 4.7172289e-21, 9.2574855e-21, 1.0309451e-14,\n",
       "             4.2949403e-15, 5.1677463e-15, 4.5772075e-19, 3.8210093e-20,\n",
       "             4.2490328e-15, 3.6038226e-14, 8.2204149e-15, 6.1892223e-15,\n",
       "             9.1708220e-24, 5.4569644e-15, 2.3921783e-14, 4.2293374e-03,\n",
       "             2.9041897e-14, 1.4461469e-19, 8.7679360e-21, 2.3068385e-13,\n",
       "             8.6849676e-15, 9.0266751e-15, 5.6001129e-21, 8.1843745e-15,\n",
       "             1.2430871e-12, 1.3362764e-20, 7.8319292e-15, 7.8640262e-19,\n",
       "             3.8060702e-03, 1.7844312e-13, 2.2414231e-20, 3.3300238e-15,\n",
       "             6.4113723e-12, 2.8449818e-03, 3.7585824e-12, 8.5109066e-15,\n",
       "             2.1898108e-17, 1.1316405e-15, 9.4974560e-15, 3.0235570e-14,\n",
       "             1.5142091e-11, 5.4184474e-21, 5.3058718e-13, 1.4677239e-11,\n",
       "             3.1006238e-20, 7.2081746e-12, 4.8194835e-23, 2.0462451e-13,\n",
       "             3.2720349e-15, 3.4554130e-14, 4.3782927e-13, 3.7525493e-21,\n",
       "             1.5007677e-19, 2.0931741e-14, 1.1090589e-19, 1.5257118e-06,\n",
       "             2.3457752e-14, 1.8143539e-14, 1.3693743e-13, 2.1835682e-12,\n",
       "             4.2492666e-15, 3.6547684e-15, 2.9312615e-20, 1.7981010e-14,\n",
       "             2.4464981e-24, 9.1522553e-11, 1.7463413e-19, 3.2339427e-20,\n",
       "             5.2055291e-14, 3.8183744e-14, 5.8115067e-20, 8.6723771e-24,\n",
       "             1.3150168e-20, 9.6915162e-04, 5.3560818e-13, 9.0162751e-20,\n",
       "             6.9062898e-12, 2.6745808e-03, 4.1205159e-20, 2.5954982e-14,\n",
       "             7.6643011e-14, 3.4568152e-13, 6.1672734e-16, 4.5039783e-13,\n",
       "             7.8927393e-21, 5.6759615e-21, 1.3756075e-14, 3.7390708e-16,\n",
       "             5.3822896e-03, 5.1462612e-10, 3.5909607e-20, 6.0420788e-23,\n",
       "             2.3139470e-20, 1.3843829e-19, 1.1963703e-19, 5.4259563e-15,\n",
       "             1.2041709e-09, 4.2966702e-18, 3.2752843e-03, 4.6192146e-15,\n",
       "             1.9623451e-20, 6.3928460e-21, 4.5481365e-13, 4.3555021e-21,\n",
       "             3.8421382e-13, 1.6045822e-26, 1.5793993e-12, 4.5470706e-06,\n",
       "             4.1117924e-04, 7.3270754e-21, 3.7368871e-03, 1.2671179e-19,\n",
       "             1.4252415e-14, 3.8667797e-04, 4.0746655e-15, 1.4390201e-19,\n",
       "             3.4191010e-15, 3.4905685e-12, 5.0502870e-21, 1.2090030e-14,\n",
       "             1.1707909e-14, 5.7124610e-17, 1.6589830e-14, 1.5125323e-14,\n",
       "             1.8954337e-21, 1.1055440e-14, 8.4518280e-19, 7.3703827e-15,\n",
       "             1.5926544e-14, 8.1236798e-19, 4.3976791e-21, 4.7017907e-13,\n",
       "             2.0606106e-14, 9.3622454e-10, 1.2636331e-20, 3.1685967e-03,\n",
       "             8.8545792e-15, 8.7323809e-21, 4.8566173e-19, 1.0925937e-18,\n",
       "             2.6046108e-12, 7.1469011e-12, 5.1797688e-10, 1.7650232e-14,\n",
       "             7.3783276e-20, 6.0232966e-21, 2.2953991e-03, 1.8608955e-14,\n",
       "             2.7590611e-16, 1.6069787e-14, 4.8650778e-03, 2.1619375e-19,\n",
       "             1.1812760e-14, 1.7071651e-20, 2.7977424e-14, 3.2527937e-15,\n",
       "             4.0720534e-03, 3.2310851e-03, 7.6992349e-20, 3.9241673e-15,\n",
       "             4.0590942e-20, 1.0320042e-05, 3.6621821e-15, 2.1110479e-12,\n",
       "             2.3531905e-20, 7.6377986e-15, 6.4444363e-15, 6.4468438e-11,\n",
       "             4.2448029e-12, 1.4739748e-20, 1.1620054e-12, 4.0636503e-15,\n",
       "             7.5829718e-15, 1.1994950e-14, 1.2542952e-20, 4.9504991e-21,\n",
       "             5.4079523e-05, 2.8170883e-03, 1.2223074e-20, 3.2092245e-17,\n",
       "             3.7664244e-20, 1.1484419e-05, 7.5881034e-21, 1.2445264e-20,\n",
       "             7.7981063e-15, 3.4382667e-21, 9.7977622e-15, 1.4067336e-09,\n",
       "             4.7374891e-21, 2.2976955e-20, 3.7808726e-03, 4.5445526e-11,\n",
       "             7.8246768e-13, 1.8059915e-14, 3.9536300e-15, 4.9752094e-15,\n",
       "             4.2727348e-05, 6.7407445e-15, 7.5047383e-14, 1.4325911e-14,\n",
       "             5.9893041e-19, 3.8514431e-15, 6.1292609e-21, 1.2283673e-13,\n",
       "             7.8515406e-12, 5.4109103e-21, 4.7248275e-23, 2.2324423e-23],\n",
       "            dtype=float32),\n",
       "      'kernel': array([[1.8876441e-20, 5.4345820e-18, 2.1006598e-19, ..., 2.8314457e-22,\n",
       "              2.9000856e-24, 3.6440507e-24],\n",
       "             [0.0000000e+00, 0.0000000e+00, 0.0000000e+00, ..., 0.0000000e+00,\n",
       "              0.0000000e+00, 0.0000000e+00],\n",
       "             [0.0000000e+00, 0.0000000e+00, 0.0000000e+00, ..., 0.0000000e+00,\n",
       "              0.0000000e+00, 0.0000000e+00],\n",
       "             ...,\n",
       "             [0.0000000e+00, 0.0000000e+00, 0.0000000e+00, ..., 0.0000000e+00,\n",
       "              0.0000000e+00, 0.0000000e+00],\n",
       "             [0.0000000e+00, 0.0000000e+00, 0.0000000e+00, ..., 0.0000000e+00,\n",
       "              0.0000000e+00, 0.0000000e+00],\n",
       "             [3.1578385e-21, 2.8495765e-19, 1.8217120e-19, ..., 8.0184265e-23,\n",
       "              3.0872148e-25, 4.5787277e-25]], dtype=float32)},\n",
       "     'Dense_3': {'bias': array([0.02074373, 0.01704901, 0.01873242, 0.0019616 ], dtype=float32),\n",
       "      'kernel': array([[3.0323041e-18, 5.1282307e-18, 8.8612054e-19, 3.1663281e-18],\n",
       "             [5.4333501e-17, 1.0252972e-18, 5.5312198e-19, 4.8270916e-20],\n",
       "             [5.0615045e-18, 7.4190226e-18, 8.1564584e-19, 3.8268217e-18],\n",
       "             ...,\n",
       "             [4.3609489e-19, 7.5529402e-19, 8.5253764e-20, 4.3927277e-19],\n",
       "             [5.1604322e-24, 8.4728627e-21, 3.3266397e-23, 2.6324157e-23],\n",
       "             [2.6498363e-22, 3.7283816e-22, 1.3606307e-21, 6.7583583e-24]],\n",
       "            dtype=float32)}}}},\n",
       "  '1': None},\n",
       " 'params': {'params': {'Dense_0': {'bias': array([ 0.11199293,  0.1       ,  0.1       ,  0.1       ,  0.02476365,\n",
       "            0.02469777,  0.13159434,  0.1       ,  0.1       ,  0.1       ,\n",
       "            0.03997051,  0.1       ,  0.1       , -0.08207917,  0.09432324,\n",
       "            0.0048034 ,  0.1       ,  0.03409988,  0.1       ,  0.09503786,\n",
       "            0.12961145,  0.12482813,  0.01846609, -0.00649955, -0.00252041,\n",
       "            0.0960247 , -0.012429  ,  0.08624418,  0.11820555,  0.0656255 ,\n",
       "            0.07495429,  0.1       ,  0.1       ,  0.06884353,  0.02869159,\n",
       "            0.06411031,  0.0821175 ,  0.1       ,  0.03919098,  0.062595  ,\n",
       "            0.14638409,  0.09877338,  0.08579193,  0.0586996 ,  0.08839629,\n",
       "            0.0350856 ,  0.04848747, -0.0364094 ,  0.11280745,  0.1       ,\n",
       "            0.11163541,  0.1       ,  0.08225323,  0.08628902,  0.1       ,\n",
       "            0.1       ,  0.10833412,  0.05151981,  0.1       ,  0.1       ,\n",
       "           -0.01631327, -0.02367126,  0.0365629 ,  0.09429865,  0.1       ,\n",
       "            0.13693999,  0.1       ,  0.09520363,  0.02369068,  0.01645719,\n",
       "            0.04193383,  0.02607425,  0.12690072,  0.09962978,  0.1       ,\n",
       "            0.11622099,  0.1       ,  0.1       ,  0.07130692,  0.01157548,\n",
       "            0.1       ,  0.03610581,  0.06561495,  0.0284305 ,  0.11263749,\n",
       "            0.11157697,  0.09098487,  0.1       ,  0.12076151,  0.07646586,\n",
       "            0.04846672, -0.03700346,  0.1       ,  0.06500299,  0.06590781,\n",
       "            0.00759324,  0.1       ,  0.1       ,  0.06542684,  0.11595007,\n",
       "            0.13113162,  0.11283894,  0.1414965 ,  0.11877736, -0.02495431,\n",
       "            0.1       ,  0.03831362,  0.1       ,  0.1       ,  0.11817286,\n",
       "            0.1       ,  0.09265067,  0.0416349 ,  0.1       ,  0.0420794 ,\n",
       "            0.1       ,  0.09500111,  0.1188283 ,  0.15281078, -0.02830861,\n",
       "            0.05858265,  0.1       ,  0.10212687,  0.0480942 ,  0.09640292,\n",
       "            0.1       ,  0.1       ,  0.117827  , -0.00591218,  0.0289221 ,\n",
       "            0.1       ,  0.1       ,  0.0798275 ,  0.01797526,  0.1       ,\n",
       "           -0.03236905,  0.06141061,  0.06056755,  0.0655649 , -0.01362191,\n",
       "            0.03355552,  0.1       , -0.04171991,  0.1       ,  0.11050858,\n",
       "            0.1       ,  0.10434909,  0.11978669,  0.1167284 ,  0.05050614,\n",
       "            0.09363145,  0.11736616,  0.1       ,  0.08055551,  0.06256888,\n",
       "            0.1       ,  0.07603728,  0.0834981 ,  0.1       ,  0.16130978,\n",
       "            0.08051758,  0.1       ,  0.09095506,  0.1       ,  0.07677169,\n",
       "           -0.01297232, -0.08562935, -0.04557709, -0.00349738,  0.1       ,\n",
       "            0.17506915,  0.1       ,  0.09457249, -0.01590105,  0.11673773,\n",
       "            0.13154225,  0.10402177, -0.04854833,  0.00761339,  0.1       ,\n",
       "            0.09404086,  0.12553251,  0.1       ,  0.04137477,  0.0371723 ,\n",
       "            0.1418571 ,  0.1       ,  0.03996331,  0.1       ,  0.1439116 ,\n",
       "            0.05331191,  0.0342641 ,  0.08039998,  0.08633461,  0.047484  ,\n",
       "            0.05784759, -0.05475328,  0.06001452,  0.0752496 ,  0.03793676,\n",
       "            0.06411886,  0.1       ,  0.1       ,  0.0664059 ,  0.03912207,\n",
       "            0.07520472,  0.03527496,  0.09151581,  0.06784108,  0.06306029,\n",
       "            0.02629676,  0.1       ,  0.06334597,  0.1       ,  0.10186051,\n",
       "            0.1       , -0.01865699,  0.15260217,  0.1       ,  0.1       ,\n",
       "            0.07168774,  0.03887104,  0.1       ,  0.06933922,  0.05697214,\n",
       "            0.1       ,  0.08199839,  0.02407582,  0.01900411,  0.04043994,\n",
       "           -0.02690253,  0.1       ,  0.1       ,  0.1       ,  0.07890067,\n",
       "            0.1       , -0.04113529,  0.03396282,  0.00516446,  0.1       ,\n",
       "            0.15016581,  0.1       ,  0.12039163,  0.04467952,  0.1       ,\n",
       "            0.0151944 ,  0.15136273,  0.14205779,  0.1       ,  0.12121322,\n",
       "            0.1       ,  0.1       , -0.046404  ,  0.1       ,  0.07163429,\n",
       "            0.11126273], dtype=float32),\n",
       "    'kernel': array([[-0.12451316, -0.22698468, -0.08548546, ..., -0.04975212,\n",
       "            -0.12755598, -0.23829244],\n",
       "           [-0.31431204,  0.14237517,  0.03783202, ...,  0.08671832,\n",
       "            -0.01082166,  0.10126882],\n",
       "           [ 0.03546854, -0.01968372, -0.07256222, ...,  0.10857463,\n",
       "             0.08625378,  0.18761806],\n",
       "           ...,\n",
       "           [-0.05613719, -0.24640918, -0.14659715, ..., -0.22207695,\n",
       "            -0.06411069, -0.10992011],\n",
       "           [ 0.09001157, -0.00241721, -0.0972665 , ...,  0.20183265,\n",
       "             0.20403348, -0.01772107],\n",
       "           [ 0.04983232, -0.09984249,  0.11291629, ...,  0.21878201,\n",
       "             0.06935626, -0.25009358]], dtype=float32)},\n",
       "   'Dense_1': {'bias': array([ 0.11001172,  0.05190874,  0.0690542 ,  0.05514572,  0.07313469,\n",
       "            0.06291662,  0.04654593,  0.08489592,  0.04431657,  0.08993483,\n",
       "            0.09208612,  0.07182247,  0.07362156,  0.033161  ,  0.04295965,\n",
       "            0.07763115,  0.06174785,  0.05743877,  0.06514145,  0.05035655,\n",
       "            0.02626072,  0.0349337 ,  0.12963656,  0.03841134,  0.12576234,\n",
       "            0.12773302,  0.06053512,  0.09988705,  0.07229886,  0.06671644,\n",
       "            0.01859663,  0.06226413,  0.07671154,  0.06637576,  0.05710156,\n",
       "            0.13450515,  0.0523086 ,  0.26545042,  0.06074926,  0.07764979,\n",
       "            0.12102425,  0.06831975,  0.042341  ,  0.07089604,  0.06846742,\n",
       "            0.15547752,  0.07141141,  0.07569513,  0.14772251, -0.00141314,\n",
       "            0.06390433,  0.04741136,  0.10992499,  0.04437833,  0.06047249,\n",
       "            0.06274051,  0.09056412,  0.12295949,  0.10050074,  0.05582165,\n",
       "            0.03359795,  0.03942852,  0.09093614,  0.05998554,  0.05812844,\n",
       "            0.10370106,  0.05404378,  0.11574393,  0.10660803,  0.12740307,\n",
       "            0.07337119,  0.05398793,  0.07105005,  0.12434255,  0.0863901 ,\n",
       "            0.05336998,  0.11263227,  0.05094801,  0.04101728,  0.05078026,\n",
       "            0.06317327,  0.05894964,  0.06118166,  0.02808531,  0.1014055 ,\n",
       "            0.06047912,  0.06803846,  0.04498352,  0.07295635,  0.09558526,\n",
       "            0.07176285,  0.04680184,  0.04657849,  0.01201089,  0.06769989,\n",
       "            0.0871805 ,  0.04476557,  0.09190438,  0.06346001,  0.02557477,\n",
       "            0.07108781,  0.06377769,  0.06793082,  0.06667878,  0.07755331,\n",
       "            0.05683191,  0.07252782,  0.07249513,  0.05189048, -0.00850215,\n",
       "            0.06695987,  0.15714665,  0.09272933,  0.08796842,  0.15266867,\n",
       "            0.04323217,  0.06296183,  0.08695669,  0.05182181,  0.06795483,\n",
       "            0.09846102,  0.04890475,  0.12839304,  0.0832937 ,  0.04765895,\n",
       "            0.01831323,  0.06331594,  0.06038631,  0.06681588,  0.06356515,\n",
       "            0.08660867,  0.05258438,  0.04184492,  0.0655875 ,  0.0669935 ,\n",
       "            0.06144257,  0.12865923,  0.06563116,  0.12853314,  0.0971342 ,\n",
       "            0.08067853,  0.09320316,  0.06565656,  0.07010803,  0.0680047 ,\n",
       "            0.13016963,  0.07305416,  0.06231643,  0.07146422,  0.06147247,\n",
       "            0.10117359,  0.06989407,  0.05915583,  0.02328075,  0.06546318,\n",
       "            0.05634309,  0.0520613 ,  0.12749018,  0.14633618,  0.06767461,\n",
       "            0.06933165,  0.04816246,  0.07812961,  0.05927053,  0.06909198,\n",
       "            0.03978304,  0.06238691,  0.10979508,  0.04165738,  0.07326454,\n",
       "            0.04540728,  0.09672668,  0.08260912,  0.14207241,  0.11254013,\n",
       "            0.11076369,  0.08113778,  0.0806299 ,  0.03138329,  0.08313397,\n",
       "            0.06466669,  0.0735912 ,  0.05231746,  0.03475142,  0.03486761,\n",
       "            0.06871001,  0.13593207,  0.08775616,  0.07203735,  0.06338437,\n",
       "            0.04746655,  0.05130902,  0.02942153,  0.11697906,  0.04721456,\n",
       "            0.06869207,  0.09284487,  0.05846433,  0.04299049,  0.05490396,\n",
       "            0.05652811,  0.03247428,  0.03664729,  0.05403915,  0.09386964,\n",
       "            0.09232263,  0.07146574,  0.04811232,  0.10207415,  0.09435353,\n",
       "            0.19469339,  0.07578942,  0.07007639,  0.06369541,  0.05303743,\n",
       "            0.12476843,  0.07018249,  0.06092632,  0.0707578 ,  0.07270795,\n",
       "            0.06547707,  0.11541606,  0.10762097,  0.10720132,  0.06267515,\n",
       "            0.11297192,  0.04545116,  0.11683845,  0.06496157,  0.07261099,\n",
       "            0.06176218,  0.06875014,  0.0757537 ,  0.06558271,  0.05098059,\n",
       "            0.04451866,  0.06612042,  0.07054346,  0.10684009,  0.07173521,\n",
       "            0.0633581 , -0.00344314,  0.12106073,  0.15573275,  0.06999762,\n",
       "            0.08906133,  0.05978287,  0.10006044,  0.12925386,  0.02663896,\n",
       "            0.0807626 ,  0.04936371,  0.03751592,  0.06875482,  0.05480699,\n",
       "            0.08924406], dtype=float32),\n",
       "    'kernel': array([[-0.04755371,  0.00808945, -0.01126567, ..., -0.03024629,\n",
       "            -0.03424   , -0.10961709],\n",
       "           [-0.01669239, -0.03917913, -0.05912125, ..., -0.01388955,\n",
       "             0.01094705,  0.0526683 ],\n",
       "           [ 0.04180501,  0.02693641, -0.00398654, ...,  0.00840083,\n",
       "             0.00398201,  0.01338798],\n",
       "           ...,\n",
       "           [ 0.00988832, -0.04983863, -0.03566158, ...,  0.004005  ,\n",
       "             0.03692845, -0.05397663],\n",
       "           [-0.07138155, -0.04971284, -0.06481246, ...,  0.00822377,\n",
       "             0.0010719 , -0.32939193],\n",
       "           [ 0.03416113, -0.01855476, -0.05625258, ...,  0.01244469,\n",
       "            -0.06630188, -0.1407418 ]], dtype=float32)},\n",
       "   'Dense_2': {'bias': array([ 0.08667278,  0.05603245,  0.06052226,  0.08104681,  0.07811704,\n",
       "            0.06010458,  0.08526009,  0.02881476,  0.08194771,  0.10417678,\n",
       "            0.05796324,  0.06604121,  0.03298093,  0.04684912,  0.07144064,\n",
       "            0.08913103,  0.14586645,  0.13496369,  0.07821442,  0.07854607,\n",
       "            0.04426822,  0.08517867,  0.07709951,  0.0814982 ,  0.07245426,\n",
       "            0.0600991 ,  0.08817177,  0.04633595,  0.08782196,  0.06431632,\n",
       "            0.10427926,  0.09337357,  0.07165436,  0.07179496,  0.06102315,\n",
       "            0.08863965,  0.06367092,  0.08656892,  0.07485254,  0.09125937,\n",
       "            0.08776164,  0.09974679,  0.06528917,  0.0711419 ,  0.06056333,\n",
       "            0.0922104 , -0.04005216,  0.05416364,  0.05242999,  0.08334289,\n",
       "            0.06241624,  0.06983249,  0.10935231,  0.084252  ,  0.08793853,\n",
       "            0.07806101,  0.10012495,  0.06250431,  0.03424032,  0.09738338,\n",
       "            0.08107992,  0.08075003,  0.15346615,  0.13697946,  0.12564638,\n",
       "            0.07266235,  0.07561739,  0.07675157,  0.07826932,  0.10095604,\n",
       "            0.07561885,  0.09067483,  0.06330722,  0.08271622,  0.07713863,\n",
       "            0.05546014,  0.13985758,  0.05688   ,  0.07099091,  0.09092673,\n",
       "            0.08713341,  0.16556749,  0.06080351,  0.08533439,  0.06456034,\n",
       "            0.05918844,  0.1113194 ,  0.05744195,  0.0239033 ,  0.08755126,\n",
       "            0.11806214,  0.05306371,  0.07451534,  0.06856039,  0.08362756,\n",
       "            0.07108957,  0.08810467,  0.06710713,  0.05492609,  0.08421126,\n",
       "            0.08191554,  0.0508078 ,  0.05980394,  0.02985127,  0.09875274,\n",
       "            0.07853237,  0.05391873,  0.05924314,  0.09305052,  0.07027039,\n",
       "            0.08423232, -0.00251109,  0.08036695,  0.08944197,  0.08763595,\n",
       "            0.07485197,  0.05028644, -0.11861372,  0.07812763,  0.08155254,\n",
       "            0.0735904 , -0.04534549,  0.09788645,  0.07032757,  0.074043  ,\n",
       "            0.15710112,  0.07769494,  0.05301829,  0.07666823,  0.09151821,\n",
       "            0.05960232,  0.09143533,  0.09333979,  0.08678613,  0.08914583,\n",
       "            0.0722856 ,  0.15003347,  0.0694796 ,  0.08125938,  0.07561938,\n",
       "            0.07407007,  0.08319845,  0.08456855,  0.08428418,  0.06025736,\n",
       "            0.07519943,  0.07841165,  0.07934025,  0.07550417,  0.08712898,\n",
       "            0.08103199,  0.08808064,  0.14781803,  0.07949673,  0.06435595,\n",
       "            0.09100834,  0.04167068,  0.08749244,  0.09389929,  0.07063173,\n",
       "            0.06021518,  0.09211805,  0.0833752 ,  0.07837886,  0.08748936,\n",
       "            0.08644129,  0.07821   ,  0.0857387 ,  0.10850232,  0.06339213,\n",
       "            0.07059545, -0.07390943,  0.08895208,  0.0782004 ,  0.07459686,\n",
       "            0.08734303,  0.11587562,  0.07755716,  0.08184212,  0.05669085,\n",
       "            0.05775661,  0.05676017,  0.08174749,  0.12314849,  0.10876778,\n",
       "            0.08510954,  0.06537144,  0.07019678,  0.0917504 ,  0.0657526 ,\n",
       "            0.07278504,  0.11040296,  0.06876489,  0.07578678,  0.153187  ,\n",
       "            0.06212188,  0.06915825,  0.07186867,  0.14933999,  0.07972093,\n",
       "            0.08275583,  0.06784029,  0.07796073,  0.06994476,  0.11097379,\n",
       "            0.15788919,  0.06680848,  0.08073572,  0.08147797,  0.10317401,\n",
       "            0.09641595, -0.04944137,  0.07297833,  0.08651515,  0.05985484,\n",
       "            0.0708331 ,  0.05469904,  0.08127977,  0.06327828,  0.09002104,\n",
       "            0.08749381,  0.13671549,  0.08205011,  0.09199371,  0.08165778,\n",
       "            0.14356495,  0.08086179,  0.05846891,  0.06974263,  0.10826518,\n",
       "            0.07019683,  0.08354737,  0.08822244,  0.08084812,  0.07114056,\n",
       "            0.05784568,  0.08265992,  0.07601795,  0.09884428,  0.09813545,\n",
       "            0.09110248,  0.08092438,  0.06446411,  0.0901811 ,  0.11616776,\n",
       "            0.0742397 ,  0.07147523,  0.11639184,  0.08070183,  0.0882915 ,\n",
       "            0.09021516,  0.05919167,  0.05800905,  0.08739637,  0.08078034,\n",
       "            0.07956596], dtype=float32),\n",
       "    'kernel': array([[-0.03733285, -0.09548417, -0.07133098, ..., -0.04368401,\n",
       "            -0.01731935, -0.01573444],\n",
       "           [ 0.01357085,  0.01942398, -0.02123234, ...,  0.04686356,\n",
       "             0.02497172,  0.01490593],\n",
       "           [-0.0265134 ,  0.02302043,  0.03819664, ..., -0.04443884,\n",
       "            -0.04979445, -0.02008376],\n",
       "           ...,\n",
       "           [ 0.06194869,  0.0203059 , -0.02435826, ..., -0.0606887 ,\n",
       "            -0.05849755,  0.06133388],\n",
       "           [-0.05709413, -0.0120859 ,  0.04325449, ...,  0.00846006,\n",
       "            -0.05191746,  0.05947879],\n",
       "           [-0.03145304, -0.03823998,  0.00546622, ...,  0.03264362,\n",
       "             0.00406889,  0.01856063]], dtype=float32)},\n",
       "   'Dense_3': {'bias': array([ 0.08879472,  0.01610011, -0.0771234 , -0.00469455], dtype=float32),\n",
       "    'kernel': array([[ 0.00556627,  0.00662121,  0.00759199, -0.00485478],\n",
       "           [ 0.02400539,  0.01667814,  0.02716406,  0.00973782],\n",
       "           [ 0.00472977,  0.00511889,  0.00125396, -0.0033754 ],\n",
       "           ...,\n",
       "           [ 0.00444584,  0.00154914,  0.00296744, -0.00305387],\n",
       "           [ 0.00406971, -0.00575499,  0.00551449,  0.00517699],\n",
       "           [-0.00497619,  0.00442233, -0.00495139,  0.00221856]],\n",
       "          dtype=float32)}}},\n",
       " 'step': array(27500, dtype=int32),\n",
       " 'target_params': {'params': {'Dense_0': {'bias': array([ 0.11229955,  0.1       ,  0.1       ,  0.1       ,  0.02520856,\n",
       "            0.025576  ,  0.13136554,  0.1       ,  0.1       ,  0.1       ,\n",
       "            0.04026692,  0.1       ,  0.1       , -0.08207791,  0.09432369,\n",
       "            0.0048823 ,  0.1       ,  0.03410022,  0.1       ,  0.09503895,\n",
       "            0.13107148,  0.12473473,  0.01910222, -0.00649947, -0.00252037,\n",
       "            0.09708176, -0.01242898,  0.08624428,  0.11822286,  0.06562701,\n",
       "            0.07495514,  0.1       ,  0.1       ,  0.06884417,  0.02869165,\n",
       "            0.06411156,  0.08226417,  0.1       ,  0.03964158,  0.06363437,\n",
       "            0.14638467,  0.09877467,  0.08522626,  0.05869983,  0.08828142,\n",
       "            0.03508593,  0.04848805, -0.03610679,  0.1128086 ,  0.1       ,\n",
       "            0.11163588,  0.1       ,  0.08225374,  0.08629047,  0.1       ,\n",
       "            0.1       ,  0.10841719,  0.05152044,  0.1       ,  0.1       ,\n",
       "           -0.01649415, -0.02263311,  0.03656339,  0.09429985,  0.1       ,\n",
       "            0.13713899,  0.1       ,  0.09492496,  0.02352202,  0.01645742,\n",
       "            0.04135525,  0.02614694,  0.12652591,  0.09963   ,  0.1       ,\n",
       "            0.11622246,  0.1       ,  0.1       ,  0.07134295,  0.01157551,\n",
       "            0.1       ,  0.03610592,  0.06561509,  0.02931366,  0.11274903,\n",
       "            0.1118365 ,  0.09098583,  0.1       ,  0.12108447,  0.07646612,\n",
       "            0.04846719, -0.03700297,  0.1       ,  0.06500414,  0.06590864,\n",
       "            0.00759331,  0.1       ,  0.1       ,  0.06624662,  0.11609539,\n",
       "            0.13171671,  0.11283989,  0.14160901,  0.11950433, -0.02495407,\n",
       "            0.1       ,  0.03831704,  0.1       ,  0.1       ,  0.11682946,\n",
       "            0.1       ,  0.09265178,  0.041635  ,  0.1       ,  0.0420798 ,\n",
       "            0.1       ,  0.09462378,  0.11862083,  0.15324593, -0.02830832,\n",
       "            0.05858285,  0.1       ,  0.10270685,  0.04809466,  0.09646548,\n",
       "            0.1       ,  0.1       ,  0.11845794, -0.00591218,  0.02915204,\n",
       "            0.1       ,  0.1       ,  0.07972967,  0.01797547,  0.1       ,\n",
       "           -0.0325227 ,  0.06141109,  0.06060448,  0.06556591, -0.01362182,\n",
       "            0.03355558,  0.1       , -0.04081618,  0.1       ,  0.11030263,\n",
       "            0.1       ,  0.1043492 ,  0.12041022,  0.11643716,  0.05084594,\n",
       "            0.09363227,  0.11710283,  0.1       ,  0.08079836,  0.06256966,\n",
       "            0.1       ,  0.07558542,  0.08349948,  0.1       ,  0.16175951,\n",
       "            0.08075883,  0.1       ,  0.09095602,  0.1       ,  0.07727791,\n",
       "           -0.0129717 , -0.08562886, -0.04557711, -0.00333921,  0.1       ,\n",
       "            0.17602985,  0.1       ,  0.09442434, -0.01688647,  0.11632518,\n",
       "            0.1315431 ,  0.1038053 , -0.04854766,  0.00702732,  0.1       ,\n",
       "            0.09404206,  0.1260743 ,  0.1       ,  0.04137497,  0.03797886,\n",
       "            0.14184842,  0.1       ,  0.03996383,  0.1       ,  0.14361095,\n",
       "            0.05331231,  0.03337713,  0.08040152,  0.08633517,  0.04812342,\n",
       "            0.05820446, -0.05475326,  0.06046642,  0.0752495 ,  0.03854315,\n",
       "            0.06411901,  0.1       ,  0.1       ,  0.06617896,  0.03912266,\n",
       "            0.07546528,  0.03527518,  0.09151631,  0.06784132,  0.06306103,\n",
       "            0.02629703,  0.1       ,  0.06334713,  0.1       ,  0.10169906,\n",
       "            0.1       , -0.01865683,  0.1528905 ,  0.1       ,  0.1       ,\n",
       "            0.07180779,  0.03876176,  0.1       ,  0.06881735,  0.05697278,\n",
       "            0.1       ,  0.08260167,  0.02407601,  0.0190044 ,  0.04000675,\n",
       "           -0.0269024 ,  0.1       ,  0.1       ,  0.1       ,  0.07890098,\n",
       "            0.1       , -0.04113507,  0.03396313,  0.00516451,  0.1       ,\n",
       "            0.15076518,  0.1       ,  0.12081622,  0.04468006,  0.1       ,\n",
       "            0.01519445,  0.15163584,  0.14258827,  0.1       ,  0.12121435,\n",
       "            0.1       ,  0.1       , -0.04643378,  0.1       ,  0.0717617 ,\n",
       "            0.11118079], dtype=float32),\n",
       "    'kernel': array([[-0.12408706, -0.22698468, -0.08548546, ..., -0.04975212,\n",
       "            -0.12722765, -0.23831621],\n",
       "           [-0.31415334,  0.14237517,  0.03783202, ...,  0.08671832,\n",
       "            -0.01116021,  0.10090276],\n",
       "           [ 0.03589767, -0.01968372, -0.07256222, ...,  0.10857463,\n",
       "             0.08571066,  0.18731757],\n",
       "           ...,\n",
       "           [-0.05571094, -0.24640918, -0.14659715, ..., -0.22207695,\n",
       "            -0.0637822 , -0.10994372],\n",
       "           [ 0.0901707 , -0.00241721, -0.0972665 , ...,  0.20183265,\n",
       "             0.20369512, -0.01808724],\n",
       "           [ 0.05026146, -0.09984249,  0.11291629, ...,  0.21878201,\n",
       "             0.0688132 , -0.25039464]], dtype=float32)},\n",
       "   'Dense_1': {'bias': array([ 0.11063854,  0.05190936,  0.06905428,  0.0551459 ,  0.07313571,\n",
       "            0.06291798,  0.04725859,  0.08420817,  0.04431721,  0.09017665,\n",
       "            0.09369211,  0.07182292,  0.07351995,  0.03316145,  0.04295971,\n",
       "            0.07866727,  0.06174861,  0.05743919,  0.06514272,  0.05035666,\n",
       "            0.02562789,  0.03579978,  0.12992717,  0.03841187,  0.12602827,\n",
       "            0.12816085,  0.05048877,  0.10089136,  0.07248353,  0.06671777,\n",
       "            0.02059571,  0.06226344,  0.07840078,  0.06637654,  0.05710167,\n",
       "            0.1351115 ,  0.05230871,  0.266303  ,  0.06074948,  0.07863525,\n",
       "            0.12057915,  0.06832114,  0.04234131,  0.07089756,  0.06846866,\n",
       "            0.15548207,  0.07141165,  0.07569573,  0.14843094, -0.00090355,\n",
       "            0.06390443,  0.04741144,  0.11032282,  0.04437905,  0.06047307,\n",
       "            0.06274103,  0.08825214,  0.12414546,  0.10162433,  0.05582241,\n",
       "            0.03292229,  0.03942888,  0.09178703,  0.0599858 ,  0.05812911,\n",
       "            0.10464233,  0.05404395,  0.11561053,  0.10749328,  0.12783584,\n",
       "            0.07337264,  0.05398807,  0.07105104,  0.12406119,  0.08815895,\n",
       "            0.05337042,  0.11322676,  0.05094824,  0.04101735,  0.05078059,\n",
       "            0.06317428,  0.05895017,  0.06118236,  0.02847638,  0.10042837,\n",
       "            0.06047977,  0.06803951,  0.04498404,  0.0729569 ,  0.09431042,\n",
       "            0.07176331,  0.04680124,  0.04722918,  0.01227117,  0.06857477,\n",
       "            0.08660673,  0.04476574,  0.09184551,  0.06346038,  0.02557507,\n",
       "            0.07108829,  0.06377777,  0.06793222,  0.06667903,  0.07824708,\n",
       "            0.05683196,  0.07252923,  0.07343244,  0.05189073, -0.00723907,\n",
       "            0.06696066,  0.15901253,  0.0927965 ,  0.08742317,  0.15282294,\n",
       "            0.04323241,  0.06296268,  0.08759493,  0.05182219,  0.06795606,\n",
       "            0.09902569,  0.04890528,  0.12812251,  0.08416195,  0.04766911,\n",
       "            0.01993924,  0.06331733,  0.06038664,  0.06681612,  0.06356618,\n",
       "            0.08852778,  0.05258513,  0.04205479,  0.06558827,  0.06699494,\n",
       "            0.06144313,  0.12907572,  0.06563148,  0.12924325,  0.09720521,\n",
       "            0.08038398,  0.09296915,  0.06565681,  0.07010928,  0.06846348,\n",
       "            0.13102086,  0.07305524,  0.06231708,  0.07146529,  0.06148418,\n",
       "            0.10109709,  0.0698947 ,  0.05915655,  0.02328217,  0.06546459,\n",
       "            0.05634321,  0.05206135,  0.12764657,  0.14725594,  0.06815121,\n",
       "            0.06933293,  0.04816321,  0.07813059,  0.05927129,  0.06909302,\n",
       "            0.03978353,  0.06238712,  0.10893001,  0.04240257,  0.07326535,\n",
       "            0.04540798,  0.09743533,  0.08292819,  0.14277023,  0.11287607,\n",
       "            0.11130944,  0.08098543,  0.08097081,  0.03138355,  0.08384822,\n",
       "            0.06466737,  0.07359169,  0.05232131,  0.03475215,  0.03486837,\n",
       "            0.06871155,  0.13569048,  0.0881708 ,  0.07313193,  0.06338587,\n",
       "            0.04746732,  0.05130959,  0.02971133,  0.11725013,  0.04721475,\n",
       "            0.06869218,  0.09344943,  0.05846439,  0.04299101,  0.0549045 ,\n",
       "            0.05652872,  0.0324745 ,  0.03666245,  0.05455618,  0.09416359,\n",
       "            0.09345254,  0.07146678,  0.04905857,  0.10282021,  0.09441953,\n",
       "            0.19440965,  0.07578961,  0.0700765 ,  0.06369582,  0.05303812,\n",
       "            0.12578578,  0.07018378,  0.06092681,  0.07075898,  0.07270805,\n",
       "            0.065478  ,  0.11538413,  0.10732415,  0.1068185 ,  0.06267621,\n",
       "            0.11280025,  0.04545194,  0.11787542,  0.06496242,  0.07261119,\n",
       "            0.06176276,  0.06875029,  0.07575385,  0.0655838 ,  0.05098102,\n",
       "            0.04451912,  0.06612173,  0.0705444 ,  0.10805472,  0.07173649,\n",
       "            0.06335905, -0.00344313,  0.12091193,  0.15639783,  0.07153291,\n",
       "            0.08837095,  0.05978314,  0.10062407,  0.12894231,  0.02663902,\n",
       "            0.07971907,  0.05698018,  0.03751631,  0.06875625,  0.05480764,\n",
       "            0.0897769 ], dtype=float32),\n",
       "    'kernel': array([[-0.04475639,  0.00808957, -0.01126567, ..., -0.03024622,\n",
       "            -0.03424029, -0.10734716],\n",
       "           [-0.01669239, -0.03917913, -0.05912125, ..., -0.01388955,\n",
       "             0.01094706,  0.0526683 ],\n",
       "           [ 0.04180501,  0.02693641, -0.00398654, ...,  0.00840083,\n",
       "             0.00398201,  0.01338798],\n",
       "           ...,\n",
       "           [ 0.00988833, -0.04983863, -0.03566158, ...,  0.004005  ,\n",
       "             0.03692847, -0.05397663],\n",
       "           [-0.07137989, -0.04971218, -0.06481192, ...,  0.00822387,\n",
       "             0.0010719 , -0.32372895],\n",
       "           [ 0.03513218, -0.01855476, -0.05625231, ...,  0.01244481,\n",
       "            -0.06630055, -0.13698773]], dtype=float32)},\n",
       "   'Dense_2': {'bias': array([ 0.08667195,  0.05603252,  0.06052298,  0.08104824,  0.07811717,\n",
       "            0.06010501,  0.08526079,  0.02881496,  0.08194827,  0.10417823,\n",
       "            0.05796371,  0.06604275,  0.03298114,  0.04684968,  0.07144145,\n",
       "            0.08913212,  0.1450866 ,  0.13464703,  0.07821552,  0.07854633,\n",
       "            0.04426941,  0.08517884,  0.07710091,  0.08149974,  0.07245473,\n",
       "            0.06009979,  0.08817249,  0.04975888,  0.08782231,  0.0643172 ,\n",
       "            0.10428066,  0.09337448,  0.07165454,  0.0717961 ,  0.06102366,\n",
       "            0.08864038,  0.06367198,  0.08656912,  0.07485382,  0.09126001,\n",
       "            0.08776271,  0.10033654,  0.06529024,  0.07114343,  0.06056396,\n",
       "            0.0922107 , -0.04005175,  0.05417099,  0.05246206,  0.08334301,\n",
       "            0.06241692,  0.07001718,  0.10935301,  0.08425348,  0.08794003,\n",
       "            0.07806204,  0.10012621,  0.06250484,  0.03424104,  0.09738439,\n",
       "            0.08108102,  0.08075021,  0.15346572,  0.13669609,  0.1256482 ,\n",
       "            0.07266334,  0.07561824,  0.07675222,  0.07827066,  0.1009562 ,\n",
       "            0.07561973,  0.09067588,  0.06330839,  0.08271717,  0.07713965,\n",
       "            0.05546031,  0.13984667,  0.05688211,  0.07099143,  0.09092771,\n",
       "            0.08713388,  0.16394378,  0.0610665 ,  0.0853353 ,  0.06456158,\n",
       "            0.05918859,  0.11131997,  0.05744217,  0.02390353,  0.0875526 ,\n",
       "            0.11806276,  0.0530642 ,  0.07451556,  0.06856105,  0.08362912,\n",
       "            0.07108978,  0.08810543,  0.06710818,  0.05492685,  0.08421175,\n",
       "            0.08191697,  0.05080817,  0.059804  ,  0.03004444,  0.09875381,\n",
       "            0.07853292,  0.05391878,  0.05924372,  0.09305113,  0.0702717 ,\n",
       "            0.08423261, -0.00251106,  0.08036725,  0.08944207,  0.08763456,\n",
       "            0.07485233,  0.05035713, -0.11861262,  0.0781291 ,  0.08155338,\n",
       "            0.07359169, -0.04614806,  0.09788656,  0.07032833,  0.07404319,\n",
       "            0.15657797,  0.07769547,  0.05390822,  0.07666878,  0.09151929,\n",
       "            0.05960284,  0.09143584,  0.09334021,  0.08678668,  0.08914702,\n",
       "            0.07228635,  0.14953114,  0.06948045,  0.08125983,  0.07561973,\n",
       "            0.0740715 ,  0.08319996,  0.08456938,  0.08428477,  0.06025774,\n",
       "            0.07519952,  0.07944453,  0.07934056,  0.075505  ,  0.08712941,\n",
       "            0.08103333,  0.08808159,  0.14782113,  0.07949702,  0.06435926,\n",
       "            0.09007145,  0.04373767,  0.08749299,  0.09383583,  0.07063232,\n",
       "            0.06021528,  0.09212573,  0.0833758 ,  0.07837944,  0.08749001,\n",
       "            0.08644246,  0.07821105,  0.08573912,  0.10850365,  0.06339332,\n",
       "            0.07059655, -0.07390909,  0.08895331,  0.07820062,  0.07459752,\n",
       "            0.08734398,  0.11587675,  0.07755838,  0.08184247,  0.05669115,\n",
       "            0.05775733,  0.05676044,  0.08174859,  0.12278199,  0.10876889,\n",
       "            0.08511029,  0.0653722 ,  0.07019719,  0.09175175,  0.06575367,\n",
       "            0.07278553,  0.11040355,  0.06876519,  0.07578812,  0.15340023,\n",
       "            0.06212262,  0.08017546,  0.07186911,  0.14941442,  0.07972203,\n",
       "            0.08275591,  0.06784132,  0.0779622 ,  0.06994537,  0.11108354,\n",
       "            0.15756987,  0.06680867,  0.0807368 ,  0.08147888,  0.10317351,\n",
       "            0.09641731, -0.04944098,  0.07297925,  0.08651548,  0.05985541,\n",
       "            0.07083348,  0.05470128,  0.08128069,  0.06327859,  0.09002172,\n",
       "            0.08749449,  0.13671678,  0.08205108,  0.09199464,  0.08186759,\n",
       "            0.14335261,  0.08086197,  0.0584696 ,  0.06974271,  0.10898899,\n",
       "            0.07019719,  0.08354717,  0.08822315,  0.08084856,  0.07114194,\n",
       "            0.05784599,  0.08266054,  0.07601909,  0.09901749,  0.0981369 ,\n",
       "            0.09110355,  0.08092456,  0.06446472,  0.09018265,  0.11621409,\n",
       "            0.07423989,  0.07147572,  0.11639233,  0.08070253,  0.0882917 ,\n",
       "            0.09021544,  0.05919231,  0.05800916,  0.08739763,  0.0807815 ,\n",
       "            0.07956706], dtype=float32),\n",
       "    'kernel': array([[-0.03733303, -0.09548301, -0.0713297 , ..., -0.04368392,\n",
       "            -0.01731908, -0.01573434],\n",
       "           [ 0.01357085,  0.01942398, -0.02123234, ...,  0.04686356,\n",
       "             0.02497172,  0.01490593],\n",
       "           [-0.0265134 ,  0.02302043,  0.03819664, ..., -0.04443884,\n",
       "            -0.04979445, -0.02008376],\n",
       "           ...,\n",
       "           [ 0.06194869,  0.0203059 , -0.02435826, ..., -0.0606887 ,\n",
       "            -0.05849755,  0.06133388],\n",
       "           [-0.05709413, -0.0120859 ,  0.04325449, ...,  0.00846006,\n",
       "            -0.05191746,  0.05947879],\n",
       "           [-0.03145377, -0.03823977,  0.00546626, ...,  0.03264363,\n",
       "             0.00406891,  0.01856072]], dtype=float32)},\n",
       "   'Dense_3': {'bias': array([ 0.08778449,  0.01627995, -0.07730763, -0.0037001 ], dtype=float32),\n",
       "    'kernel': array([[ 0.00556619,  0.0066212 ,  0.00759192, -0.00485476],\n",
       "           [ 0.02400524,  0.01667796,  0.02716391,  0.00973783],\n",
       "           [ 0.00472987,  0.00511888,  0.00125395, -0.00337542],\n",
       "           ...,\n",
       "           [ 0.00444591,  0.00154913,  0.00296741, -0.00305388],\n",
       "           [ 0.00406974, -0.00575507,  0.00551451,  0.00517709],\n",
       "           [-0.0049762 ,  0.00442225, -0.00495134,  0.00221853]],\n",
       "          dtype=float32)}}}}"
      ]
     },
     "execution_count": 17,
     "metadata": {},
     "output_type": "execute_result"
    }
   ],
   "source": [
    "\n",
    "\n",
    "raw_restored = checkpoints.restore_checkpoint(ckpt_dir='/home/nikisim/Mag_diplom/CORL/data/saved_models/flax-checkpointing', target=None)\n",
    "raw_restored"
   ]
  },
  {
   "cell_type": "code",
   "execution_count": null,
   "metadata": {},
   "outputs": [],
   "source": [
    "def reformat_dataset(dataset):\n",
    "\n",
    "    dataset['observations'] = dataset.pop('states')\n",
    "    dataset['actions'] = dataset.pop('actions')\n",
    "    dataset['next_observations'] = dataset.pop('next_states')\n",
    "    dataset['rewards'] = dataset.pop('rewards')\n",
    "    dataset['terminals'] = dataset.pop('last')\n",
    "\n",
    "    del dataset['absorbing']\n",
    "\n",
    "    return dataset"
   ]
  },
  {
   "cell_type": "code",
   "execution_count": null,
   "metadata": {},
   "outputs": [],
   "source": [
    "import numpy as np\n",
    "\n",
    "dataset = np.load('/home/nikisim/Mag_diplom/CORL/data/FetchSlideDense.npy', allow_pickle=True).item()"
   ]
  },
  {
   "cell_type": "code",
   "execution_count": null,
   "metadata": {},
   "outputs": [
    {
     "data": {
      "text/plain": [
       "(700000, 31)"
      ]
     },
     "execution_count": 17,
     "metadata": {},
     "output_type": "execute_result"
    }
   ],
   "source": [
    "dataset['observations'].shape"
   ]
  },
  {
   "cell_type": "code",
   "execution_count": null,
   "metadata": {},
   "outputs": [
    {
     "data": {
      "text/plain": [
       "array([2.2544324, 6.3797736, 4.4776363, 4.0452647, 4.582766 , 5.0749784,\n",
       "       4.974747 , 5.8588576, 6.4720454, 6.1751623, 6.2279344, 5.965443 ,\n",
       "       6.299403 , 5.9506245, 4.6406603, 4.8965163, 5.722931 , 5.6281996,\n",
       "       5.562319 , 6.055037 , 6.2942204, 5.226195 , 5.948885 , 6.503476 ,\n",
       "       6.765685 , 6.0895634, 6.526589 , 6.4900637, 6.6746902, 6.45724  ,\n",
       "       6.2820606, 5.502824 , 6.1139526, 5.2736726, 4.0653906, 4.3741627,\n",
       "       5.524103 , 6.0509505, 5.7410216, 6.535557 , 6.6985726, 7.052505 ,\n",
       "       6.7921224, 6.897555 , 6.4473634, 6.5185194, 6.60545  , 6.7146816,\n",
       "       6.5233507, 6.37828  , 6.4578023, 6.8582006, 5.836542 , 5.2568336,\n",
       "       5.771411 , 6.566861 , 6.488855 , 6.2971597, 6.524319 , 6.2879934,\n",
       "       6.2534723, 6.539673 , 6.8222747, 6.4016824, 6.758068 , 6.6446934,\n",
       "       6.8033857, 6.6996503, 6.7289133, 5.628211 , 6.3594384, 5.462114 ,\n",
       "       4.7341995, 4.4948487, 5.62541  , 6.310379 , 6.064765 , 6.017187 ,\n",
       "       6.660936 , 6.9479465, 6.769294 , 6.6723695, 6.816466 , 6.4193215,\n",
       "       6.5652866, 6.5498967, 6.672628 , 6.343552 , 5.918556 , 6.759626 ,\n",
       "       6.4448166, 5.3721313, 5.591062 , 6.486415 , 6.481651 , 6.3774457,\n",
       "       5.919867 , 6.2168765, 6.7769294, 5.7905364, 6.8438964, 6.788326 ,\n",
       "       6.4278436, 6.848384 , 6.660704 , 6.9680977, 6.902272 , 5.8659706,\n",
       "       5.799663 , 4.6098576, 6.0169396, 5.9858055, 6.740314 , 6.8114467,\n",
       "       6.633563 , 6.230998 , 5.63933  , 6.0032835, 6.3361506, 6.104613 ,\n",
       "       6.532558 , 6.0460343, 6.587483 , 6.6606526, 6.7507296, 5.91498  ,\n",
       "       5.9617662, 6.610916 , 5.834079 , 5.0106187, 4.004682 , 4.629328 ,\n",
       "       5.699605 , 6.409347 , 5.8726616, 6.6922812, 6.758014 , 6.242308 ,\n",
       "       6.5737863, 6.7322736, 6.550802 , 6.567073 , 6.709819 , 6.770117 ,\n",
       "       6.7325683, 6.3164062, 5.734784 , 5.9353695, 4.972785 , 3.9788203,\n",
       "       4.753642 , 5.903927 , 6.6397934, 6.226188 , 6.616587 , 6.5273657,\n",
       "       6.421895 , 6.6944313, 6.829717 , 6.78052  , 6.493608 , 6.6652074,\n",
       "       6.740299 , 6.661526 , 6.7236567, 5.738275 , 6.3766246, 5.2685127,\n",
       "       3.6087525, 4.1126103, 5.2370586, 5.513569 , 5.9860377, 6.1004524,\n",
       "       6.515268 , 6.827506 , 6.3652587, 6.624211 , 6.8628483, 6.3397765,\n",
       "       6.5827975, 6.541169 , 6.812602 , 6.4679313, 6.0075054, 6.2296724,\n",
       "       5.9838314, 5.4458356, 3.795397 , 4.777088 , 5.8245053, 6.479371 ,\n",
       "       5.518834 , 6.778038 , 6.8604584, 7.0016747, 6.5394545, 6.7483444,\n",
       "       6.4936857, 6.616897 , 6.66704  , 6.752577 , 6.3898444, 6.239021 ,\n",
       "       6.258232 , 6.3444996, 5.636813 , 5.037935 , 5.8488765, 6.4671073,\n",
       "       6.472728 , 6.137001 , 6.4304585, 6.219549 , 6.2981906, 6.5313864,\n",
       "       6.888563 , 6.1970787, 6.775476 , 6.51675  , 6.7898736, 6.8836894,\n",
       "       6.2502966, 5.7506714, 6.0826783, 4.849389 , 3.995964 , 4.606438 ,\n",
       "       5.706782 , 6.51477  , 5.953827 , 6.0555015, 6.619328 , 6.774593 ,\n",
       "       6.7072253, 6.67485  , 6.7125616, 6.215876 , 6.4650097, 6.423357 ,\n",
       "       6.2330985, 6.2828054, 5.972352 , 6.668212 , 5.869758 , 4.3603373,\n",
       "       4.541949 , 5.6062665, 6.097353 , 6.114205 , 6.6547103, 6.233974 ,\n",
       "       6.64918  , 6.0374217, 6.9302864, 6.676145 , 6.5050845, 6.7050834,\n",
       "       6.66136  , 6.641238 , 6.3023767, 5.738628 , 6.4266534, 6.3531327,\n",
       "       6.1391797, 4.839914 , 5.9545007, 6.453584 , 6.69515  , 6.293216 ,\n",
       "       6.7786837, 6.48072  , 6.9890943, 6.351754 , 6.1546626, 5.9807014,\n",
       "       6.4123597, 6.6774364, 6.7338166, 6.735818 , 5.99785  , 6.7849374,\n",
       "       5.6007066, 5.3859253, 4.150635 , 5.1692953, 6.153788 , 6.7233834,\n",
       "       5.9420958, 6.8194413, 6.6070075, 6.636594 , 6.5641007, 6.721785 ,\n",
       "       6.2788134, 6.5285378, 6.72736  , 6.736858 , 6.1902566, 6.2057047,\n",
       "       5.9472094, 5.9302344, 5.261904 , 4.490583 , 5.204272 , 6.2880635,\n",
       "       6.6501546, 6.121226 , 6.6450667, 6.2233653, 6.26199  , 6.594289 ,\n",
       "       6.617864 , 6.324091 , 6.6140833, 6.7839847, 6.87487  , 6.626516 ,\n",
       "       6.923521 , 5.681876 , 6.0783753, 4.6750665, 5.410474 , 5.5446043,\n",
       "       6.455006 , 6.5923896, 6.445849 , 5.977535 , 6.661886 , 6.7630706,\n",
       "       6.447242 , 6.378314 , 6.7377987, 6.4345393, 6.672929 , 6.801731 ,\n",
       "       6.7762275, 6.460054 , 5.79862  , 6.29155  , 4.9955254, 4.1268225,\n",
       "       4.187588 , 5.0044966, 5.491699 , 6.0217   , 6.1759114, 6.4635863,\n",
       "       6.6697564, 6.1931643, 6.661205 , 6.9282436, 6.4105353, 6.7172184,\n",
       "       6.6241403, 6.8221045, 6.245457 , 6.0105777, 5.9393077, 5.5632234,\n",
       "       5.79     , 4.328077 , 5.3241706, 6.165035 , 6.5691776, 6.18388  ,\n",
       "       6.7509804, 6.8228383, 6.791691 , 6.4185863, 6.6181326, 6.3583007,\n",
       "       6.5868015, 6.7832594, 6.845149 , 6.1908026, 6.17506  , 6.167743 ,\n",
       "       6.0206423, 5.4090805, 4.6628284, 5.378183 , 6.4240556, 6.650248 ,\n",
       "       6.271656 , 6.606108 , 6.218526 , 6.2575307, 6.5433497, 6.57626  ,\n",
       "       6.2531075, 6.662239 , 6.758477 , 6.870181 , 6.730019 , 6.929332 ,\n",
       "       5.6428246, 5.91679  , 4.7449527, 5.2587023, 2.2544324, 6.3797736,\n",
       "       4.4776363, 4.0452647, 4.582766 , 5.0749784, 4.974747 , 5.8588576,\n",
       "       6.4720454, 6.1751623, 6.2279344, 5.965443 , 6.299403 , 5.9506245,\n",
       "       4.6406603, 4.8965163, 5.722931 , 5.6281996, 5.562319 , 6.055037 ,\n",
       "       6.2942204, 5.226195 , 5.948885 , 6.503476 , 6.765685 , 6.0895634,\n",
       "       6.526589 , 6.4900637, 6.6746902, 6.45724  , 6.2820606, 5.502824 ,\n",
       "       6.1139526, 5.2736726, 4.0653906, 4.3741627, 5.524103 , 6.0509505,\n",
       "       5.7410216, 6.535557 , 6.6985726, 7.052505 , 6.7921224, 6.897555 ,\n",
       "       6.4473634, 6.5185194, 6.60545  , 6.7146816, 6.5233507, 6.37828  ,\n",
       "       6.4578023, 6.8582006, 5.836542 , 5.2568336, 5.771411 , 6.566861 ,\n",
       "       6.488855 , 6.2971597, 6.524319 , 6.2879934, 6.2534723, 6.539673 ,\n",
       "       6.8222747, 6.4016824, 6.758068 , 6.6446934, 6.8033857, 6.6996503,\n",
       "       6.7289133, 5.628211 , 6.3594384, 5.462114 , 4.7341995, 4.4948487,\n",
       "       5.62541  , 6.310379 , 6.064765 , 6.017187 , 6.660936 , 6.9479465,\n",
       "       6.769294 , 6.6723695, 6.816466 , 6.4193215, 6.5652866, 6.5498967,\n",
       "       6.672628 , 6.343552 , 5.918556 , 6.759626 , 6.4448166, 5.3721313,\n",
       "       5.591062 , 6.486415 , 6.481651 , 6.3774457, 5.919867 , 6.2168765,\n",
       "       6.7769294, 5.7905364, 6.8438964, 6.788326 , 6.4278436, 6.848384 ,\n",
       "       6.660704 , 6.9680977, 6.902272 , 5.8659706, 5.799663 , 4.6098576,\n",
       "       6.0169396, 5.9858055, 6.740314 , 6.8114467, 6.633563 , 6.230998 ,\n",
       "       5.63933  , 6.0032835, 6.3361506, 6.104613 , 6.532558 , 6.0460343,\n",
       "       6.587483 , 6.6606526, 6.7507296, 5.91498  , 5.9617662, 6.610916 ,\n",
       "       5.834079 , 5.0106187, 4.004682 , 4.629328 , 5.699605 , 6.409347 ,\n",
       "       5.8726616, 6.6922812, 6.758014 , 6.242308 , 6.5737863, 6.7322736,\n",
       "       6.550802 , 6.567073 , 6.709819 , 6.770117 , 6.7325683, 6.3164062,\n",
       "       5.734784 , 5.9353695, 4.972785 , 3.9788203, 4.753642 , 5.903927 ,\n",
       "       6.6397934, 6.226188 , 6.616587 , 6.5273657, 6.421895 , 6.6944313,\n",
       "       6.829717 , 6.78052  , 6.493608 , 6.6652074, 6.740299 , 6.661526 ,\n",
       "       6.7236567, 5.738275 , 6.3766246, 5.2685127, 3.6087525, 4.1126103,\n",
       "       5.2370586, 5.513569 , 5.9860377, 6.1004524, 6.515268 , 6.827506 ,\n",
       "       6.3652587, 6.624211 , 6.8628483, 6.3397765, 6.5827975, 6.541169 ,\n",
       "       6.812602 , 6.4679313, 6.0075054, 6.2296724, 5.9838314, 5.4458356,\n",
       "       3.795397 , 4.777088 , 5.8245053, 6.479371 , 5.518834 , 6.778038 ,\n",
       "       6.8604584, 7.0016747, 6.5394545, 6.7483444, 6.4936857, 6.616897 ,\n",
       "       6.66704  , 6.752577 , 6.3898444, 6.239021 , 6.258232 , 6.3444996,\n",
       "       5.636813 , 5.037935 , 5.8488765, 6.4671073, 6.472728 , 6.137001 ,\n",
       "       6.4304585, 6.219549 , 6.2981906, 6.5313864, 6.888563 , 6.1970787,\n",
       "       6.775476 , 6.51675  , 6.7898736, 6.8836894, 6.2502966, 5.7506714,\n",
       "       6.0826783, 4.849389 , 3.995964 , 4.606438 , 5.706782 , 6.51477  ,\n",
       "       5.953827 , 6.0555015, 6.619328 , 6.774593 , 6.7072253, 6.67485  ,\n",
       "       6.7125616, 6.215876 , 6.4650097, 6.423357 , 6.2330985, 6.2828054,\n",
       "       5.972352 , 6.668212 , 5.869758 , 4.3603373, 4.541949 , 5.6062665,\n",
       "       6.097353 , 6.114205 , 6.6547103, 6.233974 , 6.64918  , 6.0374217,\n",
       "       6.9302864, 6.676145 , 6.5050845, 6.7050834, 6.66136  , 6.641238 ,\n",
       "       6.3023767, 5.738628 , 6.4266534, 6.3531327, 6.1391797, 4.839914 ,\n",
       "       5.9545007, 6.453584 , 6.69515  , 6.293216 , 6.7786837, 6.48072  ,\n",
       "       6.9890943, 6.351754 , 6.1546626, 5.9807014, 6.4123597, 6.6774364,\n",
       "       6.7338166, 6.735818 , 5.99785  , 6.7849374, 5.6007066, 5.3859253,\n",
       "       4.150635 , 5.1692953, 6.153788 , 6.7233834, 5.9420958, 6.8194413,\n",
       "       6.6070075, 6.636594 , 6.5641007, 6.721785 , 6.2788134, 6.5285378,\n",
       "       6.72736  , 6.736858 , 6.1902566, 6.2057047, 5.9472094, 5.9302344,\n",
       "       5.261904 , 4.490583 , 5.204272 , 6.2880635, 6.6501546, 6.121226 ,\n",
       "       6.6450667, 6.2233653, 6.26199  , 6.594289 , 6.617864 , 6.324091 ,\n",
       "       6.6140833, 6.7839847, 6.87487  , 6.626516 , 6.923521 , 5.681876 ,\n",
       "       6.0783753, 4.6750665, 5.410474 , 5.5446043, 6.455006 , 6.5923896,\n",
       "       6.445849 , 5.977535 , 6.661886 , 6.7630706, 6.447242 , 6.378314 ,\n",
       "       6.7377987, 6.4345393, 6.672929 , 6.801731 , 6.7762275, 6.460054 ,\n",
       "       5.79862  , 6.29155  , 4.9955254, 4.1268225, 4.187588 , 5.0044966,\n",
       "       5.491699 , 6.0217   , 6.1759114, 6.4635863, 6.6697564, 6.1931643,\n",
       "       6.661205 , 6.9282436, 6.4105353, 6.7172184, 6.6241403, 6.8221045,\n",
       "       6.245457 , 6.0105777, 5.9393077, 5.5632234, 5.79     , 4.328077 ,\n",
       "       5.3241706, 6.165035 , 6.5691776, 6.18388  , 6.7509804, 6.8228383,\n",
       "       6.791691 , 6.4185863, 6.6181326, 6.3583007, 6.5868015, 6.7832594,\n",
       "       6.845149 , 6.1908026, 6.17506  , 6.167743 , 6.0206423, 5.4090805,\n",
       "       4.6628284, 5.378183 , 6.4240556, 6.650248 , 6.271656 , 6.606108 ,\n",
       "       6.218526 , 6.2575307, 6.5433497, 6.57626  , 6.2531075, 6.662239 ,\n",
       "       6.758477 , 6.870181 , 6.730019 , 6.929332 , 5.6428246, 5.91679  ,\n",
       "       4.7449527, 5.2587023, 2.2544324, 6.3797736, 4.4776363, 4.0452647,\n",
       "       4.582766 , 5.0749784, 4.974747 , 5.8588576, 6.4720454, 6.1751623,\n",
       "       6.2279344, 5.965443 , 6.299403 , 5.9506245, 4.6406603, 4.8965163,\n",
       "       5.722931 , 5.6281996, 5.562319 , 6.055037 , 6.2942204, 5.226195 ,\n",
       "       5.948885 , 6.503476 , 6.765685 , 6.0895634, 6.526589 , 6.4900637,\n",
       "       6.6746902, 6.45724  , 6.2820606, 5.502824 , 6.1139526, 5.2736726,\n",
       "       4.0653906, 4.3741627, 5.524103 , 6.0509505, 5.7410216, 6.535557 ,\n",
       "       6.6985726, 7.052505 , 6.7921224, 6.897555 , 6.4473634, 6.5185194,\n",
       "       6.60545  , 6.7146816, 6.5233507, 6.37828  , 6.4578023, 6.8582006,\n",
       "       5.836542 , 5.2568336, 5.771411 , 6.566861 , 6.488855 , 6.2971597,\n",
       "       6.524319 , 6.2879934, 6.2534723, 6.539673 , 6.8222747, 6.4016824,\n",
       "       6.758068 , 6.6446934, 6.8033857, 6.6996503, 6.7289133, 5.628211 ,\n",
       "       6.3594384, 5.462114 , 4.7341995, 4.4948487, 5.62541  , 6.310379 ,\n",
       "       6.064765 , 6.017187 , 6.660936 , 6.9479465, 6.769294 , 6.6723695,\n",
       "       6.816466 , 6.4193215, 6.5652866, 6.5498967, 6.672628 , 6.343552 ,\n",
       "       5.918556 , 6.759626 , 6.4448166, 5.3721313, 5.591062 , 6.486415 ,\n",
       "       6.481651 , 6.3774457, 5.919867 , 6.2168765, 6.7769294, 5.7905364,\n",
       "       6.8438964, 6.788326 , 6.4278436, 6.848384 , 6.660704 , 6.9680977,\n",
       "       6.902272 , 5.8659706, 5.799663 , 4.6098576, 6.0169396, 5.9858055,\n",
       "       6.740314 , 6.8114467, 6.633563 , 6.230998 , 5.63933  , 6.0032835,\n",
       "       6.3361506, 6.104613 , 6.532558 , 6.0460343, 6.587483 , 6.6606526,\n",
       "       6.7507296, 5.91498  , 5.9617662, 6.610916 , 5.834079 , 5.0106187,\n",
       "       4.004682 , 4.629328 , 5.699605 , 6.409347 , 5.8726616, 6.6922812,\n",
       "       6.758014 , 6.242308 , 6.5737863, 6.7322736, 6.550802 , 6.567073 ,\n",
       "       6.709819 , 6.770117 , 6.7325683, 6.3164062, 5.734784 , 5.9353695,\n",
       "       4.972785 , 3.9788203, 4.753642 , 5.903927 , 6.6397934, 6.226188 ,\n",
       "       6.616587 , 6.5273657, 6.421895 , 6.6944313, 6.829717 , 6.78052  ,\n",
       "       6.493608 , 6.6652074, 6.740299 , 6.661526 , 6.7236567, 5.738275 ,\n",
       "       6.3766246, 5.2685127, 3.6087525, 4.1126103, 5.2370586, 5.513569 ,\n",
       "       5.9860377, 6.1004524, 6.515268 , 6.827506 , 6.3652587, 6.624211 ,\n",
       "       6.8628483, 6.3397765, 6.5827975, 6.541169 , 6.812602 , 6.4679313,\n",
       "       6.0075054, 6.2296724, 5.9838314, 5.4458356, 3.795397 , 4.777088 ,\n",
       "       5.8245053, 6.479371 , 5.518834 , 6.778038 , 6.8604584, 7.0016747,\n",
       "       6.5394545, 6.7483444, 6.4936857, 6.616897 ], dtype=float32)"
      ]
     },
     "execution_count": 5,
     "metadata": {},
     "output_type": "execute_result"
    }
   ],
   "source": [
    "dataset['rewards'][:1000]"
   ]
  },
  {
   "cell_type": "code",
   "execution_count": null,
   "metadata": {},
   "outputs": [
    {
     "data": {
      "text/plain": [
       "(array([-1.75222744e-01, -7.73589914e-03, -8.11422792e-03,  9.87607437e-04,\n",
       "         1.83854901e-01,  9.15128876e-01, -2.26819727e+00, -6.37933476e-02,\n",
       "         9.34214899e-01, -1.91677393e+00, -4.05785975e-02,  9.36312879e-01,\n",
       "        -1.87045267e+00,  1.60763861e-01,  9.16133264e-01, -2.15280149e+00,\n",
       "         2.44099928e-01,  3.62274562e-02,  1.94768716e-02,  2.03384910e-01,\n",
       "         8.99440417e-02, -7.28740115e-03, -8.17263219e-01, -1.93174492e+00,\n",
       "         2.00346657e+00, -3.39504673e-01,  9.03097584e-01, -2.70741528e-02,\n",
       "        -3.43999288e-01,  7.30498063e-01,  2.36305918e-01, -5.87035927e-01,\n",
       "        -2.58242325e+00,  1.63759636e+00,  1.00000000e+00,  0.00000000e+00,\n",
       "         2.36557250e-01]),\n",
       " {})"
      ]
     },
     "execution_count": 26,
     "metadata": {},
     "output_type": "execute_result"
    }
   ],
   "source": [
    "state"
   ]
  },
  {
   "cell_type": "code",
   "execution_count": null,
   "metadata": {},
   "outputs": [
    {
     "name": "stderr",
     "output_type": "stream",
     "text": [
      "/home/nikisim/.local/lib/python3.10/site-packages/gymnasium/utils/passive_env_checker.py:335: UserWarning: \u001b[33mWARN: No render fps was declared in the environment (env.metadata['render_fps'] is None or not defined), rendering may occur at inconsistent fps.\u001b[0m\n",
      "  logger.warn(\n"
     ]
    },
    {
     "ename": "KeyboardInterrupt",
     "evalue": "",
     "output_type": "error",
     "traceback": [
      "\u001b[0;31m---------------------------------------------------------------------------\u001b[0m",
      "\u001b[0;31mKeyboardInterrupt\u001b[0m                         Traceback (most recent call last)",
      "Cell \u001b[0;32mIn[3], line 21\u001b[0m\n\u001b[1;32m     19\u001b[0m     i \u001b[38;5;241m=\u001b[39m \u001b[38;5;241m0\u001b[39m\n\u001b[1;32m     20\u001b[0m action \u001b[38;5;241m=\u001b[39m np\u001b[38;5;241m.\u001b[39mrandom\u001b[38;5;241m.\u001b[39mrandn(action_dim)\n\u001b[0;32m---> 21\u001b[0m nstate, reward, terminated, truncated, info \u001b[38;5;241m=\u001b[39m \u001b[43menv\u001b[49m\u001b[38;5;241;43m.\u001b[39;49m\u001b[43mstep\u001b[49m\u001b[43m(\u001b[49m\u001b[43maction\u001b[49m\u001b[43m)\u001b[49m\n\u001b[1;32m     23\u001b[0m \u001b[38;5;66;03m# HERE is your favorite RL algorithm\u001b[39;00m\n\u001b[1;32m     25\u001b[0m env\u001b[38;5;241m.\u001b[39mrender()\n",
      "File \u001b[0;32m~/.local/lib/python3.10/site-packages/gymnasium/wrappers/order_enforcing.py:56\u001b[0m, in \u001b[0;36mOrderEnforcing.step\u001b[0;34m(self, action)\u001b[0m\n\u001b[1;32m     54\u001b[0m \u001b[38;5;28;01mif\u001b[39;00m \u001b[38;5;129;01mnot\u001b[39;00m \u001b[38;5;28mself\u001b[39m\u001b[38;5;241m.\u001b[39m_has_reset:\n\u001b[1;32m     55\u001b[0m     \u001b[38;5;28;01mraise\u001b[39;00m ResetNeeded(\u001b[38;5;124m\"\u001b[39m\u001b[38;5;124mCannot call env.step() before calling env.reset()\u001b[39m\u001b[38;5;124m\"\u001b[39m)\n\u001b[0;32m---> 56\u001b[0m \u001b[38;5;28;01mreturn\u001b[39;00m \u001b[38;5;28;43mself\u001b[39;49m\u001b[38;5;241;43m.\u001b[39;49m\u001b[43menv\u001b[49m\u001b[38;5;241;43m.\u001b[39;49m\u001b[43mstep\u001b[49m\u001b[43m(\u001b[49m\u001b[43maction\u001b[49m\u001b[43m)\u001b[49m\n",
      "File \u001b[0;32m~/.local/lib/python3.10/site-packages/gymnasium/wrappers/env_checker.py:51\u001b[0m, in \u001b[0;36mPassiveEnvChecker.step\u001b[0;34m(self, action)\u001b[0m\n\u001b[1;32m     49\u001b[0m     \u001b[38;5;28;01mreturn\u001b[39;00m env_step_passive_checker(\u001b[38;5;28mself\u001b[39m\u001b[38;5;241m.\u001b[39menv, action)\n\u001b[1;32m     50\u001b[0m \u001b[38;5;28;01melse\u001b[39;00m:\n\u001b[0;32m---> 51\u001b[0m     \u001b[38;5;28;01mreturn\u001b[39;00m \u001b[38;5;28;43mself\u001b[39;49m\u001b[38;5;241;43m.\u001b[39;49m\u001b[43menv\u001b[49m\u001b[38;5;241;43m.\u001b[39;49m\u001b[43mstep\u001b[49m\u001b[43m(\u001b[49m\u001b[43maction\u001b[49m\u001b[43m)\u001b[49m\n",
      "File \u001b[0;32m~/Mag_diplom/loco-mujoco/loco_mujoco/environments/gymnasium.py:66\u001b[0m, in \u001b[0;36mGymnasiumWrapper.step\u001b[0;34m(self, action)\u001b[0m\n\u001b[1;32m     50\u001b[0m \u001b[38;5;28;01mdef\u001b[39;00m \u001b[38;5;21mstep\u001b[39m(\u001b[38;5;28mself\u001b[39m, action):\n\u001b[1;32m     51\u001b[0m \u001b[38;5;250m    \u001b[39m\u001b[38;5;124;03m\"\"\"\u001b[39;00m\n\u001b[1;32m     52\u001b[0m \u001b[38;5;124;03m    Run one timestep of the environment's dynamics.\u001b[39;00m\n\u001b[1;32m     53\u001b[0m \n\u001b[0;32m   (...)\u001b[0m\n\u001b[1;32m     63\u001b[0m \n\u001b[1;32m     64\u001b[0m \u001b[38;5;124;03m    \"\"\"\u001b[39;00m\n\u001b[0;32m---> 66\u001b[0m     obs, reward, absorbing, info \u001b[38;5;241m=\u001b[39m \u001b[38;5;28;43mself\u001b[39;49m\u001b[38;5;241;43m.\u001b[39;49m\u001b[43m_env\u001b[49m\u001b[38;5;241;43m.\u001b[39;49m\u001b[43mstep\u001b[49m\u001b[43m(\u001b[49m\u001b[43maction\u001b[49m\u001b[43m)\u001b[49m\n\u001b[1;32m     68\u001b[0m     \u001b[38;5;28;01mreturn\u001b[39;00m obs, reward, absorbing, \u001b[38;5;28;01mFalse\u001b[39;00m, info\n",
      "File \u001b[0;32m~/.local/lib/python3.10/site-packages/mushroom_rl/environments/mujoco.py:155\u001b[0m, in \u001b[0;36mMuJoCo.step\u001b[0;34m(self, action)\u001b[0m\n\u001b[1;32m    151\u001b[0m \u001b[38;5;28mself\u001b[39m\u001b[38;5;241m.\u001b[39m_simulation_pre_step()\n\u001b[1;32m    153\u001b[0m mujoco\u001b[38;5;241m.\u001b[39mmj_step(\u001b[38;5;28mself\u001b[39m\u001b[38;5;241m.\u001b[39m_model, \u001b[38;5;28mself\u001b[39m\u001b[38;5;241m.\u001b[39m_data, \u001b[38;5;28mself\u001b[39m\u001b[38;5;241m.\u001b[39m_n_substeps)\n\u001b[0;32m--> 155\u001b[0m \u001b[38;5;28;43mself\u001b[39;49m\u001b[38;5;241;43m.\u001b[39;49m\u001b[43m_simulation_post_step\u001b[49m\u001b[43m(\u001b[49m\u001b[43m)\u001b[49m\n\u001b[1;32m    157\u001b[0m \u001b[38;5;28;01mif\u001b[39;00m \u001b[38;5;28mself\u001b[39m\u001b[38;5;241m.\u001b[39m_recompute_action_per_step:\n\u001b[1;32m    158\u001b[0m     cur_obs \u001b[38;5;241m=\u001b[39m \u001b[38;5;28mself\u001b[39m\u001b[38;5;241m.\u001b[39m_create_observation(\u001b[38;5;28mself\u001b[39m\u001b[38;5;241m.\u001b[39mobs_helper\u001b[38;5;241m.\u001b[39m_build_obs(\u001b[38;5;28mself\u001b[39m\u001b[38;5;241m.\u001b[39m_data))\n",
      "File \u001b[0;32m~/Mag_diplom/loco-mujoco/loco_mujoco/environments/quadrupeds/unitreeA1.py:451\u001b[0m, in \u001b[0;36mUnitreeA1._simulation_post_step\u001b[0;34m(self)\u001b[0m\n\u001b[1;32m    443\u001b[0m \u001b[38;5;28;01mdef\u001b[39;00m \u001b[38;5;21m_simulation_post_step\u001b[39m(\u001b[38;5;28mself\u001b[39m):\n\u001b[1;32m    444\u001b[0m \u001b[38;5;250m    \u001b[39m\u001b[38;5;124;03m\"\"\"\u001b[39;00m\n\u001b[1;32m    445\u001b[0m \u001b[38;5;124;03m    Sets the correct rotation of the goal arrow and the calculates the\u001b[39;00m\n\u001b[1;32m    446\u001b[0m \u001b[38;5;124;03m    statistics of the ground forces if required. This function is\u001b[39;00m\n\u001b[1;32m    447\u001b[0m \u001b[38;5;124;03m    called after each step.\u001b[39;00m\n\u001b[1;32m    448\u001b[0m \n\u001b[1;32m    449\u001b[0m \u001b[38;5;124;03m    \"\"\"\u001b[39;00m\n\u001b[0;32m--> 451\u001b[0m     \u001b[38;5;28;43mself\u001b[39;49m\u001b[38;5;241;43m.\u001b[39;49m\u001b[43m_set_goal_arrow\u001b[49m\u001b[43m(\u001b[49m\u001b[43m)\u001b[49m\n\u001b[1;32m    452\u001b[0m     \u001b[38;5;28msuper\u001b[39m()\u001b[38;5;241m.\u001b[39m_simulation_post_step()\n",
      "File \u001b[0;32m~/Mag_diplom/loco-mujoco/loco_mujoco/environments/quadrupeds/unitreeA1.py:579\u001b[0m, in \u001b[0;36mUnitreeA1._set_goal_arrow\u001b[0;34m(self)\u001b[0m\n\u001b[1;32m    576\u001b[0m \u001b[38;5;28mself\u001b[39m\u001b[38;5;241m.\u001b[39m_data\u001b[38;5;241m.\u001b[39msite(\u001b[38;5;124m\"\u001b[39m\u001b[38;5;124mdir_arrow\u001b[39m\u001b[38;5;124m\"\u001b[39m)\u001b[38;5;241m.\u001b[39mxmat \u001b[38;5;241m=\u001b[39m (rot_mat)\u001b[38;5;241m.\u001b[39mreshape((\u001b[38;5;241m9\u001b[39m,))\n\u001b[1;32m    578\u001b[0m \u001b[38;5;66;03m# calc position of the ball corresponding to the arrow\u001b[39;00m\n\u001b[0;32m--> 579\u001b[0m \u001b[38;5;28mself\u001b[39m\u001b[38;5;241m.\u001b[39m_data\u001b[38;5;241m.\u001b[39msite(\u001b[38;5;124m\"\u001b[39m\u001b[38;5;124mdir_arrow_ball\u001b[39m\u001b[38;5;124m\"\u001b[39m)\u001b[38;5;241m.\u001b[39mxpos \u001b[38;5;241m=\u001b[39m \u001b[38;5;28;43mself\u001b[39;49m\u001b[38;5;241;43m.\u001b[39;49m\u001b[43m_data\u001b[49m\u001b[38;5;241;43m.\u001b[39;49m\u001b[43mbody\u001b[49m\u001b[43m(\u001b[49m\u001b[38;5;124;43m\"\u001b[39;49m\u001b[38;5;124;43mdir_arrow\u001b[39;49m\u001b[38;5;124;43m\"\u001b[39;49m\u001b[43m)\u001b[49m\u001b[38;5;241m.\u001b[39mxpos \u001b[38;5;241m+\u001b[39m \\\n\u001b[1;32m    580\u001b[0m                                          [\u001b[38;5;241m-\u001b[39m\u001b[38;5;241m0.1\u001b[39m \u001b[38;5;241m*\u001b[39m np\u001b[38;5;241m.\u001b[39msin(desired_angle), \u001b[38;5;241m0.1\u001b[39m \u001b[38;5;241m*\u001b[39m np\u001b[38;5;241m.\u001b[39mcos(desired_angle), \u001b[38;5;241m0\u001b[39m]\n",
      "\u001b[0;31mKeyboardInterrupt\u001b[0m: "
     ]
    }
   ],
   "source": [
    "import numpy as np\n",
    "from loco_mujoco import LocoEnv\n",
    "import gymnasium as gym\n",
    "\n",
    "\n",
    "# create the environment and task together with the reward function\n",
    "env = gym.make(\"LocoMujoco\", env_name=\"UnitreeA1.simple.perfect\")\n",
    "# env = gym.wrappers.RecordVideo(env, f\"videos/unitreeA1\", episode_trigger = lambda x: x % 10 == 0)\n",
    "action_dim = env.action_space.shape[0]\n",
    "\n",
    "env.reset()\n",
    "env.render()\n",
    "terminated = False\n",
    "i = 0\n",
    "\n",
    "while True:\n",
    "    if i == 1000 or terminated:\n",
    "        env.reset()\n",
    "        i = 0\n",
    "    action = np.random.randn(action_dim)\n",
    "    nstate, reward, terminated, truncated, info = env.step(action)\n",
    "\n",
    "    # HERE is your favorite RL algorithm\n",
    "\n",
    "    env.render()\n",
    "    i += 1"
   ]
  },
  {
   "cell_type": "code",
   "execution_count": null,
   "metadata": {},
   "outputs": [
    {
     "name": "stderr",
     "output_type": "stream",
     "text": [
      "/home/nikisim/.local/lib/python3.10/site-packages/gym/envs/mujoco/mujoco_env.py:360: UserWarning: \u001b[33mWARN: You are calling render method without specifying any render mode. You can specify the render_mode at initialization, e.g. gym(\"HalfCheetah-v4\", render_mode=\"rgb_array\")\u001b[0m\n",
      "  gym.logger.warn(\n",
      "/home/nikisim/.local/lib/python3.10/site-packages/gym/utils/passive_env_checker.py:233: DeprecationWarning: `np.bool8` is a deprecated alias for `np.bool_`.  (Deprecated NumPy 1.24)\n",
      "  if not isinstance(terminated, (bool, np.bool8)):\n"
     ]
    },
    {
     "ename": "KeyboardInterrupt",
     "evalue": "",
     "output_type": "error",
     "traceback": [
      "\u001b[0;31m---------------------------------------------------------------------------\u001b[0m",
      "\u001b[0;31mKeyboardInterrupt\u001b[0m                         Traceback (most recent call last)",
      "Cell \u001b[0;32mIn[14], line 8\u001b[0m\n\u001b[1;32m      5\u001b[0m episode_reward \u001b[38;5;241m=\u001b[39m \u001b[38;5;241m0.0\u001b[39m\n\u001b[1;32m      6\u001b[0m \u001b[38;5;28;01mwhile\u001b[39;00m \u001b[38;5;129;01mnot\u001b[39;00m done:\n\u001b[1;32m      7\u001b[0m     \u001b[38;5;66;03m# action = actor.act(state, device)\u001b[39;00m\n\u001b[0;32m----> 8\u001b[0m     action \u001b[38;5;241m=\u001b[39m \u001b[43menv\u001b[49m\u001b[38;5;241;43m.\u001b[39;49m\u001b[43maction_space\u001b[49m\u001b[38;5;241;43m.\u001b[39;49m\u001b[43msample\u001b[49m\u001b[43m(\u001b[49m\u001b[43m)\u001b[49m\n\u001b[1;32m      9\u001b[0m     state, reward, done, _, _ \u001b[38;5;241m=\u001b[39m env\u001b[38;5;241m.\u001b[39mstep(action)\n\u001b[1;32m     10\u001b[0m     env\u001b[38;5;241m.\u001b[39mrender()\n",
      "File \u001b[0;32m~/.local/lib/python3.10/site-packages/gym/spaces/box.py:212\u001b[0m, in \u001b[0;36mBox.sample\u001b[0;34m(self, mask)\u001b[0m\n\u001b[1;32m    204\u001b[0m sample[unbounded] \u001b[38;5;241m=\u001b[39m \u001b[38;5;28mself\u001b[39m\u001b[38;5;241m.\u001b[39mnp_random\u001b[38;5;241m.\u001b[39mnormal(size\u001b[38;5;241m=\u001b[39munbounded[unbounded]\u001b[38;5;241m.\u001b[39mshape)\n\u001b[1;32m    206\u001b[0m sample[low_bounded] \u001b[38;5;241m=\u001b[39m (\n\u001b[1;32m    207\u001b[0m     \u001b[38;5;28mself\u001b[39m\u001b[38;5;241m.\u001b[39mnp_random\u001b[38;5;241m.\u001b[39mexponential(size\u001b[38;5;241m=\u001b[39mlow_bounded[low_bounded]\u001b[38;5;241m.\u001b[39mshape)\n\u001b[1;32m    208\u001b[0m     \u001b[38;5;241m+\u001b[39m \u001b[38;5;28mself\u001b[39m\u001b[38;5;241m.\u001b[39mlow[low_bounded]\n\u001b[1;32m    209\u001b[0m )\n\u001b[1;32m    211\u001b[0m sample[upp_bounded] \u001b[38;5;241m=\u001b[39m (\n\u001b[0;32m--> 212\u001b[0m     \u001b[38;5;241m-\u001b[39m\u001b[38;5;28;43mself\u001b[39;49m\u001b[38;5;241;43m.\u001b[39;49m\u001b[43mnp_random\u001b[49m\u001b[38;5;241m.\u001b[39mexponential(size\u001b[38;5;241m=\u001b[39mupp_bounded[upp_bounded]\u001b[38;5;241m.\u001b[39mshape)\n\u001b[1;32m    213\u001b[0m     \u001b[38;5;241m+\u001b[39m \u001b[38;5;28mself\u001b[39m\u001b[38;5;241m.\u001b[39mhigh[upp_bounded]\n\u001b[1;32m    214\u001b[0m )\n\u001b[1;32m    216\u001b[0m sample[bounded] \u001b[38;5;241m=\u001b[39m \u001b[38;5;28mself\u001b[39m\u001b[38;5;241m.\u001b[39mnp_random\u001b[38;5;241m.\u001b[39muniform(\n\u001b[1;32m    217\u001b[0m     low\u001b[38;5;241m=\u001b[39m\u001b[38;5;28mself\u001b[39m\u001b[38;5;241m.\u001b[39mlow[bounded], high\u001b[38;5;241m=\u001b[39mhigh[bounded], size\u001b[38;5;241m=\u001b[39mbounded[bounded]\u001b[38;5;241m.\u001b[39mshape\n\u001b[1;32m    218\u001b[0m )\n\u001b[1;32m    219\u001b[0m \u001b[38;5;28;01mif\u001b[39;00m \u001b[38;5;28mself\u001b[39m\u001b[38;5;241m.\u001b[39mdtype\u001b[38;5;241m.\u001b[39mkind \u001b[38;5;241m==\u001b[39m \u001b[38;5;124m\"\u001b[39m\u001b[38;5;124mi\u001b[39m\u001b[38;5;124m\"\u001b[39m:\n",
      "File \u001b[0;32m~/.local/lib/python3.10/site-packages/gym/spaces/space.py:72\u001b[0m, in \u001b[0;36mSpace.np_random\u001b[0;34m(self)\u001b[0m\n\u001b[1;32m     69\u001b[0m         \u001b[38;5;28;01melse\u001b[39;00m:\n\u001b[1;32m     70\u001b[0m             \u001b[38;5;28mself\u001b[39m\u001b[38;5;241m.\u001b[39mseed(seed)\n\u001b[0;32m---> 72\u001b[0m \u001b[38;5;129m@property\u001b[39m\n\u001b[1;32m     73\u001b[0m \u001b[38;5;28;01mdef\u001b[39;00m \u001b[38;5;21mnp_random\u001b[39m(\u001b[38;5;28mself\u001b[39m) \u001b[38;5;241m-\u001b[39m\u001b[38;5;241m>\u001b[39m np\u001b[38;5;241m.\u001b[39mrandom\u001b[38;5;241m.\u001b[39mGenerator:\n\u001b[1;32m     74\u001b[0m \u001b[38;5;250m    \u001b[39m\u001b[38;5;124;03m\"\"\"Lazily seed the PRNG since this is expensive and only needed if sampling from this space.\"\"\"\u001b[39;00m\n\u001b[1;32m     75\u001b[0m     \u001b[38;5;28;01mif\u001b[39;00m \u001b[38;5;28mself\u001b[39m\u001b[38;5;241m.\u001b[39m_np_random \u001b[38;5;129;01mis\u001b[39;00m \u001b[38;5;28;01mNone\u001b[39;00m:\n",
      "\u001b[0;31mKeyboardInterrupt\u001b[0m: "
     ]
    }
   ],
   "source": [
    "\n",
    "n_episodes = 5\n",
    "for _ in range(n_episodes):\n",
    "    state, done = env.reset(), False\n",
    "    env.render()\n",
    "    episode_reward = 0.0\n",
    "    while not done:\n",
    "        # action = actor.act(state, device)\n",
    "        action = env.action_space.sample()\n",
    "        state, reward, done, _, _ = env.step(action)\n",
    "        env.render()\n",
    "        episode_reward += reward\n",
    "    # episode_rewards.append(episode_reward)\n",
    "    env.close()\n",
    "# Each task is associated with a dataset\n",
    "# dataset contains observations, actions, rewards, terminals, and infos\n",
    "# dataset = env.get_dataset()\n",
    "# print(dataset['observations']) # An N x dim_observation Numpy array of observations\n",
    "\n",
    "# # Alternatively, use d4rl.qlearning_dataset which\n",
    "# # also adds next_observations.\n",
    "# dataset = d4rl.qlearning_dataset(env)"
   ]
  },
  {
   "cell_type": "code",
   "execution_count": null,
   "metadata": {},
   "outputs": [],
   "source": [
    "import gymnasium as gym\n",
    "\n",
    "env = gym.make(f'FetchReachDense-v2', render_mode='rgb_array')"
   ]
  },
  {
   "cell_type": "code",
   "execution_count": null,
   "metadata": {},
   "outputs": [
    {
     "ename": "TypeError",
     "evalue": "'NoneType' object is not subscriptable",
     "output_type": "error",
     "traceback": [
      "\u001b[0;31m---------------------------------------------------------------------------\u001b[0m",
      "\u001b[0;31mTypeError\u001b[0m                                 Traceback (most recent call last)",
      "Cell \u001b[0;32mIn[12], line 1\u001b[0m\n\u001b[0;32m----> 1\u001b[0m \u001b[43menv\u001b[49m\u001b[38;5;241;43m.\u001b[39;49m\u001b[43mobservation_space\u001b[49m\u001b[38;5;241;43m.\u001b[39;49m\u001b[43mshape\u001b[49m\u001b[43m[\u001b[49m\u001b[38;5;241;43m0\u001b[39;49m\u001b[43m]\u001b[49m\n",
      "\u001b[0;31mTypeError\u001b[0m: 'NoneType' object is not subscriptable"
     ]
    }
   ],
   "source": [
    "env.observation_space.shape[0]"
   ]
  },
  {
   "cell_type": "code",
   "execution_count": 1,
   "metadata": {},
   "outputs": [],
   "source": [
    "import numpy as np\n",
    "\n",
    "dataset1 = np.load('/home/nikisim/Mag_diplom/test/UR5_FetchPush_env/datasets/new_test/UR5_FetchPush_1.npy', allow_pickle=True).item()\n",
    "dataset2 = np.load('/home/nikisim/Mag_diplom/FetchSlide/hindsight-experience-replay/datasets/UR5_FetchReach_test_action.npy', allow_pickle=True).item()"
   ]
  },
  {
   "cell_type": "code",
   "execution_count": 6,
   "metadata": {},
   "outputs": [
    {
     "data": {
      "text/plain": [
       "(424203, 49)"
      ]
     },
     "execution_count": 6,
     "metadata": {},
     "output_type": "execute_result"
    }
   ],
   "source": [
    "dataset1['observations'].shape"
   ]
  },
  {
   "cell_type": "code",
   "execution_count": null,
   "metadata": {},
   "outputs": [
    {
     "data": {
      "text/plain": [
       "array([[ 0.6378085 , -0.9739753 ,  0.5027262 ,  0.01407008],\n",
       "       [ 0.58739513, -0.99370533,  0.43583614,  0.00565344],\n",
       "       [ 0.48186302, -0.5131619 ,  0.33140033,  0.0514154 ],\n",
       "       [ 0.9846012 , -0.9994522 ,  0.9893372 ,  0.22570102],\n",
       "       [ 0.00507032, -0.0085959 ,  0.0056467 ,  0.00138057],\n",
       "       [ 0.00121825, -0.00102509,  0.00326901,  0.00116763],\n",
       "       [ 0.00121825, -0.00102509,  0.00326901,  0.00116763],\n",
       "       [ 0.00121825, -0.00102509,  0.00326901,  0.00116763],\n",
       "       [ 0.00121825, -0.00102509,  0.00326901,  0.00116763],\n",
       "       [ 0.00121825, -0.00102509,  0.00326901,  0.00116763],\n",
       "       [ 0.00121825, -0.00102509,  0.00326901,  0.00116763],\n",
       "       [ 0.00121825, -0.00102509,  0.00326901,  0.00116763],\n",
       "       [ 0.00121825, -0.00102509,  0.00326901,  0.00116763],\n",
       "       [ 0.00121825, -0.00102509,  0.00326901,  0.00116763],\n",
       "       [ 0.00121825, -0.00102509,  0.00326901,  0.00116763],\n",
       "       [ 0.00121825, -0.00102509,  0.00326901,  0.00116763],\n",
       "       [ 0.00121825, -0.00102509,  0.00326901,  0.00116763],\n",
       "       [ 0.00121825, -0.00102509,  0.00326901,  0.00116763],\n",
       "       [ 0.00121825, -0.00102509,  0.00326901,  0.00116763],\n",
       "       [ 0.00121825, -0.00102509,  0.00326901,  0.00116763],\n",
       "       [ 0.00121825, -0.00102509,  0.00326901,  0.00116763],\n",
       "       [ 0.00121825, -0.00102509,  0.00326901,  0.00116763],\n",
       "       [ 0.00121825, -0.00102509,  0.00326901,  0.00116763],\n",
       "       [ 0.00121825, -0.00102509,  0.00326901,  0.00116763],\n",
       "       [ 0.00121825, -0.00102509,  0.00326901,  0.00116763],\n",
       "       [ 0.00121825, -0.00102509,  0.00326901,  0.00116763],\n",
       "       [ 0.00121825, -0.00102509,  0.00326901,  0.00116763],\n",
       "       [ 0.00121825, -0.00102509,  0.00326901,  0.00116763],\n",
       "       [ 0.00121825, -0.00102509,  0.00326901,  0.00116763],\n",
       "       [ 0.00121825, -0.00102509,  0.00326901,  0.00116763]],\n",
       "      dtype=float32)"
      ]
     },
     "execution_count": 14,
     "metadata": {},
     "output_type": "execute_result"
    }
   ],
   "source": [
    "dataset2['actions'][:30]"
   ]
  },
  {
   "cell_type": "code",
   "execution_count": null,
   "metadata": {},
   "outputs": [],
   "source": [
    "import yaml \n",
    "config_path = \"/home/nikisim/Mag_diplom/CORL/data/saved_models/IQL_UR5_FetchReach_new_action/IQL-FetchReach_UR5-221b042a/config.yaml\"\n",
    "\n",
    "with open(config_path) as yaml_file:\n",
    "    config_dict = yaml.load(yaml_file, Loader=yaml.FullLoader)"
   ]
  },
  {
   "cell_type": "code",
   "execution_count": null,
   "metadata": {},
   "outputs": [
    {
     "data": {
      "text/plain": [
       "{'actor_dropout': None,\n",
       " 'actor_lr': 0.0003,\n",
       " 'batch_size': 256,\n",
       " 'beta': 3.0,\n",
       " 'buffer_size': 2000000,\n",
       " 'checkpoints_path': 'data/saved_models/IQL_UR5_FetchReach_new_action/IQL-FetchReach_UR5-221b042a',\n",
       " 'device': 'cuda',\n",
       " 'discount': 0.99,\n",
       " 'env': 'FetchReach_UR5',\n",
       " 'eval_freq': 5000,\n",
       " 'group': 'IQL-FetchReach_UR5',\n",
       " 'iql_deterministic': False,\n",
       " 'iql_tau': 0.7,\n",
       " 'load_model': '',\n",
       " 'max_timesteps': 7000000,\n",
       " 'n_episodes': 10,\n",
       " 'name': 'IQL-FetchReach_UR5-221b042a',\n",
       " 'normalize': True,\n",
       " 'normalize_reward': False,\n",
       " 'project': 'IQL_CORL_FetchReach_UR5',\n",
       " 'qf_lr': 0.0003,\n",
       " 'seed': 0,\n",
       " 'tau': 0.005,\n",
       " 'vf_lr': 0.0003}"
      ]
     },
     "execution_count": 21,
     "metadata": {},
     "output_type": "execute_result"
    }
   ],
   "source": [
    "config_dict"
   ]
  },
  {
   "cell_type": "code",
   "execution_count": null,
   "metadata": {},
   "outputs": [
    {
     "name": "stdout",
     "output_type": "stream",
     "text": [
      "NEW\n",
      "[1. 1. 1. 1.]\n",
      "[1. 1. 1. 1.]\n",
      "[1. 1. 1. 1.]\n",
      "[1. 1. 1. 1.]\n",
      "[1. 1. 1. 1.]\n",
      "[1. 1. 1. 1.]\n",
      "[1. 1. 1. 1.]\n",
      "[1. 1. 1. 1.]\n",
      "[1. 1. 1. 1.]\n",
      "[1. 1. 1. 1.]\n",
      "[1. 1. 1. 1.]\n",
      "[1. 1. 1. 1.]\n",
      "[1. 1. 1. 1.]\n",
      "[1. 1. 1. 1.]\n",
      "[1. 1. 1. 1.]\n",
      "[1. 1. 1. 1.]\n",
      "[1. 1. 1. 1.]\n",
      "[1. 1. 1. 1.]\n",
      "[1. 1. 1. 1.]\n",
      "[1. 1. 1. 1.]\n",
      "[1. 1. 1. 1.]\n",
      "[1. 1. 1. 1.]\n",
      "[1. 1. 1. 1.]\n",
      "[1. 1. 1. 1.]\n",
      "[1. 1. 1. 1.]\n",
      "[1. 1. 1. 1.]\n",
      "[1. 1. 1. 1.]\n",
      "[1. 1. 1. 1.]\n",
      "[1. 1. 1. 1.]\n",
      "[1. 1. 1. 1.]\n",
      "[1. 1. 1. 1.]\n",
      "[1. 1. 1. 1.]\n",
      "[1. 1. 1. 1.]\n",
      "[1. 1. 1. 1.]\n",
      "[1. 1. 1. 1.]\n",
      "[1. 1. 1. 1.]\n",
      "[1. 1. 1. 1.]\n",
      "[1. 1. 1. 1.]\n",
      "[1. 1. 1. 1.]\n",
      "[1. 1. 1. 1.]\n",
      "[1. 1. 1. 1.]\n",
      "[1. 1. 1. 1.]\n",
      "[1. 1. 1. 1.]\n",
      "[1. 1. 1. 1.]\n",
      "[1. 1. 1. 1.]\n",
      "[1. 1. 1. 1.]\n",
      "[1. 1. 1. 1.]\n",
      "[1. 1. 1. 1.]\n",
      "[1. 1. 1. 1.]\n",
      "[1. 1. 1. 1.]\n",
      "NEW\n",
      "[1. 1. 1. 1.]\n",
      "[1. 1. 1. 1.]\n",
      "[1. 1. 1. 1.]\n",
      "[1. 1. 1. 1.]\n",
      "[1. 1. 1. 1.]\n",
      "[1. 1. 1. 1.]\n",
      "[1. 1. 1. 1.]\n",
      "[1. 1. 1. 1.]\n",
      "[1. 1. 1. 1.]\n",
      "[1. 1. 1. 1.]\n",
      "[1. 1. 1. 1.]\n",
      "[1. 1. 1. 1.]\n",
      "[1. 1. 1. 1.]\n",
      "[1. 1. 1. 1.]\n",
      "[1. 1. 1. 1.]\n",
      "[1. 1. 1. 1.]\n",
      "[1. 1. 1. 1.]\n",
      "[1. 1. 1. 1.]\n",
      "[1. 1. 1. 1.]\n",
      "[1. 1. 1. 1.]\n",
      "[1. 1. 1. 1.]\n",
      "[1. 1. 1. 1.]\n",
      "[1. 1. 1. 1.]\n",
      "[1. 1. 1. 1.]\n",
      "[1. 1. 1. 1.]\n",
      "[1. 1. 1. 1.]\n",
      "[1. 1. 1. 1.]\n",
      "[1. 1. 1. 1.]\n",
      "[1. 1. 1. 1.]\n",
      "[1. 1. 1. 1.]\n",
      "[1. 1. 1. 1.]\n",
      "[1. 1. 1. 1.]\n",
      "[1. 1. 1. 1.]\n",
      "[1. 1. 1. 1.]\n",
      "[1. 1. 1. 1.]\n",
      "[1. 1. 1. 1.]\n",
      "[1. 1. 1. 1.]\n",
      "[1. 1. 1. 1.]\n",
      "[1. 1. 1. 1.]\n",
      "[1. 1. 1. 1.]\n",
      "[1. 1. 1. 1.]\n",
      "[1. 1. 1. 1.]\n",
      "[1. 1. 1. 1.]\n",
      "[1. 1. 1. 1.]\n",
      "[1. 1. 1. 1.]\n",
      "[1. 1. 1. 1.]\n",
      "[1. 1. 1. 1.]\n",
      "[1. 1. 1. 1.]\n",
      "[1. 1. 1. 1.]\n",
      "[1. 1. 1. 1.]\n",
      "NEW\n",
      "[1. 1. 1. 1.]\n",
      "[1. 1. 1. 1.]\n",
      "[1. 1. 1. 1.]\n",
      "[1. 1. 1. 1.]\n",
      "[1. 1. 1. 1.]\n",
      "[1. 1. 1. 1.]\n",
      "[1. 1. 1. 1.]\n",
      "[1. 1. 1. 1.]\n",
      "[1. 1. 1. 1.]\n",
      "[1. 1. 1. 1.]\n",
      "[1. 1. 1. 1.]\n",
      "[1. 1. 1. 1.]\n",
      "[1. 1. 1. 1.]\n",
      "[1. 1. 1. 1.]\n",
      "[1. 1. 1. 1.]\n",
      "[1. 1. 1. 1.]\n",
      "[1. 1. 1. 1.]\n",
      "[1. 1. 1. 1.]\n",
      "[1. 1. 1. 1.]\n",
      "[1. 1. 1. 1.]\n",
      "[1. 1. 1. 1.]\n",
      "[1. 1. 1. 1.]\n",
      "[1. 1. 1. 1.]\n",
      "[1. 1. 1. 1.]\n",
      "[1. 1. 1. 1.]\n",
      "[1. 1. 1. 1.]\n",
      "[1. 1. 1. 1.]\n",
      "[1. 1. 1. 1.]\n",
      "[1. 1. 1. 1.]\n",
      "[1. 1. 1. 1.]\n",
      "[1. 1. 1. 1.]\n",
      "[1. 1. 1. 1.]\n",
      "[1. 1. 1. 1.]\n",
      "[1. 1. 1. 1.]\n",
      "[1. 1. 1. 1.]\n",
      "[1. 1. 1. 1.]\n",
      "[1. 1. 1. 1.]\n",
      "[1. 1. 1. 1.]\n",
      "[1. 1. 1. 1.]\n",
      "[1. 1. 1. 1.]\n",
      "[1. 1. 1. 1.]\n",
      "[1. 1. 1. 1.]\n",
      "[1. 1. 1. 1.]\n",
      "[1. 1. 1. 1.]\n",
      "[1. 1. 1. 1.]\n",
      "[1. 1. 1. 1.]\n",
      "[1. 1. 1. 1.]\n",
      "[1. 1. 1. 1.]\n",
      "[1. 1. 1. 1.]\n",
      "[1. 1. 1. 1.]\n",
      "NEW\n",
      "[1. 1. 1. 1.]\n",
      "[1. 1. 1. 1.]\n",
      "[1. 1. 1. 1.]\n",
      "[1. 1. 1. 1.]\n",
      "[1. 1. 1. 1.]\n",
      "[1. 1. 1. 1.]\n",
      "[1. 1. 1. 1.]\n",
      "[1. 1. 1. 1.]\n",
      "[1. 1. 1. 1.]\n",
      "[1. 1. 1. 1.]\n",
      "[1. 1. 1. 1.]\n",
      "[1. 1. 1. 1.]\n",
      "[1. 1. 1. 1.]\n",
      "[1. 1. 1. 1.]\n",
      "[1. 1. 1. 1.]\n",
      "[1. 1. 1. 1.]\n",
      "[1. 1. 1. 1.]\n",
      "[1. 1. 1. 1.]\n",
      "[1. 1. 1. 1.]\n",
      "[1. 1. 1. 1.]\n",
      "[1. 1. 1. 1.]\n",
      "[1. 1. 1. 1.]\n",
      "[1. 1. 1. 1.]\n",
      "[1. 1. 1. 1.]\n",
      "[1. 1. 1. 1.]\n",
      "[1. 1. 1. 1.]\n",
      "[1. 1. 1. 1.]\n",
      "[1. 1. 1. 1.]\n",
      "[1. 1. 1. 1.]\n",
      "[1. 1. 1. 1.]\n",
      "[1. 1. 1. 1.]\n",
      "[1. 1. 1. 1.]\n",
      "[1. 1. 1. 1.]\n",
      "[1. 1. 1. 1.]\n",
      "[1. 1. 1. 1.]\n",
      "[1. 1. 1. 1.]\n",
      "[1. 1. 1. 1.]\n",
      "[1. 1. 1. 1.]\n",
      "[1. 1. 1. 1.]\n",
      "[1. 1. 1. 1.]\n",
      "[1. 1. 1. 1.]\n",
      "[1. 1. 1. 1.]\n",
      "[1. 1. 1. 1.]\n",
      "[1. 1. 1. 1.]\n",
      "[1. 1. 1. 1.]\n",
      "[1. 1. 1. 1.]\n",
      "[1. 1. 1. 1.]\n",
      "[1. 1. 1. 1.]\n",
      "[1. 1. 1. 1.]\n",
      "[1. 1. 1. 1.]\n",
      "NEW\n",
      "[1. 1. 1. 1.]\n",
      "[1. 1. 1. 1.]\n",
      "[1. 1. 1. 1.]\n",
      "[1. 1. 1. 1.]\n",
      "[1. 1. 1. 1.]\n",
      "[1. 1. 1. 1.]\n",
      "[1. 1. 1. 1.]\n",
      "[1. 1. 1. 1.]\n",
      "[1. 1. 1. 1.]\n",
      "[1. 1. 1. 1.]\n",
      "[1. 1. 1. 1.]\n",
      "[1. 1. 1. 1.]\n",
      "[1. 1. 1. 1.]\n",
      "[1. 1. 1. 1.]\n",
      "[1. 1. 1. 1.]\n",
      "[1. 1. 1. 1.]\n",
      "[1. 1. 1. 1.]\n",
      "[1. 1. 1. 1.]\n",
      "[1. 1. 1. 1.]\n",
      "[1. 1. 1. 1.]\n",
      "[1. 1. 1. 1.]\n",
      "[1. 1. 1. 1.]\n",
      "[1. 1. 1. 1.]\n",
      "[1. 1. 1. 1.]\n",
      "[1. 1. 1. 1.]\n",
      "[1. 1. 1. 1.]\n",
      "[1. 1. 1. 1.]\n",
      "[1. 1. 1. 1.]\n",
      "[1. 1. 1. 1.]\n",
      "[1. 1. 1. 1.]\n",
      "[1. 1. 1. 1.]\n",
      "[1. 1. 1. 1.]\n",
      "[1. 1. 1. 1.]\n",
      "[1. 1. 1. 1.]\n",
      "[1. 1. 1. 1.]\n",
      "[1. 1. 1. 1.]\n",
      "[1. 1. 1. 1.]\n",
      "[1. 1. 1. 1.]\n",
      "[1. 1. 1. 1.]\n",
      "[1. 1. 1. 1.]\n",
      "[1. 1. 1. 1.]\n",
      "[1. 1. 1. 1.]\n",
      "[1. 1. 1. 1.]\n",
      "[1. 1. 1. 1.]\n",
      "[1. 1. 1. 1.]\n",
      "[1. 1. 1. 1.]\n",
      "[1. 1. 1. 1.]\n",
      "[1. 1. 1. 1.]\n",
      "[1. 1. 1. 1.]\n",
      "[1. 1. 1. 1.]\n",
      "NEW\n",
      "[1. 1. 1. 1.]\n",
      "[1. 1. 1. 1.]\n",
      "[1. 1. 1. 1.]\n",
      "[1. 1. 1. 1.]\n",
      "[1. 1. 1. 1.]\n",
      "[1. 1. 1. 1.]\n",
      "[1. 1. 1. 1.]\n",
      "[1. 1. 1. 1.]\n",
      "[1. 1. 1. 1.]\n",
      "[1. 1. 1. 1.]\n",
      "[1. 1. 1. 1.]\n",
      "[1. 1. 1. 1.]\n",
      "[1. 1. 1. 1.]\n",
      "[1. 1. 1. 1.]\n",
      "[1. 1. 1. 1.]\n",
      "[1. 1. 1. 1.]\n",
      "[1. 1. 1. 1.]\n",
      "[1. 1. 1. 1.]\n",
      "[1. 1. 1. 1.]\n",
      "[1. 1. 1. 1.]\n",
      "[1. 1. 1. 1.]\n",
      "[1. 1. 1. 1.]\n",
      "[1. 1. 1. 1.]\n",
      "[1. 1. 1. 1.]\n",
      "[1. 1. 1. 1.]\n",
      "[1. 1. 1. 1.]\n",
      "[1. 1. 1. 1.]\n",
      "[1. 1. 1. 1.]\n",
      "[1. 1. 1. 1.]\n",
      "[1. 1. 1. 1.]\n",
      "[1. 1. 1. 1.]\n",
      "[1. 1. 1. 1.]\n",
      "[1. 1. 1. 1.]\n",
      "[1. 1. 1. 1.]\n",
      "[1. 1. 1. 1.]\n",
      "[1. 1. 1. 1.]\n",
      "[1. 1. 1. 1.]\n",
      "[1. 1. 1. 1.]\n",
      "[1. 1. 1. 1.]\n",
      "[1. 1. 1. 1.]\n",
      "[1. 1. 1. 1.]\n",
      "[1. 1. 1. 1.]\n",
      "[1. 1. 1. 1.]\n",
      "[1. 1. 1. 1.]\n",
      "[1. 1. 1. 1.]\n",
      "[1. 1. 1. 1.]\n",
      "[1. 1. 1. 1.]\n",
      "[1. 1. 1. 1.]\n",
      "[1. 1. 1. 1.]\n",
      "[1. 1. 1. 1.]\n",
      "NEW\n",
      "[1. 1. 1. 1.]\n",
      "[1. 1. 1. 1.]\n",
      "[1. 1. 1. 1.]\n",
      "[1. 1. 1. 1.]\n",
      "[1. 1. 1. 1.]\n",
      "[1. 1. 1. 1.]\n",
      "[1. 1. 1. 1.]\n",
      "[1. 1. 1. 1.]\n",
      "[1. 1. 1. 1.]\n",
      "[1. 1. 1. 1.]\n",
      "[1. 1. 1. 1.]\n",
      "[1. 1. 1. 1.]\n",
      "[1. 1. 1. 1.]\n",
      "[1. 1. 1. 1.]\n",
      "[1. 1. 1. 1.]\n",
      "[1. 1. 1. 1.]\n",
      "[1. 1. 1. 1.]\n",
      "[1. 1. 1. 1.]\n",
      "[1. 1. 1. 1.]\n",
      "[1. 1. 1. 1.]\n",
      "[1. 1. 1. 1.]\n",
      "[1. 1. 1. 1.]\n",
      "[1. 1. 1. 1.]\n",
      "[1. 1. 1. 1.]\n",
      "[1. 1. 1. 1.]\n",
      "[1. 1. 1. 1.]\n",
      "[1. 1. 1. 1.]\n",
      "[1. 1. 1. 1.]\n",
      "[1. 1. 1. 1.]\n",
      "[1. 1. 1. 1.]\n",
      "[1. 1. 1. 1.]\n",
      "[1. 1. 1. 1.]\n",
      "[1. 1. 1. 1.]\n",
      "[1. 1. 1. 1.]\n",
      "[1. 1. 1. 1.]\n",
      "[1. 1. 1. 1.]\n",
      "[1. 1. 1. 1.]\n",
      "[1. 1. 1. 1.]\n",
      "[1. 1. 1. 1.]\n",
      "[1. 1. 1. 1.]\n",
      "[1. 1. 1. 1.]\n",
      "[1. 1. 1. 1.]\n",
      "[1. 1. 1. 1.]\n",
      "[1. 1. 1. 1.]\n",
      "[1. 1. 1. 1.]\n",
      "[1. 1. 1. 1.]\n",
      "[1. 1. 1. 1.]\n",
      "[1. 1. 1. 1.]\n",
      "[1. 1. 1. 1.]\n",
      "[1. 1. 1. 1.]\n",
      "NEW\n",
      "[1. 1. 1. 1.]\n",
      "[1. 1. 1. 1.]\n",
      "[1. 1. 1. 1.]\n",
      "[1. 1. 1. 1.]\n",
      "[1. 1. 1. 1.]\n",
      "[1. 1. 1. 1.]\n",
      "[1. 1. 1. 1.]\n",
      "[1. 1. 1. 1.]\n",
      "[1. 1. 1. 1.]\n",
      "[1. 1. 1. 1.]\n",
      "[1. 1. 1. 1.]\n",
      "[1. 1. 1. 1.]\n",
      "[1. 1. 1. 1.]\n",
      "[1. 1. 1. 1.]\n",
      "[1. 1. 1. 1.]\n",
      "[1. 1. 1. 1.]\n",
      "[1. 1. 1. 1.]\n",
      "[1. 1. 1. 1.]\n",
      "[1. 1. 1. 1.]\n",
      "[1. 1. 1. 1.]\n",
      "[1. 1. 1. 1.]\n",
      "[1. 1. 1. 1.]\n",
      "[1. 1. 1. 1.]\n",
      "[1. 1. 1. 1.]\n",
      "[1. 1. 1. 1.]\n",
      "[1. 1. 1. 1.]\n",
      "[1. 1. 1. 1.]\n",
      "[1. 1. 1. 1.]\n",
      "[1. 1. 1. 1.]\n",
      "[1. 1. 1. 1.]\n",
      "[1. 1. 1. 1.]\n",
      "[1. 1. 1. 1.]\n",
      "[1. 1. 1. 1.]\n",
      "[1. 1. 1. 1.]\n",
      "[1. 1. 1. 1.]\n",
      "[1. 1. 1. 1.]\n",
      "[1. 1. 1. 1.]\n",
      "[1. 1. 1. 1.]\n",
      "[1. 1. 1. 1.]\n",
      "[1. 1. 1. 1.]\n",
      "[1. 1. 1. 1.]\n",
      "[1. 1. 1. 1.]\n",
      "[1. 1. 1. 1.]\n",
      "[1. 1. 1. 1.]\n",
      "[1. 1. 1. 1.]\n",
      "[1. 1. 1. 1.]\n",
      "[1. 1. 1. 1.]\n",
      "[1. 1. 1. 1.]\n",
      "[1. 1. 1. 1.]\n",
      "[1. 1. 1. 1.]\n",
      "NEW\n",
      "[1. 1. 1. 1.]\n",
      "[1. 1. 1. 1.]\n",
      "[1. 1. 1. 1.]\n",
      "[1. 1. 1. 1.]\n",
      "[1. 1. 1. 1.]\n",
      "[1. 1. 1. 1.]\n",
      "[1. 1. 1. 1.]\n",
      "[1. 1. 1. 1.]\n",
      "[1. 1. 1. 1.]\n",
      "[1. 1. 1. 1.]\n",
      "[1. 1. 1. 1.]\n",
      "[1. 1. 1. 1.]\n",
      "[1. 1. 1. 1.]\n",
      "[1. 1. 1. 1.]\n",
      "[1. 1. 1. 1.]\n",
      "[1. 1. 1. 1.]\n",
      "[1. 1. 1. 1.]\n",
      "[1. 1. 1. 1.]\n",
      "[1. 1. 1. 1.]\n",
      "[1. 1. 1. 1.]\n",
      "[1. 1. 1. 1.]\n",
      "[1. 1. 1. 1.]\n",
      "[1. 1. 1. 1.]\n",
      "[1. 1. 1. 1.]\n",
      "[1. 1. 1. 1.]\n",
      "[1. 1. 1. 1.]\n",
      "[1. 1. 1. 1.]\n",
      "[1. 1. 1. 1.]\n",
      "[1. 1. 1. 1.]\n",
      "[1. 1. 1. 1.]\n",
      "[1. 1. 1. 1.]\n",
      "[1. 1. 1. 1.]\n",
      "[1. 1. 1. 1.]\n",
      "[1. 1. 1. 1.]\n",
      "[1. 1. 1. 1.]\n",
      "[1. 1. 1. 1.]\n",
      "[1. 1. 1. 1.]\n",
      "[1. 1. 1. 1.]\n",
      "[1. 1. 1. 1.]\n",
      "[1. 1. 1. 1.]\n",
      "[1. 1. 1. 1.]\n",
      "[1. 1. 1. 1.]\n",
      "[1. 1. 1. 1.]\n",
      "[1. 1. 1. 1.]\n",
      "[1. 1. 1. 1.]\n",
      "[1. 1. 1. 1.]\n",
      "[1. 1. 1. 1.]\n",
      "[1. 1. 1. 1.]\n",
      "[1. 1. 1. 1.]\n",
      "[1. 1. 1. 1.]\n",
      "NEW\n",
      "[1. 1. 1. 1.]\n",
      "[1. 1. 1. 1.]\n",
      "[1. 1. 1. 1.]\n",
      "[1. 1. 1. 1.]\n",
      "[1. 1. 1. 1.]\n",
      "[1. 1. 1. 1.]\n",
      "[1. 1. 1. 1.]\n",
      "[1. 1. 1. 1.]\n",
      "[1. 1. 1. 1.]\n",
      "[1. 1. 1. 1.]\n",
      "[1. 1. 1. 1.]\n",
      "[1. 1. 1. 1.]\n",
      "[1. 1. 1. 1.]\n",
      "[1. 1. 1. 1.]\n",
      "[1. 1. 1. 1.]\n",
      "[1. 1. 1. 1.]\n",
      "[1. 1. 1. 1.]\n",
      "[1. 1. 1. 1.]\n",
      "[1. 1. 1. 1.]\n",
      "[1. 1. 1. 1.]\n",
      "[1. 1. 1. 1.]\n",
      "[1. 1. 1. 1.]\n",
      "[1. 1. 1. 1.]\n",
      "[1. 1. 1. 1.]\n",
      "[1. 1. 1. 1.]\n",
      "[1. 1. 1. 1.]\n",
      "[1. 1. 1. 1.]\n",
      "[1. 1. 1. 1.]\n",
      "[1. 1. 1. 1.]\n",
      "[1. 1. 1. 1.]\n",
      "[1. 1. 1. 1.]\n",
      "[1. 1. 1. 1.]\n",
      "[1. 1. 1. 1.]\n",
      "[1. 1. 1. 1.]\n",
      "[1. 1. 1. 1.]\n",
      "[1. 1. 1. 1.]\n",
      "[1. 1. 1. 1.]\n",
      "[1. 1. 1. 1.]\n",
      "[1. 1. 1. 1.]\n",
      "[1. 1. 1. 1.]\n",
      "[1. 1. 1. 1.]\n",
      "[1. 1. 1. 1.]\n",
      "[1. 1. 1. 1.]\n",
      "[1. 1. 1. 1.]\n",
      "[1. 1. 1. 1.]\n",
      "[1. 1. 1. 1.]\n",
      "[1. 1. 1. 1.]\n",
      "[1. 1. 1. 1.]\n",
      "[1. 1. 1. 1.]\n",
      "[1. 1. 1. 1.]\n"
     ]
    }
   ],
   "source": [
    "import gymnasium as gym\n",
    "import numpy as np\n",
    "\n",
    "env = gym.make(f'FetchReachDense-v2', render_mode='human')\n",
    "done = False\n",
    "for i in range(10):\n",
    "    obs, _ = env.reset()\n",
    "    print(\"NEW\")\n",
    "    for _ in range(50):\n",
    "        action = env.action_space.high\n",
    "        print(action)\n",
    "        obs, rew, trunc, term, info = env.step(action)\n",
    "\n",
    "env.close()"
   ]
  },
  {
   "cell_type": "code",
   "execution_count": null,
   "metadata": {},
   "outputs": [
    {
     "name": "stderr",
     "output_type": "stream",
     "text": [
      "pybullet build time: Nov 28 2023 23:52:03\n",
      "/home/nikisim/anaconda3/envs/ReBRAC_UR5/lib/python3.9/site-packages/tqdm/auto.py:22: TqdmWarning: IProgress not found. Please update jupyter and ipywidgets. See https://ipywidgets.readthedocs.io/en/stable/user_install.html\n",
      "  from .autonotebook import tqdm as notebook_tqdm\n",
      "0it [00:00, ?it/s]"
     ]
    },
    {
     "name": "stdout",
     "output_type": "stream",
     "text": [
      "startThreads creating 1 threads.\n",
      "starting thread 0\n",
      "started thread 0 \n",
      "argc=2\n",
      "argv[0] = --unused\n",
      "argv[1] = --start_demo_name=Physics Server\n",
      "ExampleBrowserThreadFunc started\n",
      "X11 functions dynamically loaded using dlopen/dlsym OK!\n",
      "X11 functions dynamically loaded using dlopen/dlsym OK!\n",
      "Creating context\n",
      "Created GL 3.3 context\n",
      "Direct GLX rendering context obtained\n",
      "Making context current\n",
      "GL_VENDOR=NVIDIA Corporation\n",
      "GL_RENDERER=NVIDIA GeForce RTX 4070/PCIe/SSE2\n",
      "GL_VERSION=3.3.0 NVIDIA 535.171.04\n",
      "GL_SHADING_LANGUAGE_VERSION=3.30 NVIDIA via Cg compiler\n",
      "pthread_getconcurrency()=0\n",
      "Version = 3.3.0 NVIDIA 535.171.04\n",
      "Vendor = NVIDIA Corporation\n",
      "Renderer = NVIDIA GeForce RTX 4070/PCIe/SSE2\n",
      "b3Printf: Selected demo: Physics Server\n",
      "startThreads creating 1 threads.\n",
      "starting thread 0\n",
      "started thread 0 \n",
      "MotionThreadFunc thread started\n",
      "ven = NVIDIA Corporation\n",
      "ven = NVIDIA Corporation\n"
     ]
    },
    {
     "name": "stderr",
     "output_type": "stream",
     "text": [
      "/home/nikisim/anaconda3/envs/ReBRAC_UR5/lib/python3.9/site-packages/gym/utils/passive_env_checker.py:174: UserWarning: \u001b[33mWARN: Future gym versions will require that `Env.reset` can be passed a `seed` instead of using `Env.seed` for resetting the environment random number generator.\u001b[0m\n",
      "  logger.warn(\n",
      "/home/nikisim/anaconda3/envs/ReBRAC_UR5/lib/python3.9/site-packages/gym/utils/passive_env_checker.py:187: UserWarning: \u001b[33mWARN: Future gym versions will require that `Env.reset` can be passed `options` to allow the environment initialisation to be passed additional information.\u001b[0m\n",
      "  logger.warn(\n",
      "1it [00:01,  1.34s/it]/home/nikisim/anaconda3/envs/ReBRAC_UR5/lib/python3.9/site-packages/gym/utils/passive_env_checker.py:141: UserWarning: \u001b[33mWARN: The obs returned by the `reset()` method was expecting numpy array dtype to be float32, actual type: float64\u001b[0m\n",
      "  logger.warn(\n",
      "/home/nikisim/anaconda3/envs/ReBRAC_UR5/lib/python3.9/site-packages/gym/utils/passive_env_checker.py:165: UserWarning: \u001b[33mWARN: The obs returned by the `reset()` method is not within the observation space.\u001b[0m\n",
      "  logger.warn(f\"{pre} is not within the observation space.\")\n",
      "/home/nikisim/anaconda3/envs/ReBRAC_UR5/lib/python3.9/site-packages/gym/utils/passive_env_checker.py:233: DeprecationWarning: `np.bool8` is a deprecated alias for `np.bool_`.  (Deprecated NumPy 1.24)\n",
      "  if not isinstance(terminated, (bool, np.bool8)):\n",
      "/home/nikisim/anaconda3/envs/ReBRAC_UR5/lib/python3.9/site-packages/gym/utils/passive_env_checker.py:141: UserWarning: \u001b[33mWARN: The obs returned by the `step()` method was expecting numpy array dtype to be float32, actual type: float64\u001b[0m\n",
      "  logger.warn(\n",
      "/home/nikisim/anaconda3/envs/ReBRAC_UR5/lib/python3.9/site-packages/gym/utils/passive_env_checker.py:165: UserWarning: \u001b[33mWARN: The obs returned by the `step()` method is not within the observation space.\u001b[0m\n",
      "  logger.warn(f\"{pre} is not within the observation space.\")\n",
      "76it [00:01, 72.65it/s]"
     ]
    },
    {
     "name": "stdout",
     "output_type": "stream",
     "text": [
      "b3Printf: b3Warning[examples/Importers/ImportURDFDemo/BulletUrdfImporter.cpp,126]:\n",
      "\n",
      "b3Printf: No inertial data for link, using mass=1, localinertiadiagonal = 1,1,1, identity local inertial frame\n",
      "b3Printf: b3Warning[examples/Importers/ImportURDFDemo/BulletUrdfImporter.cpp,126]:\n",
      "\n",
      "b3Printf: ee_link\n",
      "[jointInfo(id=0, name='world_arm_joint', type=4, damping=0.0, friction=0.0, lowerLimit=0.0, upperLimit=-1.0, maxForce=0.0, maxVelocity=0.0, controllable=False), jointInfo(id=1, name='shoulder_pan_joint', type=0, damping=0.0, friction=0.0, lowerLimit=-3.14159265359, upperLimit=3.14159265359, maxForce=150.0, maxVelocity=3.15, controllable=True), jointInfo(id=2, name='shoulder_lift_joint', type=0, damping=0.0, friction=0.0, lowerLimit=-3.14159265359, upperLimit=3.14159265359, maxForce=150.0, maxVelocity=3.15, controllable=True), jointInfo(id=3, name='elbow_joint', type=0, damping=0.0, friction=0.0, lowerLimit=-3.14159265359, upperLimit=3.14159265359, maxForce=150.0, maxVelocity=3.15, controllable=True), jointInfo(id=4, name='wrist_1_joint', type=0, damping=0.0, friction=0.0, lowerLimit=-3.14159265359, upperLimit=3.14159265359, maxForce=28.0, maxVelocity=3.2, controllable=True), jointInfo(id=5, name='wrist_2_joint', type=0, damping=0.0, friction=0.0, lowerLimit=-3.14159265359, upperLimit=3.14159265359, maxForce=28.0, maxVelocity=3.2, controllable=True), jointInfo(id=6, name='wrist_3_joint', type=0, damping=0.0, friction=0.0, lowerLimit=-3.14159265359, upperLimit=3.14159265359, maxForce=28.0, maxVelocity=3.2, controllable=True), jointInfo(id=7, name='ee_fixed_joint', type=4, damping=0.0, friction=0.0, lowerLimit=0.0, upperLimit=-1.0, maxForce=0.0, maxVelocity=0.0, controllable=False), jointInfo(id=8, name='robotiq_85_base_joint', type=4, damping=0.0, friction=0.0, lowerLimit=0.0, upperLimit=-1.0, maxForce=0.0, maxVelocity=0.0, controllable=False), jointInfo(id=9, name='finger_joint', type=0, damping=0.0, friction=0.0, lowerLimit=0.0, upperLimit=0.8, maxForce=1000.0, maxVelocity=2.0, controllable=True), jointInfo(id=10, name='left_outer_finger_joint', type=4, damping=0.0, friction=0.0, lowerLimit=0.0, upperLimit=-1.0, maxForce=0.0, maxVelocity=0.0, controllable=False), jointInfo(id=11, name='left_inner_finger_joint', type=0, damping=0.0, friction=0.0, lowerLimit=-0.8757, upperLimit=0.0, maxForce=1000.0, maxVelocity=2.0, controllable=True), jointInfo(id=12, name='left_inner_finger_pad_joint', type=4, damping=0.0, friction=0.0, lowerLimit=0.0, upperLimit=-1.0, maxForce=0.0, maxVelocity=0.0, controllable=False), jointInfo(id=13, name='left_inner_knuckle_joint', type=0, damping=0.0, friction=0.0, lowerLimit=0.0, upperLimit=0.8757, maxForce=1000.0, maxVelocity=2.0, controllable=True), jointInfo(id=14, name='right_outer_knuckle_joint', type=0, damping=0.0, friction=0.0, lowerLimit=0.0, upperLimit=0.81, maxForce=1000.0, maxVelocity=2.0, controllable=True), jointInfo(id=15, name='right_outer_finger_joint', type=4, damping=0.0, friction=0.0, lowerLimit=0.0, upperLimit=-1.0, maxForce=0.0, maxVelocity=0.0, controllable=False), jointInfo(id=16, name='right_inner_finger_joint', type=0, damping=0.0, friction=0.0, lowerLimit=-0.8757, upperLimit=0.0, maxForce=1000.0, maxVelocity=2.0, controllable=True), jointInfo(id=17, name='right_inner_finger_pad_joint', type=4, damping=0.0, friction=0.0, lowerLimit=0.0, upperLimit=-1.0, maxForce=0.0, maxVelocity=0.0, controllable=False), jointInfo(id=18, name='right_inner_knuckle_joint', type=0, damping=0.0, friction=0.0, lowerLimit=0.0, upperLimit=0.8757, maxForce=1000.0, maxVelocity=2.0, controllable=True)]\n",
      "NEW\n",
      "[0.15 0.15]\n",
      "[0.15 0.15]\n",
      "[0.15 0.15]\n"
     ]
    },
    {
     "name": "stderr",
     "output_type": "stream",
     "text": [
      "304it [00:01, 333.22it/s]"
     ]
    },
    {
     "name": "stdout",
     "output_type": "stream",
     "text": [
      "[0.15 0.15]\n",
      "[0.15 0.15]\n",
      "[0.15 0.15]\n"
     ]
    },
    {
     "name": "stderr",
     "output_type": "stream",
     "text": [
      "456it [00:01, 492.29it/s]"
     ]
    },
    {
     "name": "stdout",
     "output_type": "stream",
     "text": [
      "[0.15 0.15]\n",
      "[0.15 0.15]\n",
      "[0.15 0.15]\n"
     ]
    },
    {
     "name": "stderr",
     "output_type": "stream",
     "text": [
      "684it [00:02, 647.60it/s]"
     ]
    },
    {
     "name": "stdout",
     "output_type": "stream",
     "text": [
      "[0.15 0.15]\n",
      "[0.15 0.15]\n",
      "[0.15 0.15]\n"
     ]
    },
    {
     "name": "stderr",
     "output_type": "stream",
     "text": [
      "836it [00:02, 700.69it/s]"
     ]
    },
    {
     "name": "stdout",
     "output_type": "stream",
     "text": [
      "[0.15 0.15]\n",
      "[0.15 0.15]\n",
      "[0.15 0.15]\n"
     ]
    },
    {
     "name": "stderr",
     "output_type": "stream",
     "text": [
      "988it [00:02, 728.99it/s]"
     ]
    },
    {
     "name": "stdout",
     "output_type": "stream",
     "text": [
      "[0.15 0.15]\n",
      "[0.15 0.15]\n",
      "[0.15 0.15]\n"
     ]
    },
    {
     "name": "stderr",
     "output_type": "stream",
     "text": [
      "1217it [00:02, 748.15it/s]"
     ]
    },
    {
     "name": "stdout",
     "output_type": "stream",
     "text": [
      "[0.15 0.15]\n",
      "[0.15 0.15]\n",
      "[0.15 0.15]\n"
     ]
    },
    {
     "name": "stderr",
     "output_type": "stream",
     "text": [
      "1369it [00:03, 753.03it/s]"
     ]
    },
    {
     "name": "stdout",
     "output_type": "stream",
     "text": [
      "[0.15 0.15]\n",
      "[0.15 0.15]\n",
      "[0.15 0.15]\n"
     ]
    },
    {
     "name": "stderr",
     "output_type": "stream",
     "text": [
      "1597it [00:03, 752.38it/s]"
     ]
    },
    {
     "name": "stdout",
     "output_type": "stream",
     "text": [
      "[0.15 0.15]\n",
      "[0.15 0.15]\n",
      "[0.15 0.15]\n"
     ]
    },
    {
     "name": "stderr",
     "output_type": "stream",
     "text": [
      "1749it [00:03, 755.16it/s]"
     ]
    },
    {
     "name": "stdout",
     "output_type": "stream",
     "text": [
      "[0.15 0.15]\n",
      "[0.15 0.15]\n",
      "[0.15 0.15]\n"
     ]
    },
    {
     "name": "stderr",
     "output_type": "stream",
     "text": [
      "1901it [00:03, 754.99it/s]"
     ]
    },
    {
     "name": "stdout",
     "output_type": "stream",
     "text": [
      "[0.15 0.15]\n",
      "[0.15 0.15]\n",
      "[0.15 0.15]\n"
     ]
    },
    {
     "name": "stderr",
     "output_type": "stream",
     "text": [
      "2129it [00:04, 756.05it/s]"
     ]
    },
    {
     "name": "stdout",
     "output_type": "stream",
     "text": [
      "[0.15 0.15]\n",
      "[0.15 0.15]\n",
      "[0.15 0.15]\n"
     ]
    },
    {
     "name": "stderr",
     "output_type": "stream",
     "text": [
      "2281it [00:04, 756.36it/s]"
     ]
    },
    {
     "name": "stdout",
     "output_type": "stream",
     "text": [
      "[0.15 0.15]\n",
      "[0.15 0.15]\n",
      "[0.15 0.15]\n"
     ]
    },
    {
     "name": "stderr",
     "output_type": "stream",
     "text": [
      "2433it [00:04, 756.39it/s]"
     ]
    },
    {
     "name": "stdout",
     "output_type": "stream",
     "text": [
      "[0.15 0.15]\n",
      "[0.15 0.15]\n",
      "[0.15 0.15]\n"
     ]
    },
    {
     "name": "stderr",
     "output_type": "stream",
     "text": [
      "2661it [00:04, 757.19it/s]"
     ]
    },
    {
     "name": "stdout",
     "output_type": "stream",
     "text": [
      "[0.15 0.15]\n",
      "[0.15 0.15]\n",
      "[0.15 0.15]\n"
     ]
    },
    {
     "name": "stderr",
     "output_type": "stream",
     "text": [
      "2813it [00:05, 758.39it/s]"
     ]
    },
    {
     "name": "stdout",
     "output_type": "stream",
     "text": [
      "[0.15 0.15]\n",
      "[0.15 0.15]\n",
      "[0.15 0.15]\n"
     ]
    },
    {
     "name": "stderr",
     "output_type": "stream",
     "text": [
      "3041it [00:05, 757.92it/s]"
     ]
    },
    {
     "name": "stdout",
     "output_type": "stream",
     "text": [
      "[0.15 0.15]\n",
      "[0.15 0.15]\n",
      "NEW\n",
      "[0.15 0.15]\n"
     ]
    },
    {
     "name": "stderr",
     "output_type": "stream",
     "text": [
      "3193it [00:05, 757.54it/s]"
     ]
    },
    {
     "name": "stdout",
     "output_type": "stream",
     "text": [
      "[0.15 0.15]\n",
      "[0.15 0.15]\n",
      "[0.15 0.15]\n"
     ]
    },
    {
     "name": "stderr",
     "output_type": "stream",
     "text": [
      "3345it [00:05, 750.76it/s]"
     ]
    },
    {
     "name": "stdout",
     "output_type": "stream",
     "text": [
      "[0.15 0.15]\n",
      "[0.15 0.15]\n",
      "[0.15 0.15]\n"
     ]
    },
    {
     "name": "stderr",
     "output_type": "stream",
     "text": [
      "3573it [00:06, 753.40it/s]"
     ]
    },
    {
     "name": "stdout",
     "output_type": "stream",
     "text": [
      "[0.15 0.15]\n",
      "[0.15 0.15]\n",
      "[0.15 0.15]\n"
     ]
    },
    {
     "name": "stderr",
     "output_type": "stream",
     "text": [
      "3725it [00:06, 755.58it/s]"
     ]
    },
    {
     "name": "stdout",
     "output_type": "stream",
     "text": [
      "[0.15 0.15]\n",
      "[0.15 0.15]\n",
      "[0.15 0.15]\n"
     ]
    },
    {
     "name": "stderr",
     "output_type": "stream",
     "text": [
      "3877it [00:06, 756.22it/s]"
     ]
    },
    {
     "name": "stdout",
     "output_type": "stream",
     "text": [
      "[0.15 0.15]\n",
      "[0.15 0.15]\n",
      "[0.15 0.15]\n"
     ]
    },
    {
     "name": "stderr",
     "output_type": "stream",
     "text": [
      "4105it [00:06, 755.99it/s]"
     ]
    },
    {
     "name": "stdout",
     "output_type": "stream",
     "text": [
      "[0.15 0.15]\n",
      "[0.15 0.15]\n",
      "[0.15 0.15]\n"
     ]
    },
    {
     "name": "stderr",
     "output_type": "stream",
     "text": [
      "4257it [00:06, 756.93it/s]"
     ]
    },
    {
     "name": "stdout",
     "output_type": "stream",
     "text": [
      "[0.15 0.15]\n",
      "[0.15 0.15]\n",
      "[0.15 0.15]\n"
     ]
    },
    {
     "name": "stderr",
     "output_type": "stream",
     "text": [
      "4485it [00:07, 757.24it/s]"
     ]
    },
    {
     "name": "stdout",
     "output_type": "stream",
     "text": [
      "[0.15 0.15]\n",
      "[0.15 0.15]\n",
      "[0.15 0.15]\n"
     ]
    },
    {
     "name": "stderr",
     "output_type": "stream",
     "text": [
      "4637it [00:07, 757.37it/s]"
     ]
    },
    {
     "name": "stdout",
     "output_type": "stream",
     "text": [
      "[0.15 0.15]\n",
      "[0.15 0.15]\n",
      "[0.15 0.15]\n"
     ]
    },
    {
     "name": "stderr",
     "output_type": "stream",
     "text": [
      "4789it [00:07, 757.25it/s]"
     ]
    },
    {
     "name": "stdout",
     "output_type": "stream",
     "text": [
      "[0.15 0.15]\n",
      "[0.15 0.15]\n",
      "[0.15 0.15]\n"
     ]
    },
    {
     "name": "stderr",
     "output_type": "stream",
     "text": [
      "5017it [00:07, 755.56it/s]"
     ]
    },
    {
     "name": "stdout",
     "output_type": "stream",
     "text": [
      "[0.15 0.15]\n",
      "[0.15 0.15]\n",
      "[0.15 0.15]\n"
     ]
    },
    {
     "name": "stderr",
     "output_type": "stream",
     "text": [
      "5169it [00:08, 754.87it/s]"
     ]
    },
    {
     "name": "stdout",
     "output_type": "stream",
     "text": [
      "[0.15 0.15]\n",
      "[0.15 0.15]\n",
      "[0.15 0.15]\n"
     ]
    },
    {
     "name": "stderr",
     "output_type": "stream",
     "text": [
      "5321it [00:08, 756.42it/s]"
     ]
    },
    {
     "name": "stdout",
     "output_type": "stream",
     "text": [
      "[0.15 0.15]\n",
      "[0.15 0.15]\n",
      "[0.15 0.15]\n"
     ]
    },
    {
     "name": "stderr",
     "output_type": "stream",
     "text": [
      "5549it [00:08, 757.89it/s]"
     ]
    },
    {
     "name": "stdout",
     "output_type": "stream",
     "text": [
      "[0.15 0.15]\n",
      "[0.15 0.15]\n",
      "[0.15 0.15]\n"
     ]
    },
    {
     "name": "stderr",
     "output_type": "stream",
     "text": [
      "5701it [00:08, 758.79it/s]"
     ]
    },
    {
     "name": "stdout",
     "output_type": "stream",
     "text": [
      "[0.15 0.15]\n",
      "[0.15 0.15]\n",
      "[0.15 0.15]\n"
     ]
    },
    {
     "name": "stderr",
     "output_type": "stream",
     "text": [
      "5930it [00:09, 758.60it/s]"
     ]
    },
    {
     "name": "stdout",
     "output_type": "stream",
     "text": [
      "[0.15 0.15]\n",
      "[0.15 0.15]\n",
      "[0.15 0.15]\n"
     ]
    },
    {
     "name": "stderr",
     "output_type": "stream",
     "text": [
      "6082it [00:09, 758.36it/s]"
     ]
    },
    {
     "name": "stdout",
     "output_type": "stream",
     "text": [
      "[0.15 0.15]\n",
      "NEW\n",
      "[0.15 0.15]\n",
      "[0.15 0.15]\n"
     ]
    },
    {
     "name": "stderr",
     "output_type": "stream",
     "text": [
      "6234it [00:09, 758.42it/s]"
     ]
    },
    {
     "name": "stdout",
     "output_type": "stream",
     "text": [
      "[0.15 0.15]\n",
      "[0.15 0.15]\n",
      "[0.15 0.15]\n"
     ]
    },
    {
     "name": "stderr",
     "output_type": "stream",
     "text": [
      "6462it [00:09, 755.43it/s]"
     ]
    },
    {
     "name": "stdout",
     "output_type": "stream",
     "text": [
      "[0.15 0.15]\n",
      "[0.15 0.15]\n",
      "[0.15 0.15]\n"
     ]
    },
    {
     "name": "stderr",
     "output_type": "stream",
     "text": [
      "6614it [00:10, 756.04it/s]"
     ]
    },
    {
     "name": "stdout",
     "output_type": "stream",
     "text": [
      "[0.15 0.15]\n",
      "[0.15 0.15]\n",
      "[0.15 0.15]\n"
     ]
    },
    {
     "name": "stderr",
     "output_type": "stream",
     "text": [
      "6766it [00:10, 757.43it/s]"
     ]
    },
    {
     "name": "stdout",
     "output_type": "stream",
     "text": [
      "[0.15 0.15]\n",
      "[0.15 0.15]\n",
      "[0.15 0.15]\n"
     ]
    },
    {
     "name": "stderr",
     "output_type": "stream",
     "text": [
      "6995it [00:10, 754.79it/s]"
     ]
    },
    {
     "name": "stdout",
     "output_type": "stream",
     "text": [
      "[0.15 0.15]\n",
      "[0.15 0.15]\n",
      "[0.15 0.15]\n"
     ]
    },
    {
     "name": "stderr",
     "output_type": "stream",
     "text": [
      "7147it [00:10, 755.24it/s]"
     ]
    },
    {
     "name": "stdout",
     "output_type": "stream",
     "text": [
      "[0.15 0.15]\n",
      "[0.15 0.15]\n",
      "[0.15 0.15]\n"
     ]
    },
    {
     "name": "stderr",
     "output_type": "stream",
     "text": [
      "7375it [00:11, 756.50it/s]"
     ]
    },
    {
     "name": "stdout",
     "output_type": "stream",
     "text": [
      "[0.15 0.15]\n",
      "[0.15 0.15]\n",
      "[0.15 0.15]\n"
     ]
    },
    {
     "name": "stderr",
     "output_type": "stream",
     "text": [
      "7527it [00:11, 756.21it/s]"
     ]
    },
    {
     "name": "stdout",
     "output_type": "stream",
     "text": [
      "[0.15 0.15]\n",
      "[0.15 0.15]\n",
      "[0.15 0.15]\n"
     ]
    },
    {
     "name": "stderr",
     "output_type": "stream",
     "text": [
      "7679it [00:11, 755.61it/s]"
     ]
    },
    {
     "name": "stdout",
     "output_type": "stream",
     "text": [
      "[0.15 0.15]\n",
      "[0.15 0.15]\n",
      "[0.15 0.15]\n"
     ]
    },
    {
     "name": "stderr",
     "output_type": "stream",
     "text": [
      "7907it [00:11, 756.35it/s]"
     ]
    },
    {
     "name": "stdout",
     "output_type": "stream",
     "text": [
      "[0.15 0.15]\n",
      "[0.15 0.15]\n",
      "[0.15 0.15]\n"
     ]
    },
    {
     "name": "stderr",
     "output_type": "stream",
     "text": [
      "8059it [00:11, 756.91it/s]"
     ]
    },
    {
     "name": "stdout",
     "output_type": "stream",
     "text": [
      "[0.15 0.15]\n",
      "[0.15 0.15]\n",
      "[0.15 0.15]\n"
     ]
    },
    {
     "name": "stderr",
     "output_type": "stream",
     "text": [
      "8211it [00:12, 756.48it/s]"
     ]
    },
    {
     "name": "stdout",
     "output_type": "stream",
     "text": [
      "[0.15 0.15]\n",
      "[0.15 0.15]\n",
      "[0.15 0.15]\n"
     ]
    },
    {
     "name": "stderr",
     "output_type": "stream",
     "text": [
      "8439it [00:12, 757.43it/s]"
     ]
    },
    {
     "name": "stdout",
     "output_type": "stream",
     "text": [
      "[0.15 0.15]\n",
      "[0.15 0.15]\n",
      "[0.15 0.15]\n"
     ]
    },
    {
     "name": "stderr",
     "output_type": "stream",
     "text": [
      "8593it [00:12, 759.35it/s]"
     ]
    },
    {
     "name": "stdout",
     "output_type": "stream",
     "text": [
      "[0.15 0.15]\n",
      "[0.15 0.15]\n",
      "[0.15 0.15]\n"
     ]
    },
    {
     "name": "stderr",
     "output_type": "stream",
     "text": [
      "8821it [00:13, 757.26it/s]"
     ]
    },
    {
     "name": "stdout",
     "output_type": "stream",
     "text": [
      "[0.15 0.15]\n",
      "[0.15 0.15]\n",
      "[0.15 0.15]\n"
     ]
    },
    {
     "name": "stderr",
     "output_type": "stream",
     "text": [
      "8974it [00:13, 757.87it/s]"
     ]
    },
    {
     "name": "stdout",
     "output_type": "stream",
     "text": [
      "[0.15 0.15]\n",
      "[0.15 0.15]\n",
      "[0.15 0.15]\n"
     ]
    },
    {
     "name": "stderr",
     "output_type": "stream",
     "text": [
      "9128it [00:13, 759.40it/s]"
     ]
    },
    {
     "name": "stdout",
     "output_type": "stream",
     "text": [
      "NEW\n",
      "[0.15 0.15]\n",
      "[0.15 0.15]\n",
      "[0.15 0.15]\n"
     ]
    },
    {
     "name": "stderr",
     "output_type": "stream",
     "text": [
      "9357it [00:13, 757.19it/s]"
     ]
    },
    {
     "name": "stdout",
     "output_type": "stream",
     "text": [
      "[0.15 0.15]\n",
      "[0.15 0.15]\n",
      "[0.15 0.15]\n"
     ]
    },
    {
     "name": "stderr",
     "output_type": "stream",
     "text": [
      "9511it [00:13, 759.05it/s]"
     ]
    },
    {
     "name": "stdout",
     "output_type": "stream",
     "text": [
      "[0.15 0.15]\n",
      "[0.15 0.15]\n",
      "[0.15 0.15]\n"
     ]
    },
    {
     "name": "stderr",
     "output_type": "stream",
     "text": [
      "9664it [00:14, 759.57it/s]"
     ]
    },
    {
     "name": "stdout",
     "output_type": "stream",
     "text": [
      "[0.15 0.15]\n",
      "[0.15 0.15]\n",
      "[0.15 0.15]\n"
     ]
    },
    {
     "name": "stderr",
     "output_type": "stream",
     "text": [
      "9893it [00:14, 759.77it/s]"
     ]
    },
    {
     "name": "stdout",
     "output_type": "stream",
     "text": [
      "[0.15 0.15]\n",
      "[0.15 0.15]\n",
      "[0.15 0.15]\n"
     ]
    },
    {
     "name": "stderr",
     "output_type": "stream",
     "text": [
      "10047it [00:14, 760.50it/s]"
     ]
    },
    {
     "name": "stdout",
     "output_type": "stream",
     "text": [
      "[0.15 0.15]\n",
      "[0.15 0.15]\n",
      "[0.15 0.15]\n"
     ]
    },
    {
     "name": "stderr",
     "output_type": "stream",
     "text": [
      "10201it [00:14, 759.91it/s]"
     ]
    },
    {
     "name": "stdout",
     "output_type": "stream",
     "text": [
      "[0.15 0.15]\n",
      "[0.15 0.15]\n",
      "[0.15 0.15]\n"
     ]
    },
    {
     "name": "stderr",
     "output_type": "stream",
     "text": [
      "10432it [00:15, 759.90it/s]"
     ]
    },
    {
     "name": "stdout",
     "output_type": "stream",
     "text": [
      "[0.15 0.15]\n",
      "[0.15 0.15]\n",
      "[0.15 0.15]\n"
     ]
    },
    {
     "name": "stderr",
     "output_type": "stream",
     "text": [
      "10584it [00:15, 754.70it/s]"
     ]
    },
    {
     "name": "stdout",
     "output_type": "stream",
     "text": [
      "[0.15 0.15]\n",
      "[0.15 0.15]\n",
      "[0.15 0.15]\n"
     ]
    },
    {
     "name": "stderr",
     "output_type": "stream",
     "text": [
      "10736it [00:15, 755.99it/s]"
     ]
    },
    {
     "name": "stdout",
     "output_type": "stream",
     "text": [
      "[0.15 0.15]\n",
      "[0.15 0.15]\n",
      "[0.15 0.15]\n"
     ]
    },
    {
     "name": "stderr",
     "output_type": "stream",
     "text": [
      "10965it [00:15, 758.06it/s]"
     ]
    },
    {
     "name": "stdout",
     "output_type": "stream",
     "text": [
      "[0.15 0.15]\n",
      "[0.15 0.15]\n",
      "[0.15 0.15]\n"
     ]
    },
    {
     "name": "stderr",
     "output_type": "stream",
     "text": [
      "11118it [00:16, 758.76it/s]"
     ]
    },
    {
     "name": "stdout",
     "output_type": "stream",
     "text": [
      "[0.15 0.15]\n",
      "[0.15 0.15]\n",
      "[0.15 0.15]\n"
     ]
    },
    {
     "name": "stderr",
     "output_type": "stream",
     "text": [
      "11347it [00:16, 758.61it/s]"
     ]
    },
    {
     "name": "stdout",
     "output_type": "stream",
     "text": [
      "[0.15 0.15]\n",
      "[0.15 0.15]\n",
      "[0.15 0.15]\n"
     ]
    },
    {
     "name": "stderr",
     "output_type": "stream",
     "text": [
      "11500it [00:16, 759.23it/s]"
     ]
    },
    {
     "name": "stdout",
     "output_type": "stream",
     "text": [
      "[0.15 0.15]\n",
      "[0.15 0.15]\n",
      "[0.15 0.15]\n"
     ]
    },
    {
     "name": "stderr",
     "output_type": "stream",
     "text": [
      "11653it [00:16, 759.56it/s]"
     ]
    },
    {
     "name": "stdout",
     "output_type": "stream",
     "text": [
      "[0.15 0.15]\n",
      "[0.15 0.15]\n",
      "[0.15 0.15]\n"
     ]
    },
    {
     "name": "stderr",
     "output_type": "stream",
     "text": [
      "11884it [00:17, 760.10it/s]"
     ]
    },
    {
     "name": "stdout",
     "output_type": "stream",
     "text": [
      "[0.15 0.15]\n",
      "[0.15 0.15]\n",
      "[0.15 0.15]\n"
     ]
    },
    {
     "name": "stderr",
     "output_type": "stream",
     "text": [
      "12038it [00:17, 759.81it/s]"
     ]
    },
    {
     "name": "stdout",
     "output_type": "stream",
     "text": [
      "[0.15 0.15]\n",
      "[0.15 0.15]\n",
      "NEW\n",
      "[0.15 0.15]\n"
     ]
    },
    {
     "name": "stderr",
     "output_type": "stream",
     "text": [
      "12190it [00:17, 759.00it/s]"
     ]
    },
    {
     "name": "stdout",
     "output_type": "stream",
     "text": [
      "[0.15 0.15]\n",
      "[0.15 0.15]\n",
      "[0.15 0.15]\n"
     ]
    },
    {
     "name": "stderr",
     "output_type": "stream",
     "text": [
      "12419it [00:17, 756.78it/s]"
     ]
    },
    {
     "name": "stdout",
     "output_type": "stream",
     "text": [
      "[0.15 0.15]\n",
      "[0.15 0.15]\n",
      "[0.15 0.15]\n"
     ]
    },
    {
     "name": "stderr",
     "output_type": "stream",
     "text": [
      "12571it [00:17, 755.07it/s]"
     ]
    },
    {
     "name": "stdout",
     "output_type": "stream",
     "text": [
      "[0.15 0.15]\n",
      "[0.15 0.15]\n",
      "[0.15 0.15]\n"
     ]
    },
    {
     "name": "stderr",
     "output_type": "stream",
     "text": [
      "12801it [00:18, 758.38it/s]"
     ]
    },
    {
     "name": "stdout",
     "output_type": "stream",
     "text": [
      "[0.15 0.15]\n",
      "[0.15 0.15]\n",
      "[0.15 0.15]\n"
     ]
    },
    {
     "name": "stderr",
     "output_type": "stream",
     "text": [
      "12954it [00:18, 758.99it/s]"
     ]
    },
    {
     "name": "stdout",
     "output_type": "stream",
     "text": [
      "[0.15 0.15]\n",
      "[0.15 0.15]\n",
      "[0.15 0.15]\n"
     ]
    },
    {
     "name": "stderr",
     "output_type": "stream",
     "text": [
      "13108it [00:18, 760.47it/s]"
     ]
    },
    {
     "name": "stdout",
     "output_type": "stream",
     "text": [
      "[0.15 0.15]\n",
      "[0.15 0.15]\n",
      "[0.15 0.15]\n"
     ]
    },
    {
     "name": "stderr",
     "output_type": "stream",
     "text": [
      "13339it [00:18, 760.76it/s]"
     ]
    },
    {
     "name": "stdout",
     "output_type": "stream",
     "text": [
      "[0.15 0.15]\n",
      "[0.15 0.15]\n",
      "[0.15 0.15]\n"
     ]
    },
    {
     "name": "stderr",
     "output_type": "stream",
     "text": [
      "13493it [00:19, 760.56it/s]"
     ]
    },
    {
     "name": "stdout",
     "output_type": "stream",
     "text": [
      "[0.15 0.15]\n",
      "[0.15 0.15]\n",
      "[0.15 0.15]\n"
     ]
    },
    {
     "name": "stderr",
     "output_type": "stream",
     "text": [
      "13647it [00:19, 759.73it/s]"
     ]
    },
    {
     "name": "stdout",
     "output_type": "stream",
     "text": [
      "[0.15 0.15]\n",
      "[0.15 0.15]\n",
      "[0.15 0.15]\n"
     ]
    },
    {
     "name": "stderr",
     "output_type": "stream",
     "text": [
      "13876it [00:19, 760.26it/s]"
     ]
    },
    {
     "name": "stdout",
     "output_type": "stream",
     "text": [
      "[0.15 0.15]\n",
      "[0.15 0.15]\n",
      "[0.15 0.15]\n"
     ]
    },
    {
     "name": "stderr",
     "output_type": "stream",
     "text": [
      "14030it [00:19, 761.01it/s]"
     ]
    },
    {
     "name": "stdout",
     "output_type": "stream",
     "text": [
      "[0.15 0.15]\n",
      "[0.15 0.15]\n",
      "[0.15 0.15]\n"
     ]
    },
    {
     "name": "stderr",
     "output_type": "stream",
     "text": [
      "14184it [00:20, 759.94it/s]"
     ]
    },
    {
     "name": "stdout",
     "output_type": "stream",
     "text": [
      "[0.15 0.15]\n",
      "[0.15 0.15]\n",
      "[0.15 0.15]\n"
     ]
    },
    {
     "name": "stderr",
     "output_type": "stream",
     "text": [
      "14414it [00:20, 757.04it/s]"
     ]
    },
    {
     "name": "stdout",
     "output_type": "stream",
     "text": [
      "[0.15 0.15]\n",
      "[0.15 0.15]\n",
      "[0.15 0.15]\n"
     ]
    },
    {
     "name": "stderr",
     "output_type": "stream",
     "text": [
      "14566it [00:20, 757.81it/s]"
     ]
    },
    {
     "name": "stdout",
     "output_type": "stream",
     "text": [
      "[0.15 0.15]\n",
      "[0.15 0.15]\n",
      "[0.15 0.15]\n"
     ]
    },
    {
     "name": "stderr",
     "output_type": "stream",
     "text": [
      "14718it [00:20, 757.75it/s]"
     ]
    },
    {
     "name": "stdout",
     "output_type": "stream",
     "text": [
      "[0.15 0.15]\n",
      "[0.15 0.15]\n",
      "[0.15 0.15]\n"
     ]
    },
    {
     "name": "stderr",
     "output_type": "stream",
     "text": [
      "14947it [00:21, 756.75it/s]"
     ]
    },
    {
     "name": "stdout",
     "output_type": "stream",
     "text": [
      "[0.15 0.15]\n",
      "[0.15 0.15]\n",
      "[0.15 0.15]\n"
     ]
    },
    {
     "name": "stderr",
     "output_type": "stream",
     "text": [
      "15099it [00:21, 756.84it/s]"
     ]
    },
    {
     "name": "stdout",
     "output_type": "stream",
     "text": [
      "[0.15 0.15]\n",
      "NEW\n",
      "[0.15 0.15]\n",
      "[0.15 0.15]\n"
     ]
    },
    {
     "name": "stderr",
     "output_type": "stream",
     "text": [
      "15327it [00:21, 753.86it/s]"
     ]
    },
    {
     "name": "stdout",
     "output_type": "stream",
     "text": [
      "[0.15 0.15]\n",
      "[0.15 0.15]\n",
      "[0.15 0.15]\n"
     ]
    },
    {
     "name": "stderr",
     "output_type": "stream",
     "text": [
      "15479it [00:21, 754.45it/s]"
     ]
    },
    {
     "name": "stdout",
     "output_type": "stream",
     "text": [
      "[0.15 0.15]\n",
      "[0.15 0.15]\n",
      "[0.15 0.15]\n"
     ]
    },
    {
     "name": "stderr",
     "output_type": "stream",
     "text": [
      "15631it [00:21, 755.47it/s]"
     ]
    },
    {
     "name": "stdout",
     "output_type": "stream",
     "text": [
      "[0.15 0.15]\n",
      "[0.15 0.15]\n",
      "[0.15 0.15]\n"
     ]
    },
    {
     "name": "stderr",
     "output_type": "stream",
     "text": [
      "15859it [00:22, 757.22it/s]"
     ]
    },
    {
     "name": "stdout",
     "output_type": "stream",
     "text": [
      "[0.15 0.15]\n",
      "[0.15 0.15]\n",
      "[0.15 0.15]\n"
     ]
    },
    {
     "name": "stderr",
     "output_type": "stream",
     "text": [
      "16011it [00:22, 755.82it/s]"
     ]
    },
    {
     "name": "stdout",
     "output_type": "stream",
     "text": [
      "[0.15 0.15]\n",
      "[0.15 0.15]\n",
      "[0.15 0.15]\n"
     ]
    },
    {
     "name": "stderr",
     "output_type": "stream",
     "text": [
      "16163it [00:22, 757.32it/s]"
     ]
    },
    {
     "name": "stdout",
     "output_type": "stream",
     "text": [
      "[0.15 0.15]\n",
      "[0.15 0.15]\n",
      "[0.15 0.15]\n"
     ]
    },
    {
     "name": "stderr",
     "output_type": "stream",
     "text": [
      "16239it [00:22, 758.09it/s]"
     ]
    },
    {
     "name": "stdout",
     "output_type": "stream",
     "text": [
      "[0.15 0.15]\n"
     ]
    },
    {
     "ename": "KeyboardInterrupt",
     "evalue": "",
     "output_type": "error",
     "traceback": [
      "\u001b[0;31m---------------------------------------------------------------------------\u001b[0m",
      "\u001b[0;31mKeyboardInterrupt\u001b[0m                         Traceback (most recent call last)",
      "Cell \u001b[0;32mIn[1], line 13\u001b[0m\n\u001b[1;32m     11\u001b[0m         action \u001b[38;5;241m=\u001b[39m env\u001b[38;5;241m.\u001b[39maction_space\u001b[38;5;241m.\u001b[39mhigh\n\u001b[1;32m     12\u001b[0m         \u001b[38;5;28mprint\u001b[39m(action)\n\u001b[0;32m---> 13\u001b[0m         obs, rew, trunc, term, info \u001b[38;5;241m=\u001b[39m \u001b[43menv\u001b[49m\u001b[38;5;241;43m.\u001b[39;49m\u001b[43mstep\u001b[49m\u001b[43m(\u001b[49m\u001b[43maction\u001b[49m\u001b[43m)\u001b[49m\n\u001b[1;32m     15\u001b[0m env\u001b[38;5;241m.\u001b[39mclose()\n",
      "File \u001b[0;32m~/anaconda3/envs/ReBRAC_UR5/lib/python3.9/site-packages/gym/wrappers/order_enforcing.py:37\u001b[0m, in \u001b[0;36mOrderEnforcing.step\u001b[0;34m(self, action)\u001b[0m\n\u001b[1;32m     35\u001b[0m \u001b[38;5;28;01mif\u001b[39;00m \u001b[38;5;129;01mnot\u001b[39;00m \u001b[38;5;28mself\u001b[39m\u001b[38;5;241m.\u001b[39m_has_reset:\n\u001b[1;32m     36\u001b[0m     \u001b[38;5;28;01mraise\u001b[39;00m ResetNeeded(\u001b[38;5;124m\"\u001b[39m\u001b[38;5;124mCannot call env.step() before calling env.reset()\u001b[39m\u001b[38;5;124m\"\u001b[39m)\n\u001b[0;32m---> 37\u001b[0m \u001b[38;5;28;01mreturn\u001b[39;00m \u001b[38;5;28;43mself\u001b[39;49m\u001b[38;5;241;43m.\u001b[39;49m\u001b[43menv\u001b[49m\u001b[38;5;241;43m.\u001b[39;49m\u001b[43mstep\u001b[49m\u001b[43m(\u001b[49m\u001b[43maction\u001b[49m\u001b[43m)\u001b[49m\n",
      "File \u001b[0;32m~/anaconda3/envs/ReBRAC_UR5/lib/python3.9/site-packages/gym/wrappers/env_checker.py:39\u001b[0m, in \u001b[0;36mPassiveEnvChecker.step\u001b[0;34m(self, action)\u001b[0m\n\u001b[1;32m     37\u001b[0m     \u001b[38;5;28;01mreturn\u001b[39;00m env_step_passive_checker(\u001b[38;5;28mself\u001b[39m\u001b[38;5;241m.\u001b[39menv, action)\n\u001b[1;32m     38\u001b[0m \u001b[38;5;28;01melse\u001b[39;00m:\n\u001b[0;32m---> 39\u001b[0m     \u001b[38;5;28;01mreturn\u001b[39;00m \u001b[38;5;28;43mself\u001b[39;49m\u001b[38;5;241;43m.\u001b[39;49m\u001b[43menv\u001b[49m\u001b[38;5;241;43m.\u001b[39;49m\u001b[43mstep\u001b[49m\u001b[43m(\u001b[49m\u001b[43maction\u001b[49m\u001b[43m)\u001b[49m\n",
      "File \u001b[0;32m~/Mag_diplom/FetchSlide/hindsight-experience-replay/gym_UR5_FetchReach/envs/UR5_FetchReach.py:139\u001b[0m, in \u001b[0;36mUR5_FetchReachEnv.step\u001b[0;34m(self, action)\u001b[0m\n\u001b[1;32m    137\u001b[0m \u001b[38;5;28mself\u001b[39m\u001b[38;5;241m.\u001b[39mrobot\u001b[38;5;241m.\u001b[39mmove_gripper(action[\u001b[38;5;241m-\u001b[39m\u001b[38;5;241m1\u001b[39m])\n\u001b[1;32m    138\u001b[0m \u001b[38;5;28;01mfor\u001b[39;00m _ \u001b[38;5;129;01min\u001b[39;00m \u001b[38;5;28mrange\u001b[39m(\u001b[38;5;241m60\u001b[39m):  \u001b[38;5;66;03m# Wait for a few steps\u001b[39;00m\n\u001b[0;32m--> 139\u001b[0m     \u001b[38;5;28;43mself\u001b[39;49m\u001b[38;5;241;43m.\u001b[39;49m\u001b[43mstep_simulation\u001b[49m\u001b[43m(\u001b[49m\u001b[43m)\u001b[49m\n\u001b[1;32m    141\u001b[0m truncation \u001b[38;5;241m=\u001b[39m \u001b[38;5;28;01mFalse\u001b[39;00m\n\u001b[1;32m    143\u001b[0m obs \u001b[38;5;241m=\u001b[39m \u001b[38;5;28mself\u001b[39m\u001b[38;5;241m.\u001b[39m_get_obs()\n",
      "File \u001b[0;32m~/Mag_diplom/FetchSlide/hindsight-experience-replay/gym_UR5_FetchReach/envs/UR5_FetchReach.py:107\u001b[0m, in \u001b[0;36mUR5_FetchReachEnv.step_simulation\u001b[0;34m(self)\u001b[0m\n\u001b[1;32m    105\u001b[0m p\u001b[38;5;241m.\u001b[39mstepSimulation()\n\u001b[1;32m    106\u001b[0m \u001b[38;5;28;01mif\u001b[39;00m \u001b[38;5;28mself\u001b[39m\u001b[38;5;241m.\u001b[39mvis:\n\u001b[0;32m--> 107\u001b[0m     \u001b[43mtime\u001b[49m\u001b[38;5;241;43m.\u001b[39;49m\u001b[43msleep\u001b[49m\u001b[43m(\u001b[49m\u001b[38;5;28;43mself\u001b[39;49m\u001b[38;5;241;43m.\u001b[39;49m\u001b[43mSIMULATION_STEP_DELAY\u001b[49m\u001b[43m)\u001b[49m\n\u001b[1;32m    108\u001b[0m     \u001b[38;5;28mself\u001b[39m\u001b[38;5;241m.\u001b[39mp_bar\u001b[38;5;241m.\u001b[39mupdate(\u001b[38;5;241m1\u001b[39m)\n",
      "\u001b[0;31mKeyboardInterrupt\u001b[0m: "
     ]
    },
    {
     "name": "stderr",
     "output_type": "stream",
     "text": [
      "16309it [00:39, 758.09it/s]"
     ]
    },
    {
     "ename": "",
     "evalue": "",
     "output_type": "error",
     "traceback": [
      "\u001b[1;31mThe Kernel crashed while executing code in the current cell or a previous cell. \n",
      "\u001b[1;31mPlease review the code in the cell(s) to identify a possible cause of the failure. \n",
      "\u001b[1;31mClick <a href='https://aka.ms/vscodeJupyterKernelCrash'>here</a> for more info. \n",
      "\u001b[1;31mView Jupyter <a href='command:jupyter.viewOutput'>log</a> for further details."
     ]
    }
   ],
   "source": [
    "import gym\n",
    "import gym_UR5_FetchReach\n",
    "import numpy as np\n",
    "\n",
    "env = gym.make('gym_UR5_FetchReach/UR5_FetchReachEnv-v0', render=True)\n",
    "done = False\n",
    "for i in range(10):\n",
    "    obs, _ = env.reset()\n",
    "    print(\"NEW\")\n",
    "    for _ in range(50):\n",
    "        action = env.action_space.high\n",
    "        print(action)\n",
    "        obs, rew, trunc, term, info = env.step(action)\n",
    "\n",
    "env.close()"
   ]
  },
  {
   "cell_type": "code",
   "execution_count": 8,
   "metadata": {},
   "outputs": [
    {
     "data": {
      "text/html": [
       "<div>\n",
       "<style scoped>\n",
       "    .dataframe tbody tr th:only-of-type {\n",
       "        vertical-align: middle;\n",
       "    }\n",
       "\n",
       "    .dataframe tbody tr th {\n",
       "        vertical-align: top;\n",
       "    }\n",
       "\n",
       "    .dataframe thead th {\n",
       "        text-align: right;\n",
       "    }\n",
       "</style>\n",
       "<table border=\"1\" class=\"dataframe\">\n",
       "  <thead>\n",
       "    <tr style=\"text-align: right;\">\n",
       "      <th></th>\n",
       "      <th>Step</th>\n",
       "      <th>rebrac-FetchPushDense-v2-b3d3046c (Run set) - eval/is_succeess</th>\n",
       "      <th>IQL-FetchPush-3918fdbe (Run set 2) - eval/is_succeess</th>\n",
       "    </tr>\n",
       "  </thead>\n",
       "  <tbody>\n",
       "    <tr>\n",
       "      <th>0</th>\n",
       "      <td>1</td>\n",
       "      <td>0.00</td>\n",
       "      <td>NaN</td>\n",
       "    </tr>\n",
       "    <tr>\n",
       "      <th>1</th>\n",
       "      <td>4</td>\n",
       "      <td>NaN</td>\n",
       "      <td>0.0</td>\n",
       "    </tr>\n",
       "    <tr>\n",
       "      <th>2</th>\n",
       "      <td>7</td>\n",
       "      <td>0.50</td>\n",
       "      <td>NaN</td>\n",
       "    </tr>\n",
       "    <tr>\n",
       "      <th>3</th>\n",
       "      <td>9</td>\n",
       "      <td>NaN</td>\n",
       "      <td>0.0</td>\n",
       "    </tr>\n",
       "    <tr>\n",
       "      <th>4</th>\n",
       "      <td>13</td>\n",
       "      <td>0.82</td>\n",
       "      <td>NaN</td>\n",
       "    </tr>\n",
       "    <tr>\n",
       "      <th>...</th>\n",
       "      <td>...</td>\n",
       "      <td>...</td>\n",
       "      <td>...</td>\n",
       "    </tr>\n",
       "    <tr>\n",
       "      <th>359</th>\n",
       "      <td>1153</td>\n",
       "      <td>1.00</td>\n",
       "      <td>NaN</td>\n",
       "    </tr>\n",
       "    <tr>\n",
       "      <th>360</th>\n",
       "      <td>1159</td>\n",
       "      <td>1.00</td>\n",
       "      <td>NaN</td>\n",
       "    </tr>\n",
       "    <tr>\n",
       "      <th>361</th>\n",
       "      <td>1165</td>\n",
       "      <td>1.00</td>\n",
       "      <td>NaN</td>\n",
       "    </tr>\n",
       "    <tr>\n",
       "      <th>362</th>\n",
       "      <td>1171</td>\n",
       "      <td>1.00</td>\n",
       "      <td>NaN</td>\n",
       "    </tr>\n",
       "    <tr>\n",
       "      <th>363</th>\n",
       "      <td>1177</td>\n",
       "      <td>1.00</td>\n",
       "      <td>NaN</td>\n",
       "    </tr>\n",
       "  </tbody>\n",
       "</table>\n",
       "<p>364 rows × 3 columns</p>\n",
       "</div>"
      ],
      "text/plain": [
       "     Step  rebrac-FetchPushDense-v2-b3d3046c (Run set) - eval/is_succeess  \\\n",
       "0       1                                               0.00                \n",
       "1       4                                                NaN                \n",
       "2       7                                               0.50                \n",
       "3       9                                                NaN                \n",
       "4      13                                               0.82                \n",
       "..    ...                                                ...                \n",
       "359  1153                                               1.00                \n",
       "360  1159                                               1.00                \n",
       "361  1165                                               1.00                \n",
       "362  1171                                               1.00                \n",
       "363  1177                                               1.00                \n",
       "\n",
       "     IQL-FetchPush-3918fdbe (Run set 2) - eval/is_succeess  \n",
       "0                                                  NaN      \n",
       "1                                                  0.0      \n",
       "2                                                  NaN      \n",
       "3                                                  0.0      \n",
       "4                                                  NaN      \n",
       "..                                                 ...      \n",
       "359                                                NaN      \n",
       "360                                                NaN      \n",
       "361                                                NaN      \n",
       "362                                                NaN      \n",
       "363                                                NaN      \n",
       "\n",
       "[364 rows x 3 columns]"
      ]
     },
     "execution_count": 8,
     "metadata": {},
     "output_type": "execute_result"
    }
   ],
   "source": [
    "import pandas as pd\n",
    "\n",
    "FetchPush = pd.read_csv('/home/nikisim/Downloads/Telegram Desktop/FetchPush.csv', usecols= ['Step', 'rebrac-FetchPushDense-v2-b3d3046c (Run set) - eval/is_succeess', 'IQL-FetchPush-3918fdbe (Run set 2) - eval/is_succeess'])\n",
    "FetchPush"
   ]
  },
  {
   "cell_type": "code",
   "execution_count": 14,
   "metadata": {},
   "outputs": [
    {
     "data": {
      "text/html": [
       "<div>\n",
       "<style scoped>\n",
       "    .dataframe tbody tr th:only-of-type {\n",
       "        vertical-align: middle;\n",
       "    }\n",
       "\n",
       "    .dataframe tbody tr th {\n",
       "        vertical-align: top;\n",
       "    }\n",
       "\n",
       "    .dataframe thead th {\n",
       "        text-align: right;\n",
       "    }\n",
       "</style>\n",
       "<table border=\"1\" class=\"dataframe\">\n",
       "  <thead>\n",
       "    <tr style=\"text-align: right;\">\n",
       "      <th></th>\n",
       "      <th>Step</th>\n",
       "      <th>ReBRAC_10_10 - eval/is_succeess</th>\n",
       "      <th>ReBRAC_10_10 - eval/is_succeess__MIN</th>\n",
       "      <th>ReBRAC_10_10 - eval/is_succeess__MAX</th>\n",
       "      <th>ReBRAC_5_10 - eval/is_succeess</th>\n",
       "      <th>ReBRAC_5_10 - eval/is_succeess__MIN</th>\n",
       "      <th>ReBRAC_5_10 - eval/is_succeess__MAX</th>\n",
       "      <th>ReBRAC_1_10 - eval/is_succeess</th>\n",
       "      <th>ReBRAC_1_10 - eval/is_succeess__MIN</th>\n",
       "      <th>ReBRAC_1_10 - eval/is_succeess__MAX</th>\n",
       "      <th>ReBRAC_0.1_10 - eval/is_succeess</th>\n",
       "      <th>ReBRAC_0.1_10 - eval/is_succeess__MIN</th>\n",
       "      <th>ReBRAC_0.1_10 - eval/is_succeess__MAX</th>\n",
       "    </tr>\n",
       "  </thead>\n",
       "  <tbody>\n",
       "    <tr>\n",
       "      <th>0</th>\n",
       "      <td>1</td>\n",
       "      <td>0.5</td>\n",
       "      <td>0.5</td>\n",
       "      <td>0.5</td>\n",
       "      <td>0.4</td>\n",
       "      <td>0.4</td>\n",
       "      <td>0.4</td>\n",
       "      <td>0.1</td>\n",
       "      <td>0.1</td>\n",
       "      <td>0.1</td>\n",
       "      <td>0.0</td>\n",
       "      <td>0.0</td>\n",
       "      <td>0.0</td>\n",
       "    </tr>\n",
       "    <tr>\n",
       "      <th>1</th>\n",
       "      <td>12</td>\n",
       "      <td>0.8</td>\n",
       "      <td>0.8</td>\n",
       "      <td>0.8</td>\n",
       "      <td>0.8</td>\n",
       "      <td>0.8</td>\n",
       "      <td>0.8</td>\n",
       "      <td>0.8</td>\n",
       "      <td>0.8</td>\n",
       "      <td>0.8</td>\n",
       "      <td>0.0</td>\n",
       "      <td>0.0</td>\n",
       "      <td>0.0</td>\n",
       "    </tr>\n",
       "    <tr>\n",
       "      <th>2</th>\n",
       "      <td>23</td>\n",
       "      <td>0.9</td>\n",
       "      <td>0.9</td>\n",
       "      <td>0.9</td>\n",
       "      <td>0.9</td>\n",
       "      <td>0.9</td>\n",
       "      <td>0.9</td>\n",
       "      <td>0.9</td>\n",
       "      <td>0.9</td>\n",
       "      <td>0.9</td>\n",
       "      <td>0.0</td>\n",
       "      <td>0.0</td>\n",
       "      <td>0.0</td>\n",
       "    </tr>\n",
       "    <tr>\n",
       "      <th>3</th>\n",
       "      <td>34</td>\n",
       "      <td>0.9</td>\n",
       "      <td>0.9</td>\n",
       "      <td>0.9</td>\n",
       "      <td>0.9</td>\n",
       "      <td>0.9</td>\n",
       "      <td>0.9</td>\n",
       "      <td>1.0</td>\n",
       "      <td>1.0</td>\n",
       "      <td>1.0</td>\n",
       "      <td>0.0</td>\n",
       "      <td>0.0</td>\n",
       "      <td>0.0</td>\n",
       "    </tr>\n",
       "    <tr>\n",
       "      <th>4</th>\n",
       "      <td>45</td>\n",
       "      <td>0.8</td>\n",
       "      <td>0.8</td>\n",
       "      <td>0.8</td>\n",
       "      <td>0.8</td>\n",
       "      <td>0.8</td>\n",
       "      <td>0.8</td>\n",
       "      <td>0.7</td>\n",
       "      <td>0.7</td>\n",
       "      <td>0.7</td>\n",
       "      <td>0.0</td>\n",
       "      <td>0.0</td>\n",
       "      <td>0.0</td>\n",
       "    </tr>\n",
       "    <tr>\n",
       "      <th>...</th>\n",
       "      <td>...</td>\n",
       "      <td>...</td>\n",
       "      <td>...</td>\n",
       "      <td>...</td>\n",
       "      <td>...</td>\n",
       "      <td>...</td>\n",
       "      <td>...</td>\n",
       "      <td>...</td>\n",
       "      <td>...</td>\n",
       "      <td>...</td>\n",
       "      <td>...</td>\n",
       "      <td>...</td>\n",
       "      <td>...</td>\n",
       "    </tr>\n",
       "    <tr>\n",
       "      <th>96</th>\n",
       "      <td>1057</td>\n",
       "      <td>0.7</td>\n",
       "      <td>0.7</td>\n",
       "      <td>0.7</td>\n",
       "      <td>0.5</td>\n",
       "      <td>0.5</td>\n",
       "      <td>0.5</td>\n",
       "      <td>0.8</td>\n",
       "      <td>0.8</td>\n",
       "      <td>0.8</td>\n",
       "      <td>0.1</td>\n",
       "      <td>0.1</td>\n",
       "      <td>0.1</td>\n",
       "    </tr>\n",
       "    <tr>\n",
       "      <th>97</th>\n",
       "      <td>1068</td>\n",
       "      <td>0.9</td>\n",
       "      <td>0.9</td>\n",
       "      <td>0.9</td>\n",
       "      <td>1.0</td>\n",
       "      <td>1.0</td>\n",
       "      <td>1.0</td>\n",
       "      <td>0.4</td>\n",
       "      <td>0.4</td>\n",
       "      <td>0.4</td>\n",
       "      <td>0.0</td>\n",
       "      <td>0.0</td>\n",
       "      <td>0.0</td>\n",
       "    </tr>\n",
       "    <tr>\n",
       "      <th>98</th>\n",
       "      <td>1079</td>\n",
       "      <td>1.0</td>\n",
       "      <td>1.0</td>\n",
       "      <td>1.0</td>\n",
       "      <td>0.9</td>\n",
       "      <td>0.9</td>\n",
       "      <td>0.9</td>\n",
       "      <td>0.7</td>\n",
       "      <td>0.7</td>\n",
       "      <td>0.7</td>\n",
       "      <td>0.0</td>\n",
       "      <td>0.0</td>\n",
       "      <td>0.0</td>\n",
       "    </tr>\n",
       "    <tr>\n",
       "      <th>99</th>\n",
       "      <td>1090</td>\n",
       "      <td>1.0</td>\n",
       "      <td>1.0</td>\n",
       "      <td>1.0</td>\n",
       "      <td>1.0</td>\n",
       "      <td>1.0</td>\n",
       "      <td>1.0</td>\n",
       "      <td>0.6</td>\n",
       "      <td>0.6</td>\n",
       "      <td>0.6</td>\n",
       "      <td>0.2</td>\n",
       "      <td>0.2</td>\n",
       "      <td>0.2</td>\n",
       "    </tr>\n",
       "    <tr>\n",
       "      <th>100</th>\n",
       "      <td>1100</td>\n",
       "      <td>0.8</td>\n",
       "      <td>0.8</td>\n",
       "      <td>0.8</td>\n",
       "      <td>1.0</td>\n",
       "      <td>1.0</td>\n",
       "      <td>1.0</td>\n",
       "      <td>0.6</td>\n",
       "      <td>0.6</td>\n",
       "      <td>0.6</td>\n",
       "      <td>0.0</td>\n",
       "      <td>0.0</td>\n",
       "      <td>0.0</td>\n",
       "    </tr>\n",
       "  </tbody>\n",
       "</table>\n",
       "<p>101 rows × 13 columns</p>\n",
       "</div>"
      ],
      "text/plain": [
       "     Step  ReBRAC_10_10 - eval/is_succeess  \\\n",
       "0       1                              0.5   \n",
       "1      12                              0.8   \n",
       "2      23                              0.9   \n",
       "3      34                              0.9   \n",
       "4      45                              0.8   \n",
       "..    ...                              ...   \n",
       "96   1057                              0.7   \n",
       "97   1068                              0.9   \n",
       "98   1079                              1.0   \n",
       "99   1090                              1.0   \n",
       "100  1100                              0.8   \n",
       "\n",
       "     ReBRAC_10_10 - eval/is_succeess__MIN  \\\n",
       "0                                     0.5   \n",
       "1                                     0.8   \n",
       "2                                     0.9   \n",
       "3                                     0.9   \n",
       "4                                     0.8   \n",
       "..                                    ...   \n",
       "96                                    0.7   \n",
       "97                                    0.9   \n",
       "98                                    1.0   \n",
       "99                                    1.0   \n",
       "100                                   0.8   \n",
       "\n",
       "     ReBRAC_10_10 - eval/is_succeess__MAX  ReBRAC_5_10 - eval/is_succeess  \\\n",
       "0                                     0.5                             0.4   \n",
       "1                                     0.8                             0.8   \n",
       "2                                     0.9                             0.9   \n",
       "3                                     0.9                             0.9   \n",
       "4                                     0.8                             0.8   \n",
       "..                                    ...                             ...   \n",
       "96                                    0.7                             0.5   \n",
       "97                                    0.9                             1.0   \n",
       "98                                    1.0                             0.9   \n",
       "99                                    1.0                             1.0   \n",
       "100                                   0.8                             1.0   \n",
       "\n",
       "     ReBRAC_5_10 - eval/is_succeess__MIN  ReBRAC_5_10 - eval/is_succeess__MAX  \\\n",
       "0                                    0.4                                  0.4   \n",
       "1                                    0.8                                  0.8   \n",
       "2                                    0.9                                  0.9   \n",
       "3                                    0.9                                  0.9   \n",
       "4                                    0.8                                  0.8   \n",
       "..                                   ...                                  ...   \n",
       "96                                   0.5                                  0.5   \n",
       "97                                   1.0                                  1.0   \n",
       "98                                   0.9                                  0.9   \n",
       "99                                   1.0                                  1.0   \n",
       "100                                  1.0                                  1.0   \n",
       "\n",
       "     ReBRAC_1_10 - eval/is_succeess  ReBRAC_1_10 - eval/is_succeess__MIN  \\\n",
       "0                               0.1                                  0.1   \n",
       "1                               0.8                                  0.8   \n",
       "2                               0.9                                  0.9   \n",
       "3                               1.0                                  1.0   \n",
       "4                               0.7                                  0.7   \n",
       "..                              ...                                  ...   \n",
       "96                              0.8                                  0.8   \n",
       "97                              0.4                                  0.4   \n",
       "98                              0.7                                  0.7   \n",
       "99                              0.6                                  0.6   \n",
       "100                             0.6                                  0.6   \n",
       "\n",
       "     ReBRAC_1_10 - eval/is_succeess__MAX  ReBRAC_0.1_10 - eval/is_succeess  \\\n",
       "0                                    0.1                               0.0   \n",
       "1                                    0.8                               0.0   \n",
       "2                                    0.9                               0.0   \n",
       "3                                    1.0                               0.0   \n",
       "4                                    0.7                               0.0   \n",
       "..                                   ...                               ...   \n",
       "96                                   0.8                               0.1   \n",
       "97                                   0.4                               0.0   \n",
       "98                                   0.7                               0.0   \n",
       "99                                   0.6                               0.2   \n",
       "100                                  0.6                               0.0   \n",
       "\n",
       "     ReBRAC_0.1_10 - eval/is_succeess__MIN  \\\n",
       "0                                      0.0   \n",
       "1                                      0.0   \n",
       "2                                      0.0   \n",
       "3                                      0.0   \n",
       "4                                      0.0   \n",
       "..                                     ...   \n",
       "96                                     0.1   \n",
       "97                                     0.0   \n",
       "98                                     0.0   \n",
       "99                                     0.2   \n",
       "100                                    0.0   \n",
       "\n",
       "     ReBRAC_0.1_10 - eval/is_succeess__MAX  \n",
       "0                                      0.0  \n",
       "1                                      0.0  \n",
       "2                                      0.0  \n",
       "3                                      0.0  \n",
       "4                                      0.0  \n",
       "..                                     ...  \n",
       "96                                     0.1  \n",
       "97                                     0.0  \n",
       "98                                     0.0  \n",
       "99                                     0.2  \n",
       "100                                    0.0  \n",
       "\n",
       "[101 rows x 13 columns]"
      ]
     },
     "execution_count": 14,
     "metadata": {},
     "output_type": "execute_result"
    }
   ],
   "source": [
    "FetchPush = pd.read_csv('/home/nikisim/Downloads/FetchPP_inverse2.csv')\n",
    "FetchPush"
   ]
  },
  {
   "cell_type": "code",
   "execution_count": 10,
   "metadata": {},
   "outputs": [
    {
     "data": {
      "image/png": "[encoded data removed]",
      "text/plain": [
       "<Figure size 1000x600 with 1 Axes>"
      ]
     },
     "metadata": {},
     "output_type": "display_data"
    }
   ],
   "source": [
    "import numpy as np\n",
    "import matplotlib.pyplot as plt\n",
    "\n",
    "# Example data for 3 runs of 2 experiments (each run has 10 points)\n",
    "experiment1 = np.array([\n",
    "    [1, 2, 3, 4, 5, 6, 7, 8, 9, 10],\n",
    "    [1.1, 2.1, 3.1, 4.1, 5.1, 6.1, 7.1, 8.1, 9.1, 10.1],\n",
    "    [0.9, 1.9, 2.9, 3.9, 4.9, 5.9, 6.9, 7.9, 8.9, 9.9]\n",
    "])\n",
    "experiment2 = np.array([\n",
    "    [2, 3, 4, 5, 6, 7, 8, 9, 10, 11],\n",
    "    [2.2, 3.2, 4.2, 5.2, 6.2, 7.2, 8.2, 9.2, 10.2, 11.2],\n",
    "    [1.8, 2.8, 3.8, 4.8, 5.8, 6.8, 7.8, 8.8, 9.8, 10.8]\n",
    "])\n",
    "\n",
    "# Compute means and standard deviations\n",
    "mean1 = np.mean(experiment1, axis=0)\n",
    "std1 = np.std(experiment1, axis=0)\n",
    "\n",
    "mean2 = np.mean(experiment2, axis=0)\n",
    "std2 = np.std(experiment2, axis=0)\n",
    "\n",
    "# Create an x-axis\n",
    "x = np.arange(1, 11)\n",
    "\n",
    "# Plotting\n",
    "plt.figure(figsize=(10, 6))\n",
    "\n",
    "# Plot mean and standard deviation for experiment 1\n",
    "plt.plot(x, mean1, label='Experiment 1 Mean', color='blue')\n",
    "plt.fill_between(x, mean1 - std1, mean1 + std1, color='blue', alpha=0.2)\n",
    "\n",
    "# Plot mean and standard deviation for experiment 2\n",
    "plt.plot(x, mean2, label='Experiment 2 Mean', color='red')\n",
    "plt.fill_between(x, mean2 - std2, mean2 + std2, color='red', alpha=0.2)\n",
    "\n",
    "# Add labels and legend\n",
    "plt.xlabel('X-axis')\n",
    "plt.ylabel('Y-axis')\n",
    "plt.title('Mean and Standard Deviation for Two Experiments')\n",
    "plt.legend()\n",
    "\n",
    "# Show plot\n",
    "plt.show()"
   ]
  },
  {
   "cell_type": "code",
   "execution_count": 32,
   "metadata": {},
   "outputs": [
    {
     "data": {
      "text/plain": [
       "0          1\n",
       "1          7\n",
       "2         13\n",
       "3         19\n",
       "4         25\n",
       "        ... \n",
       "1213    7279\n",
       "1214    7285\n",
       "1215    7291\n",
       "1216    7297\n",
       "1217    7303\n",
       "Name: Step, Length: 1218, dtype: int64"
      ]
     },
     "execution_count": 32,
     "metadata": {},
     "output_type": "execute_result"
    }
   ],
   "source": [
    "x_rebrac_1 = FetchPush['Step'][:1218]\n",
    "x_rebrac_1"
   ]
  },
  {
   "cell_type": "code",
   "execution_count": 30,
   "metadata": {},
   "outputs": [
    {
     "data": {
      "text/plain": [
       "1218"
      ]
     },
     "execution_count": 30,
     "metadata": {},
     "output_type": "execute_result"
    }
   ],
   "source": [
    "len(x_rebrac_1)"
   ]
  },
  {
   "cell_type": "code",
   "execution_count": 20,
   "metadata": {},
   "outputs": [
    {
     "data": {
      "text/plain": [
       "array([    1,     7,    13, ..., 14389, 14395, 14400])"
      ]
     },
     "execution_count": 20,
     "metadata": {},
     "output_type": "execute_result"
    }
   ],
   "source": []
  },
  {
   "cell_type": "code",
   "execution_count": 103,
   "metadata": {},
   "outputs": [],
   "source": [
    "x_rebrac_1 = FetchPush['Step']\n",
    "y_rebrac_1 = FetchPush['rebrac-/home/nikisim/Mag_diplom/CORL/data/FetchPickAndPlaceDense.npy-d7c65c37 (Run set 3) - eval/is_succeess']#.dropna()\n",
    "y_rebrac_2 = FetchPush['rebrac-/home/nikisim/Mag_diplom/CORL/data/FetchPickAndPlaceDense.npy-065ab774 (Run set 3) - eval/is_succeess']#.dropna()\n",
    "y_rebrac_3 = FetchPush['rebrac-/home/nikisim/Mag_diplom/CORL/data/FetchPickAndPlaceDense.npy-f6aa2c99 (Run set 3) - eval/is_succeess']#.dropna()\n",
    "y_iql = FetchPush['IQL-FetchPickAndPlace-1b88011e (Run set) - eval/is_succeess']#.dropna()\n",
    "\n",
    "y_iql_100  = y_iql.drop([0])\n",
    "\n",
    "dict1 = {\n",
    "    'Step': x_rebrac_1.to_numpy()[:-1],\n",
    "    'ReBRAC_1': y_rebrac_1.to_numpy()[:-1],\n",
    "    'ReBRAC_2': y_rebrac_2.to_numpy()[:-1],\n",
    "    'ReBRAC_3': y_rebrac_3.to_numpy()[:-1],\n",
    "    'IQL': y_iql\n",
    "}\n"
   ]
  },
  {
   "cell_type": "code",
   "execution_count": 110,
   "metadata": {},
   "outputs": [
    {
     "data": {
      "text/plain": [
       "406"
      ]
     },
     "execution_count": 110,
     "metadata": {},
     "output_type": "execute_result"
    }
   ],
   "source": [
    "len(dict1['IQL'])"
   ]
  },
  {
   "cell_type": "code",
   "execution_count": 54,
   "metadata": {},
   "outputs": [],
   "source": [
    "# Load your data\n",
    "FetchPush = pd.read_csv('/home/nikisim/Downloads/UR5_Fetch.csv')\n",
    "\n",
    "# Extract the series you want to smooth\n",
    "x_rebrac_1_1 = FetchPush['Step']\n",
    "y_rebrac_1_1 = FetchPush['ReBRAC_test_old--c45ccef7 (Run set 2) - eval/is_succeess']#.dropna()\n",
    "\n",
    "x_iql_100 = FetchPush['Step']\n",
    "y_iql_100 = FetchPush['IQL_new_4-FetchPush_UR5-9b6f6ed6 (Run set 3) - eval/is_succeess']#.dropna()"
   ]
  },
  {
   "cell_type": "code",
   "execution_count": 55,
   "metadata": {},
   "outputs": [
    {
     "data": {
      "text/html": [
       "<div>\n",
       "<style scoped>\n",
       "    .dataframe tbody tr th:only-of-type {\n",
       "        vertical-align: middle;\n",
       "    }\n",
       "\n",
       "    .dataframe tbody tr th {\n",
       "        vertical-align: top;\n",
       "    }\n",
       "\n",
       "    .dataframe thead th {\n",
       "        text-align: right;\n",
       "    }\n",
       "</style>\n",
       "<table border=\"1\" class=\"dataframe\">\n",
       "  <thead>\n",
       "    <tr style=\"text-align: right;\">\n",
       "      <th></th>\n",
       "      <th>Step</th>\n",
       "      <th>FetchPush_new_8 (Run set) - eval/is_succeess</th>\n",
       "      <th>FetchPush_new_8 (Run set) - eval/is_succeess__MIN</th>\n",
       "      <th>FetchPush_new_8 (Run set) - eval/is_succeess__MAX</th>\n",
       "      <th>ReBRAC_test_old--c45ccef7 (Run set 2) - eval/is_succeess</th>\n",
       "      <th>ReBRAC_test_old--c45ccef7 (Run set 2) - eval/is_succeess__MIN</th>\n",
       "      <th>ReBRAC_test_old--c45ccef7 (Run set 2) - eval/is_succeess__MAX</th>\n",
       "      <th>IQL_new_4-FetchPush_UR5-9b6f6ed6 (Run set 3) - eval/is_succeess</th>\n",
       "      <th>IQL_new_4-FetchPush_UR5-9b6f6ed6 (Run set 3) - eval/is_succeess__MIN</th>\n",
       "      <th>IQL_new_4-FetchPush_UR5-9b6f6ed6 (Run set 3) - eval/is_succeess__MAX</th>\n",
       "    </tr>\n",
       "  </thead>\n",
       "  <tbody>\n",
       "    <tr>\n",
       "      <th>0</th>\n",
       "      <td>0</td>\n",
       "      <td>0.00000</td>\n",
       "      <td>0.00000</td>\n",
       "      <td>0.00000</td>\n",
       "      <td>NaN</td>\n",
       "      <td>NaN</td>\n",
       "      <td>NaN</td>\n",
       "      <td>NaN</td>\n",
       "      <td>NaN</td>\n",
       "      <td>NaN</td>\n",
       "    </tr>\n",
       "    <tr>\n",
       "      <th>1</th>\n",
       "      <td>1</td>\n",
       "      <td>0.00000</td>\n",
       "      <td>0.00000</td>\n",
       "      <td>0.00000</td>\n",
       "      <td>0.1</td>\n",
       "      <td>0.1</td>\n",
       "      <td>0.1</td>\n",
       "      <td>NaN</td>\n",
       "      <td>NaN</td>\n",
       "      <td>NaN</td>\n",
       "    </tr>\n",
       "    <tr>\n",
       "      <th>2</th>\n",
       "      <td>2</td>\n",
       "      <td>0.01875</td>\n",
       "      <td>0.01875</td>\n",
       "      <td>0.01875</td>\n",
       "      <td>NaN</td>\n",
       "      <td>NaN</td>\n",
       "      <td>NaN</td>\n",
       "      <td>NaN</td>\n",
       "      <td>NaN</td>\n",
       "      <td>NaN</td>\n",
       "    </tr>\n",
       "    <tr>\n",
       "      <th>3</th>\n",
       "      <td>3</td>\n",
       "      <td>0.00625</td>\n",
       "      <td>0.00625</td>\n",
       "      <td>0.00625</td>\n",
       "      <td>NaN</td>\n",
       "      <td>NaN</td>\n",
       "      <td>NaN</td>\n",
       "      <td>NaN</td>\n",
       "      <td>NaN</td>\n",
       "      <td>NaN</td>\n",
       "    </tr>\n",
       "    <tr>\n",
       "      <th>4</th>\n",
       "      <td>4</td>\n",
       "      <td>0.13125</td>\n",
       "      <td>0.13125</td>\n",
       "      <td>0.13125</td>\n",
       "      <td>NaN</td>\n",
       "      <td>NaN</td>\n",
       "      <td>NaN</td>\n",
       "      <td>0.0</td>\n",
       "      <td>0.0</td>\n",
       "      <td>0.0</td>\n",
       "    </tr>\n",
       "    <tr>\n",
       "      <th>...</th>\n",
       "      <td>...</td>\n",
       "      <td>...</td>\n",
       "      <td>...</td>\n",
       "      <td>...</td>\n",
       "      <td>...</td>\n",
       "      <td>...</td>\n",
       "      <td>...</td>\n",
       "      <td>...</td>\n",
       "      <td>...</td>\n",
       "      <td>...</td>\n",
       "    </tr>\n",
       "    <tr>\n",
       "      <th>1805</th>\n",
       "      <td>6979</td>\n",
       "      <td>NaN</td>\n",
       "      <td>NaN</td>\n",
       "      <td>NaN</td>\n",
       "      <td>NaN</td>\n",
       "      <td>NaN</td>\n",
       "      <td>NaN</td>\n",
       "      <td>0.0</td>\n",
       "      <td>0.0</td>\n",
       "      <td>0.0</td>\n",
       "    </tr>\n",
       "    <tr>\n",
       "      <th>1806</th>\n",
       "      <td>6984</td>\n",
       "      <td>NaN</td>\n",
       "      <td>NaN</td>\n",
       "      <td>NaN</td>\n",
       "      <td>NaN</td>\n",
       "      <td>NaN</td>\n",
       "      <td>NaN</td>\n",
       "      <td>0.0</td>\n",
       "      <td>0.0</td>\n",
       "      <td>0.0</td>\n",
       "    </tr>\n",
       "    <tr>\n",
       "      <th>1807</th>\n",
       "      <td>6989</td>\n",
       "      <td>NaN</td>\n",
       "      <td>NaN</td>\n",
       "      <td>NaN</td>\n",
       "      <td>NaN</td>\n",
       "      <td>NaN</td>\n",
       "      <td>NaN</td>\n",
       "      <td>0.0</td>\n",
       "      <td>0.0</td>\n",
       "      <td>0.0</td>\n",
       "    </tr>\n",
       "    <tr>\n",
       "      <th>1808</th>\n",
       "      <td>6994</td>\n",
       "      <td>NaN</td>\n",
       "      <td>NaN</td>\n",
       "      <td>NaN</td>\n",
       "      <td>NaN</td>\n",
       "      <td>NaN</td>\n",
       "      <td>NaN</td>\n",
       "      <td>0.0</td>\n",
       "      <td>0.0</td>\n",
       "      <td>0.0</td>\n",
       "    </tr>\n",
       "    <tr>\n",
       "      <th>1809</th>\n",
       "      <td>6999</td>\n",
       "      <td>NaN</td>\n",
       "      <td>NaN</td>\n",
       "      <td>NaN</td>\n",
       "      <td>NaN</td>\n",
       "      <td>NaN</td>\n",
       "      <td>NaN</td>\n",
       "      <td>0.0</td>\n",
       "      <td>0.0</td>\n",
       "      <td>0.0</td>\n",
       "    </tr>\n",
       "  </tbody>\n",
       "</table>\n",
       "<p>1810 rows × 10 columns</p>\n",
       "</div>"
      ],
      "text/plain": [
       "      Step  FetchPush_new_8 (Run set) - eval/is_succeess  \\\n",
       "0        0                                       0.00000   \n",
       "1        1                                       0.00000   \n",
       "2        2                                       0.01875   \n",
       "3        3                                       0.00625   \n",
       "4        4                                       0.13125   \n",
       "...    ...                                           ...   \n",
       "1805  6979                                           NaN   \n",
       "1806  6984                                           NaN   \n",
       "1807  6989                                           NaN   \n",
       "1808  6994                                           NaN   \n",
       "1809  6999                                           NaN   \n",
       "\n",
       "      FetchPush_new_8 (Run set) - eval/is_succeess__MIN  \\\n",
       "0                                               0.00000   \n",
       "1                                               0.00000   \n",
       "2                                               0.01875   \n",
       "3                                               0.00625   \n",
       "4                                               0.13125   \n",
       "...                                                 ...   \n",
       "1805                                                NaN   \n",
       "1806                                                NaN   \n",
       "1807                                                NaN   \n",
       "1808                                                NaN   \n",
       "1809                                                NaN   \n",
       "\n",
       "      FetchPush_new_8 (Run set) - eval/is_succeess__MAX  \\\n",
       "0                                               0.00000   \n",
       "1                                               0.00000   \n",
       "2                                               0.01875   \n",
       "3                                               0.00625   \n",
       "4                                               0.13125   \n",
       "...                                                 ...   \n",
       "1805                                                NaN   \n",
       "1806                                                NaN   \n",
       "1807                                                NaN   \n",
       "1808                                                NaN   \n",
       "1809                                                NaN   \n",
       "\n",
       "      ReBRAC_test_old--c45ccef7 (Run set 2) - eval/is_succeess  \\\n",
       "0                                                   NaN          \n",
       "1                                                   0.1          \n",
       "2                                                   NaN          \n",
       "3                                                   NaN          \n",
       "4                                                   NaN          \n",
       "...                                                 ...          \n",
       "1805                                                NaN          \n",
       "1806                                                NaN          \n",
       "1807                                                NaN          \n",
       "1808                                                NaN          \n",
       "1809                                                NaN          \n",
       "\n",
       "      ReBRAC_test_old--c45ccef7 (Run set 2) - eval/is_succeess__MIN  \\\n",
       "0                                                   NaN               \n",
       "1                                                   0.1               \n",
       "2                                                   NaN               \n",
       "3                                                   NaN               \n",
       "4                                                   NaN               \n",
       "...                                                 ...               \n",
       "1805                                                NaN               \n",
       "1806                                                NaN               \n",
       "1807                                                NaN               \n",
       "1808                                                NaN               \n",
       "1809                                                NaN               \n",
       "\n",
       "      ReBRAC_test_old--c45ccef7 (Run set 2) - eval/is_succeess__MAX  \\\n",
       "0                                                   NaN               \n",
       "1                                                   0.1               \n",
       "2                                                   NaN               \n",
       "3                                                   NaN               \n",
       "4                                                   NaN               \n",
       "...                                                 ...               \n",
       "1805                                                NaN               \n",
       "1806                                                NaN               \n",
       "1807                                                NaN               \n",
       "1808                                                NaN               \n",
       "1809                                                NaN               \n",
       "\n",
       "      IQL_new_4-FetchPush_UR5-9b6f6ed6 (Run set 3) - eval/is_succeess  \\\n",
       "0                                                   NaN                 \n",
       "1                                                   NaN                 \n",
       "2                                                   NaN                 \n",
       "3                                                   NaN                 \n",
       "4                                                   0.0                 \n",
       "...                                                 ...                 \n",
       "1805                                                0.0                 \n",
       "1806                                                0.0                 \n",
       "1807                                                0.0                 \n",
       "1808                                                0.0                 \n",
       "1809                                                0.0                 \n",
       "\n",
       "      IQL_new_4-FetchPush_UR5-9b6f6ed6 (Run set 3) - eval/is_succeess__MIN  \\\n",
       "0                                                   NaN                      \n",
       "1                                                   NaN                      \n",
       "2                                                   NaN                      \n",
       "3                                                   NaN                      \n",
       "4                                                   0.0                      \n",
       "...                                                 ...                      \n",
       "1805                                                0.0                      \n",
       "1806                                                0.0                      \n",
       "1807                                                0.0                      \n",
       "1808                                                0.0                      \n",
       "1809                                                0.0                      \n",
       "\n",
       "      IQL_new_4-FetchPush_UR5-9b6f6ed6 (Run set 3) - eval/is_succeess__MAX  \n",
       "0                                                   NaN                     \n",
       "1                                                   NaN                     \n",
       "2                                                   NaN                     \n",
       "3                                                   NaN                     \n",
       "4                                                   0.0                     \n",
       "...                                                 ...                     \n",
       "1805                                                0.0                     \n",
       "1806                                                0.0                     \n",
       "1807                                                0.0                     \n",
       "1808                                                0.0                     \n",
       "1809                                                0.0                     \n",
       "\n",
       "[1810 rows x 10 columns]"
      ]
     },
     "execution_count": 55,
     "metadata": {},
     "output_type": "execute_result"
    }
   ],
   "source": [
    "FetchPush"
   ]
  },
  {
   "cell_type": "code",
   "execution_count": 29,
   "metadata": {},
   "outputs": [
    {
     "data": {
      "text/plain": [
       "0       0.00000\n",
       "1       0.00000\n",
       "2       0.01875\n",
       "3       0.00625\n",
       "4       0.13125\n",
       "         ...   \n",
       "1805        NaN\n",
       "1806        NaN\n",
       "1807        NaN\n",
       "1808        NaN\n",
       "1809        NaN\n",
       "Name: FetchPush_new_8 (Run set) - eval/is_succeess, Length: 1810, dtype: float64"
      ]
     },
     "execution_count": 29,
     "metadata": {},
     "output_type": "execute_result"
    }
   ],
   "source": [
    "FetchPush['FetchPush_new_8 (Run set) - eval/is_succeess']"
   ]
  },
  {
   "cell_type": "code",
   "execution_count": 56,
   "metadata": {},
   "outputs": [],
   "source": [
    "import numpy as np\n",
    "from scipy.interpolate import interp1d\n",
    "\n",
    "original_array = FetchPush['FetchPush_new_8 (Run set) - eval/is_succeess'].dropna().to_numpy()\n",
    "\n",
    "# Create an array of indices for the original array\n",
    "original_indices = np.linspace(0, 1, num=len(original_array))\n",
    "\n",
    "# Create an array of indices for the new array with 1810 elements\n",
    "new_indices = np.linspace(0, 1, num=1810)\n",
    "\n",
    "# Use interpolation to create the new array\n",
    "# 'linear', 'nearest', 'zero', 'slinear', 'quadratic', 'cubic' are some of the options\n",
    "interpolation_method = 'quadratic'  # Choose the method you prefer\n",
    "interpolator = interp1d(original_indices, original_array, kind=interpolation_method)\n",
    "\n",
    "new_array = interpolator(new_indices)"
   ]
  },
  {
   "cell_type": "code",
   "execution_count": 64,
   "metadata": {},
   "outputs": [],
   "source": [
    "dict1 = {\n",
    "    'Step': x_rebrac_1_1.to_numpy(),\n",
    "    'ReBRAC_400_400': y_rebrac_1_1.to_numpy(),\n",
    "    'IQL': y_iql_100,\n",
    "    'DDPG': new_array\n",
    "}"
   ]
  },
  {
   "cell_type": "code",
   "execution_count": 90,
   "metadata": {},
   "outputs": [],
   "source": [
    "df = pd.DataFrame(dict1)"
   ]
  },
  {
   "cell_type": "code",
   "execution_count": 91,
   "metadata": {},
   "outputs": [],
   "source": [
    "df = df.dropna()"
   ]
  },
  {
   "cell_type": "code",
   "execution_count": 92,
   "metadata": {},
   "outputs": [],
   "source": [
    "df.loc[0] = [0, 0.0, 0.0,0.0]"
   ]
  },
  {
   "cell_type": "code",
   "execution_count": 94,
   "metadata": {},
   "outputs": [],
   "source": [
    "df.index = df.index + 1  # shifting index\n",
    "df.sort_index(inplace=True) "
   ]
  },
  {
   "cell_type": "code",
   "execution_count": 95,
   "metadata": {},
   "outputs": [
    {
     "data": {
      "text/html": [
       "<div>\n",
       "<style scoped>\n",
       "    .dataframe tbody tr th:only-of-type {\n",
       "        vertical-align: middle;\n",
       "    }\n",
       "\n",
       "    .dataframe tbody tr th {\n",
       "        vertical-align: top;\n",
       "    }\n",
       "\n",
       "    .dataframe thead th {\n",
       "        text-align: right;\n",
       "    }\n",
       "</style>\n",
       "<table border=\"1\" class=\"dataframe\">\n",
       "  <thead>\n",
       "    <tr style=\"text-align: right;\">\n",
       "      <th></th>\n",
       "      <th>Step</th>\n",
       "      <th>ReBRAC_400_400</th>\n",
       "      <th>IQL</th>\n",
       "      <th>DDPG</th>\n",
       "    </tr>\n",
       "  </thead>\n",
       "  <tbody>\n",
       "    <tr>\n",
       "      <th>1</th>\n",
       "      <td>0.0</td>\n",
       "      <td>0.00</td>\n",
       "      <td>0.0</td>\n",
       "      <td>0.000000</td>\n",
       "    </tr>\n",
       "    <tr>\n",
       "      <th>35</th>\n",
       "      <td>34.0</td>\n",
       "      <td>0.76</td>\n",
       "      <td>0.0</td>\n",
       "      <td>0.127619</td>\n",
       "    </tr>\n",
       "    <tr>\n",
       "      <th>90</th>\n",
       "      <td>89.0</td>\n",
       "      <td>0.84</td>\n",
       "      <td>0.0</td>\n",
       "      <td>0.687726</td>\n",
       "    </tr>\n",
       "    <tr>\n",
       "      <th>145</th>\n",
       "      <td>144.0</td>\n",
       "      <td>0.90</td>\n",
       "      <td>0.0</td>\n",
       "      <td>0.611162</td>\n",
       "    </tr>\n",
       "    <tr>\n",
       "      <th>200</th>\n",
       "      <td>199.0</td>\n",
       "      <td>0.80</td>\n",
       "      <td>0.0</td>\n",
       "      <td>0.706595</td>\n",
       "    </tr>\n",
       "    <tr>\n",
       "      <th>...</th>\n",
       "      <td>...</td>\n",
       "      <td>...</td>\n",
       "      <td>...</td>\n",
       "      <td>...</td>\n",
       "    </tr>\n",
       "    <tr>\n",
       "      <th>1004</th>\n",
       "      <td>3059.0</td>\n",
       "      <td>0.76</td>\n",
       "      <td>0.0</td>\n",
       "      <td>0.691672</td>\n",
       "    </tr>\n",
       "    <tr>\n",
       "      <th>1019</th>\n",
       "      <td>3114.0</td>\n",
       "      <td>0.86</td>\n",
       "      <td>0.0</td>\n",
       "      <td>0.741390</td>\n",
       "    </tr>\n",
       "    <tr>\n",
       "      <th>1034</th>\n",
       "      <td>3169.0</td>\n",
       "      <td>0.86</td>\n",
       "      <td>0.0</td>\n",
       "      <td>0.644621</td>\n",
       "    </tr>\n",
       "    <tr>\n",
       "      <th>1049</th>\n",
       "      <td>3224.0</td>\n",
       "      <td>0.84</td>\n",
       "      <td>0.0</td>\n",
       "      <td>0.821238</td>\n",
       "    </tr>\n",
       "    <tr>\n",
       "      <th>1064</th>\n",
       "      <td>3279.0</td>\n",
       "      <td>0.76</td>\n",
       "      <td>0.0</td>\n",
       "      <td>0.744055</td>\n",
       "    </tr>\n",
       "  </tbody>\n",
       "</table>\n",
       "<p>61 rows × 4 columns</p>\n",
       "</div>"
      ],
      "text/plain": [
       "        Step  ReBRAC_400_400  IQL      DDPG\n",
       "1        0.0            0.00  0.0  0.000000\n",
       "35      34.0            0.76  0.0  0.127619\n",
       "90      89.0            0.84  0.0  0.687726\n",
       "145    144.0            0.90  0.0  0.611162\n",
       "200    199.0            0.80  0.0  0.706595\n",
       "...      ...             ...  ...       ...\n",
       "1004  3059.0            0.76  0.0  0.691672\n",
       "1019  3114.0            0.86  0.0  0.741390\n",
       "1034  3169.0            0.86  0.0  0.644621\n",
       "1049  3224.0            0.84  0.0  0.821238\n",
       "1064  3279.0            0.76  0.0  0.744055\n",
       "\n",
       "[61 rows x 4 columns]"
      ]
     },
     "execution_count": 95,
     "metadata": {},
     "output_type": "execute_result"
    }
   ],
   "source": [
    "df"
   ]
  },
  {
   "cell_type": "code",
   "execution_count": 47,
   "metadata": {},
   "outputs": [
    {
     "data": {
      "text/plain": [
       "1810"
      ]
     },
     "execution_count": 47,
     "metadata": {},
     "output_type": "execute_result"
    }
   ],
   "source": [
    "# len(new_array)\n",
    "len(x_rebrac_1_1)\n"
   ]
  },
  {
   "cell_type": "code",
   "execution_count": 40,
   "metadata": {},
   "outputs": [
    {
     "data": {
      "image/png": "[encoded data removed]",
      "text/plain": [
       "<Figure size 640x480 with 1 Axes>"
      ]
     },
     "metadata": {},
     "output_type": "display_data"
    }
   ],
   "source": [
    "import matplotlib.pyplot as plt\n",
    "\n",
    "plt.grid(linestyle='-')\n",
    "plt.plot(x_rebrac_1_1,new_array)\n",
    "# plt.plot(x_rebrac_10_10[:leng],smooth(y_rebrac_10_10.to_numpy(), radius=sm))\n",
    "# plt.plot(df_cleaned['Step'],df_cleaned['IQL_100'])\n",
    "\n",
    "# plt.ylim(0.75,1.01)\n",
    "# plt.xlim(0.7,601.5)\n",
    "plt.legend(['ReBRAC_1_1','IQL_100'], loc=4)\n",
    "plt.title('Среда FetchPush')\n",
    "plt.xlabel('Кол-во эпох')\n",
    "plt.ylabel('Доля успешных эпизодов')\n",
    "# plt.savefig('/home/nikisim/Mag_diplom/CORL/Images/FetchReach.png')\n",
    "plt.show()"
   ]
  },
  {
   "cell_type": "code",
   "execution_count": 48,
   "metadata": {},
   "outputs": [],
   "source": [
    "y_iql_100  = y_iql_100.drop([0])"
   ]
  },
  {
   "cell_type": "code",
   "execution_count": 49,
   "metadata": {},
   "outputs": [],
   "source": [
    "dict1 = {\n",
    "    'Step': x_rebrac_1_1.to_numpy()[:-1],\n",
    "    'ReBRAC_400_400': y_rebrac_1_1.to_numpy()[:-1],\n",
    "    'IQL': y_iql_100\n",
    "}"
   ]
  },
  {
   "cell_type": "code",
   "execution_count": 50,
   "metadata": {},
   "outputs": [],
   "source": [
    "df = pd.DataFrame(dict1)"
   ]
  },
  {
   "cell_type": "code",
   "execution_count": 51,
   "metadata": {},
   "outputs": [
    {
     "data": {
      "text/html": [
       "<div>\n",
       "<style scoped>\n",
       "    .dataframe tbody tr th:only-of-type {\n",
       "        vertical-align: middle;\n",
       "    }\n",
       "\n",
       "    .dataframe tbody tr th {\n",
       "        vertical-align: top;\n",
       "    }\n",
       "\n",
       "    .dataframe thead th {\n",
       "        text-align: right;\n",
       "    }\n",
       "</style>\n",
       "<table border=\"1\" class=\"dataframe\">\n",
       "  <thead>\n",
       "    <tr style=\"text-align: right;\">\n",
       "      <th></th>\n",
       "      <th>Step</th>\n",
       "      <th>ReBRAC_400_400</th>\n",
       "      <th>IQL</th>\n",
       "    </tr>\n",
       "  </thead>\n",
       "  <tbody>\n",
       "    <tr>\n",
       "      <th>1</th>\n",
       "      <td>0</td>\n",
       "      <td>NaN</td>\n",
       "      <td>NaN</td>\n",
       "    </tr>\n",
       "    <tr>\n",
       "      <th>2</th>\n",
       "      <td>1</td>\n",
       "      <td>0.1</td>\n",
       "      <td>NaN</td>\n",
       "    </tr>\n",
       "    <tr>\n",
       "      <th>3</th>\n",
       "      <td>2</td>\n",
       "      <td>NaN</td>\n",
       "      <td>NaN</td>\n",
       "    </tr>\n",
       "    <tr>\n",
       "      <th>4</th>\n",
       "      <td>3</td>\n",
       "      <td>NaN</td>\n",
       "      <td>0.0</td>\n",
       "    </tr>\n",
       "    <tr>\n",
       "      <th>5</th>\n",
       "      <td>4</td>\n",
       "      <td>NaN</td>\n",
       "      <td>NaN</td>\n",
       "    </tr>\n",
       "    <tr>\n",
       "      <th>...</th>\n",
       "      <td>...</td>\n",
       "      <td>...</td>\n",
       "      <td>...</td>\n",
       "    </tr>\n",
       "    <tr>\n",
       "      <th>1805</th>\n",
       "      <td>6974</td>\n",
       "      <td>NaN</td>\n",
       "      <td>0.0</td>\n",
       "    </tr>\n",
       "    <tr>\n",
       "      <th>1806</th>\n",
       "      <td>6979</td>\n",
       "      <td>NaN</td>\n",
       "      <td>0.0</td>\n",
       "    </tr>\n",
       "    <tr>\n",
       "      <th>1807</th>\n",
       "      <td>6984</td>\n",
       "      <td>NaN</td>\n",
       "      <td>0.0</td>\n",
       "    </tr>\n",
       "    <tr>\n",
       "      <th>1808</th>\n",
       "      <td>6989</td>\n",
       "      <td>NaN</td>\n",
       "      <td>0.0</td>\n",
       "    </tr>\n",
       "    <tr>\n",
       "      <th>1809</th>\n",
       "      <td>6994</td>\n",
       "      <td>NaN</td>\n",
       "      <td>0.0</td>\n",
       "    </tr>\n",
       "  </tbody>\n",
       "</table>\n",
       "<p>1809 rows × 3 columns</p>\n",
       "</div>"
      ],
      "text/plain": [
       "      Step  ReBRAC_400_400  IQL\n",
       "1        0             NaN  NaN\n",
       "2        1             0.1  NaN\n",
       "3        2             NaN  NaN\n",
       "4        3             NaN  0.0\n",
       "5        4             NaN  NaN\n",
       "...    ...             ...  ...\n",
       "1805  6974             NaN  0.0\n",
       "1806  6979             NaN  0.0\n",
       "1807  6984             NaN  0.0\n",
       "1808  6989             NaN  0.0\n",
       "1809  6994             NaN  0.0\n",
       "\n",
       "[1809 rows x 3 columns]"
      ]
     },
     "execution_count": 51,
     "metadata": {},
     "output_type": "execute_result"
    }
   ],
   "source": [
    "df"
   ]
  },
  {
   "cell_type": "code",
   "execution_count": 16,
   "metadata": {},
   "outputs": [
    {
     "data": {
      "text/html": [
       "<div>\n",
       "<style scoped>\n",
       "    .dataframe tbody tr th:only-of-type {\n",
       "        vertical-align: middle;\n",
       "    }\n",
       "\n",
       "    .dataframe tbody tr th {\n",
       "        vertical-align: top;\n",
       "    }\n",
       "\n",
       "    .dataframe thead th {\n",
       "        text-align: right;\n",
       "    }\n",
       "</style>\n",
       "<table border=\"1\" class=\"dataframe\">\n",
       "  <thead>\n",
       "    <tr style=\"text-align: right;\">\n",
       "      <th></th>\n",
       "      <th>Step</th>\n",
       "      <th>ReBRAC_400_400</th>\n",
       "      <th>IQL</th>\n",
       "    </tr>\n",
       "  </thead>\n",
       "  <tbody>\n",
       "    <tr>\n",
       "      <th>1</th>\n",
       "      <td>1</td>\n",
       "      <td>0.92</td>\n",
       "      <td>1.0</td>\n",
       "    </tr>\n",
       "    <tr>\n",
       "      <th>4</th>\n",
       "      <td>12</td>\n",
       "      <td>0.98</td>\n",
       "      <td>1.0</td>\n",
       "    </tr>\n",
       "    <tr>\n",
       "      <th>7</th>\n",
       "      <td>23</td>\n",
       "      <td>0.98</td>\n",
       "      <td>1.0</td>\n",
       "    </tr>\n",
       "    <tr>\n",
       "      <th>10</th>\n",
       "      <td>34</td>\n",
       "      <td>1.00</td>\n",
       "      <td>1.0</td>\n",
       "    </tr>\n",
       "    <tr>\n",
       "      <th>13</th>\n",
       "      <td>45</td>\n",
       "      <td>1.00</td>\n",
       "      <td>1.0</td>\n",
       "    </tr>\n",
       "    <tr>\n",
       "      <th>...</th>\n",
       "      <td>...</td>\n",
       "      <td>...</td>\n",
       "      <td>...</td>\n",
       "    </tr>\n",
       "    <tr>\n",
       "      <th>232</th>\n",
       "      <td>848</td>\n",
       "      <td>0.98</td>\n",
       "      <td>1.0</td>\n",
       "    </tr>\n",
       "    <tr>\n",
       "      <th>235</th>\n",
       "      <td>859</td>\n",
       "      <td>0.90</td>\n",
       "      <td>1.0</td>\n",
       "    </tr>\n",
       "    <tr>\n",
       "      <th>238</th>\n",
       "      <td>870</td>\n",
       "      <td>1.00</td>\n",
       "      <td>1.0</td>\n",
       "    </tr>\n",
       "    <tr>\n",
       "      <th>241</th>\n",
       "      <td>881</td>\n",
       "      <td>1.00</td>\n",
       "      <td>1.0</td>\n",
       "    </tr>\n",
       "    <tr>\n",
       "      <th>244</th>\n",
       "      <td>892</td>\n",
       "      <td>0.98</td>\n",
       "      <td>1.0</td>\n",
       "    </tr>\n",
       "  </tbody>\n",
       "</table>\n",
       "<p>82 rows × 3 columns</p>\n",
       "</div>"
      ],
      "text/plain": [
       "     Step  ReBRAC_400_400  IQL\n",
       "1       1            0.92  1.0\n",
       "4      12            0.98  1.0\n",
       "7      23            0.98  1.0\n",
       "10     34            1.00  1.0\n",
       "13     45            1.00  1.0\n",
       "..    ...             ...  ...\n",
       "232   848            0.98  1.0\n",
       "235   859            0.90  1.0\n",
       "238   870            1.00  1.0\n",
       "241   881            1.00  1.0\n",
       "244   892            0.98  1.0\n",
       "\n",
       "[82 rows x 3 columns]"
      ]
     },
     "execution_count": 16,
     "metadata": {},
     "output_type": "execute_result"
    }
   ],
   "source": [
    "df_cleaned = df.dropna()\n",
    "df_cleaned"
   ]
  },
  {
   "cell_type": "code",
   "execution_count": 95,
   "metadata": {},
   "outputs": [
    {
     "data": {
      "image/png": "[encoded data removed]",
      "text/plain": [
       "<Figure size 640x480 with 1 Axes>"
      ]
     },
     "metadata": {},
     "output_type": "display_data"
    }
   ],
   "source": [
    "import matplotlib.pyplot as plt\n",
    "\n",
    "plt.grid(linestyle='-')\n",
    "plt.plot(df_cleaned['Step'],df_cleaned['ReBRAC_1_1'])\n",
    "# plt.plot(x_rebrac_10_10[:leng],smooth(y_rebrac_10_10.to_numpy(), radius=sm))\n",
    "plt.plot(df_cleaned['Step'],df_cleaned['IQL_100'])\n",
    "\n",
    "plt.ylim(0.75,1.01)\n",
    "# plt.xlim(0.7,601.5)\n",
    "plt.legend(['ReBRAC_1_1','IQL_100'], loc=4)\n",
    "plt.title('Среда FetchPush')\n",
    "plt.xlabel('Кол-во эпох')\n",
    "plt.ylabel('Доля успешных эпизодов')\n",
    "# plt.savefig('/home/nikisim/Mag_diplom/CORL/Images/FetchReach.png')\n",
    "plt.show()"
   ]
  },
  {
   "cell_type": "code",
   "execution_count": 31,
   "metadata": {},
   "outputs": [],
   "source": [
    "leng = y_rebrac_1_1.shape[0]"
   ]
  },
  {
   "cell_type": "code",
   "execution_count": 32,
   "metadata": {},
   "outputs": [],
   "source": [
    "def smooth(smoothing_weight, viewport_scale, x_values, y_values):\n",
    "    # Initialize variables\n",
    "    last_y = y_values.iloc[0] if len(y_values) > 0 else np.nan\n",
    "    debias_weight = 0\n",
    "    ema_values = []\n",
    "\n",
    "    # Calculate the range of x (if needed for scaling)\n",
    "    range_of_x = x_values.max() - x_values.min()\n",
    "\n",
    "    # Calculate EMA with variable intervals\n",
    "    for index, y_point in enumerate(y_values):\n",
    "        prev_x = x_values.iloc[index - 1] if index > 0 else x_values.iloc[0]\n",
    "        change_in_x = ((x_values.iloc[index] - prev_x) / range_of_x) * viewport_scale\n",
    "        smoothing_weight_adj = np.power(smoothing_weight, change_in_x)\n",
    "        \n",
    "        last_y = last_y * smoothing_weight_adj + y_point\n",
    "        debias_weight = debias_weight * smoothing_weight_adj + 1\n",
    "        ema_value = last_y / debias_weight\n",
    "        ema_values.append(ema_value)\n",
    "    \n",
    "    return ema_values"
   ]
  },
  {
   "cell_type": "code",
   "execution_count": 15,
   "metadata": {},
   "outputs": [],
   "source": [
    "import numpy as np"
   ]
  },
  {
   "cell_type": "code",
   "execution_count": 33,
   "metadata": {},
   "outputs": [],
   "source": [
    "smooth_rebrac = smooth(0.99, 1, x_rebrac_1_1, y_rebrac_1_1)"
   ]
  },
  {
   "cell_type": "code",
   "execution_count": 36,
   "metadata": {},
   "outputs": [
    {
     "data": {
      "text/plain": [
       "0         1\n",
       "1         4\n",
       "2         7\n",
       "3         9\n",
       "4        13\n",
       "       ... \n",
       "359    1153\n",
       "360    1159\n",
       "361    1165\n",
       "362    1171\n",
       "363    1177\n",
       "Name: Step, Length: 364, dtype: int64"
      ]
     },
     "execution_count": 36,
     "metadata": {},
     "output_type": "execute_result"
    }
   ],
   "source": [
    "x_rebrac_1_1[:leng]"
   ]
  },
  {
   "cell_type": "code",
   "execution_count": 34,
   "metadata": {},
   "outputs": [
    {
     "data": {
      "text/plain": [
       "364"
      ]
     },
     "execution_count": 34,
     "metadata": {},
     "output_type": "execute_result"
    }
   ],
   "source": [
    "len(smooth_rebrac)"
   ]
  },
  {
   "cell_type": "code",
   "execution_count": 7,
   "metadata": {},
   "outputs": [
    {
     "data": {
      "image/png": "[encoded data removed]",
      "text/plain": [
       "<Figure size 640x480 with 1 Axes>"
      ]
     },
     "metadata": {},
     "output_type": "display_data"
    }
   ],
   "source": [
    "import matplotlib.pyplot as plt\n",
    "\n",
    "sm = 30\n",
    "plt.grid(linestyle='-')\n",
    "plt.plot(x_rebrac_1_1[:leng],smooth(y_rebrac_1_1.to_numpy(), radius=sm))\n",
    "# plt.plot(x_rebrac_10_10[:leng],smooth(y_rebrac_10_10.to_numpy(), radius=sm))\n",
    "plt.plot(x_iql_100[:leng],smooth(y_iql_100[:leng].to_numpy(), radius=sm))\n",
    "\n",
    "plt.ylim(0.75,1.01)\n",
    "# plt.xlim(0.7,601.5)\n",
    "plt.legend(['ReBRAC_1_1','IQL_100'], loc=4)\n",
    "plt.title('Среда FetchPush')\n",
    "plt.xlabel('Кол-во эпох')\n",
    "plt.ylabel('Доля успешных эпизодов')\n",
    "# plt.savefig('/home/nikisim/Mag_diplom/CORL/Images/FetchReach.png')\n",
    "plt.show()\n",
    "\n"
   ]
  },
  {
   "cell_type": "code",
   "execution_count": 10,
   "metadata": {},
   "outputs": [],
   "source": [
    "data = [[x, y] for (x, y) in zip(y_iql_100[:leng].to_numpy(), smooth(x_iql_100.to_numpy(), radius=99))]"
   ]
  },
  {
   "cell_type": "code",
   "execution_count": 11,
   "metadata": {},
   "outputs": [
    {
     "data": {
      "text/html": [
       "Tracking run with wandb version 0.17.0"
      ],
      "text/plain": [
       "<IPython.core.display.HTML object>"
      ]
     },
     "metadata": {},
     "output_type": "display_data"
    },
    {
     "data": {
      "text/html": [
       "Run data is saved locally in <code>/home/nikisim/Mag_diplom/CORL/algorithms/offline/wandb/run-20240515_132805-t4wxfiyz</code>"
      ],
      "text/plain": [
       "<IPython.core.display.HTML object>"
      ]
     },
     "metadata": {},
     "output_type": "display_data"
    },
    {
     "data": {
      "text/html": [
       "Syncing run <strong><a href='https://wandb.ai/itmo449/custom-charts6/runs/t4wxfiyz' target=\"_blank\">fine-puddle-4</a></strong> to <a href='https://wandb.ai/itmo449/custom-charts6' target=\"_blank\">Weights & Biases</a> (<a href='https://wandb.me/run' target=\"_blank\">docs</a>)<br/>"
      ],
      "text/plain": [
       "<IPython.core.display.HTML object>"
      ]
     },
     "metadata": {},
     "output_type": "display_data"
    },
    {
     "data": {
      "text/html": [
       " View project at <a href='https://wandb.ai/itmo449/custom-charts6' target=\"_blank\">https://wandb.ai/itmo449/custom-charts6</a>"
      ],
      "text/plain": [
       "<IPython.core.display.HTML object>"
      ]
     },
     "metadata": {},
     "output_type": "display_data"
    },
    {
     "data": {
      "text/html": [
       " View run at <a href='https://wandb.ai/itmo449/custom-charts6/runs/t4wxfiyz' target=\"_blank\">https://wandb.ai/itmo449/custom-charts6/runs/t4wxfiyz</a>"
      ],
      "text/plain": [
       "<IPython.core.display.HTML object>"
      ]
     },
     "metadata": {},
     "output_type": "display_data"
    },
    {
     "data": {
      "application/vnd.jupyter.widget-view+json": {
       "model_id": "20b665448bae4bb682d84830e812437d",
       "version_major": 2,
       "version_minor": 0
      },
      "text/plain": [
       "VBox(children=(Label(value='0.011 MB of 0.011 MB uploaded\\r'), FloatProgress(value=1.0, max=1.0)))"
      ]
     },
     "metadata": {},
     "output_type": "display_data"
    },
    {
     "data": {
      "text/html": [
       " View run <strong style=\"color:#cdcd00\">fine-puddle-4</strong> at: <a href='https://wandb.ai/itmo449/custom-charts6/runs/t4wxfiyz' target=\"_blank\">https://wandb.ai/itmo449/custom-charts6/runs/t4wxfiyz</a><br/> View project at: <a href='https://wandb.ai/itmo449/custom-charts6' target=\"_blank\">https://wandb.ai/itmo449/custom-charts6</a><br/>Synced 5 W&B file(s), 1 media file(s), 1 artifact file(s) and 0 other file(s)"
      ],
      "text/plain": [
       "<IPython.core.display.HTML object>"
      ]
     },
     "metadata": {},
     "output_type": "display_data"
    },
    {
     "data": {
      "text/html": [
       "Find logs at: <code>./wandb/run-20240515_132805-t4wxfiyz/logs</code>"
      ],
      "text/plain": [
       "<IPython.core.display.HTML object>"
      ]
     },
     "metadata": {},
     "output_type": "display_data"
    }
   ],
   "source": [
    "import wandb\n",
    "import random\n",
    "import math\n",
    "\n",
    "# Start a new run\n",
    "run = wandb.init(project='custom-charts6')\n",
    "offset = random.random()\n",
    "\n",
    "# At each time step in the model training loop\n",
    "#for run_step in range(20):\n",
    "\n",
    "# Set up data to log in custom charts\n",
    "# data = []\n",
    "# for i in range(100):\n",
    "#   data.append([i, random.random() + math.log(1 + i) + offset + random.random()])\n",
    "\n",
    "# Create a table with the columns to plot\n",
    "table = wandb.Table(data=data, columns=[\"epoch\", \"success_rate\"])\n",
    "\n",
    "# Use the table to populate various custom charts\n",
    "line_plot = wandb.plot.line(table, x='epoch', y='success_rate', title='FetchReach')\n",
    "\n",
    "# Log custom tables, which will show up in customizable charts in the UI\n",
    "wandb.log({'line_1': line_plot, \n",
    "            })\n",
    "\n",
    "# Finally, end the run. We only need this ine in Jupyter notebooks.\n",
    "run.finish()"
   ]
  },
  {
   "cell_type": "code",
   "execution_count": 12,
   "metadata": {},
   "outputs": [],
   "source": [
    "data = [[x, y] for (x, y) in zip(y_rebrac_1_1[:leng].to_numpy(), smooth(x_rebrac_1_1.to_numpy(), radius=99))]"
   ]
  },
  {
   "cell_type": "code",
   "execution_count": 14,
   "metadata": {},
   "outputs": [
    {
     "data": {
      "text/html": [
       "Tracking run with wandb version 0.17.0"
      ],
      "text/plain": [
       "<IPython.core.display.HTML object>"
      ]
     },
     "metadata": {},
     "output_type": "display_data"
    },
    {
     "data": {
      "text/html": [
       "Run data is saved locally in <code>/home/nikisim/Mag_diplom/CORL/algorithms/offline/wandb/run-20240515_134124-e4hbrq01</code>"
      ],
      "text/plain": [
       "<IPython.core.display.HTML object>"
      ]
     },
     "metadata": {},
     "output_type": "display_data"
    },
    {
     "data": {
      "text/html": [
       "Syncing run <strong><a href='https://wandb.ai/itmo449/custom-charts3/runs/e4hbrq01' target=\"_blank\">stilted-monkey-5</a></strong> to <a href='https://wandb.ai/itmo449/custom-charts3' target=\"_blank\">Weights & Biases</a> (<a href='https://wandb.me/run' target=\"_blank\">docs</a>)<br/>"
      ],
      "text/plain": [
       "<IPython.core.display.HTML object>"
      ]
     },
     "metadata": {},
     "output_type": "display_data"
    },
    {
     "data": {
      "text/html": [
       " View project at <a href='https://wandb.ai/itmo449/custom-charts3' target=\"_blank\">https://wandb.ai/itmo449/custom-charts3</a>"
      ],
      "text/plain": [
       "<IPython.core.display.HTML object>"
      ]
     },
     "metadata": {},
     "output_type": "display_data"
    },
    {
     "data": {
      "text/html": [
       " View run at <a href='https://wandb.ai/itmo449/custom-charts3/runs/e4hbrq01' target=\"_blank\">https://wandb.ai/itmo449/custom-charts3/runs/e4hbrq01</a>"
      ],
      "text/plain": [
       "<IPython.core.display.HTML object>"
      ]
     },
     "metadata": {},
     "output_type": "display_data"
    },
    {
     "data": {
      "text/html": [
       "Finishing last run (ID:e4hbrq01) before initializing another..."
      ],
      "text/plain": [
       "<IPython.core.display.HTML object>"
      ]
     },
     "metadata": {},
     "output_type": "display_data"
    },
    {
     "name": "stderr",
     "output_type": "stream",
     "text": [
      "\u001b[34m\u001b[1mwandb\u001b[0m: \u001b[32m\u001b[41mERROR\u001b[0m Control-C detected -- Run data was not synced\n"
     ]
    },
    {
     "data": {
      "text/html": [
       "Successfully finished last run (ID:e4hbrq01). Initializing new run:<br/>"
      ],
      "text/plain": [
       "<IPython.core.display.HTML object>"
      ]
     },
     "metadata": {},
     "output_type": "display_data"
    },
    {
     "data": {
      "application/vnd.jupyter.widget-view+json": {
       "model_id": "68ecb00ed22e4210a5ea459efe6b5bcd",
       "version_major": 2,
       "version_minor": 0
      },
      "text/plain": [
       "VBox(children=(Label(value='Waiting for wandb.init()...\\r'), FloatProgress(value=0.011111854166503891, max=1.0…"
      ]
     },
     "metadata": {},
     "output_type": "display_data"
    }
   ],
   "source": [
    "import wandb\n",
    "import random\n",
    "import math\n",
    "\n",
    "# Start a new run\n",
    "run = wandb.init(project='custom-charts3')\n",
    "offset = random.random()\n",
    "wandb.init(\n",
    "    name=\"IQL\",\n",
    "    id=\"IQL\"\n",
    ")\n",
    "\n",
    "# At each time step in the model training loop\n",
    "for run_step in range(20):\n",
    "\n",
    "    # Create a table with the columns to plot\n",
    "    table = wandb.Table(data=data[:10], columns=[\"epoch\", \"success_rate\"])\n",
    "\n",
    "    # Use the table to populate various custom charts\n",
    "    line_plot = wandb.plot.line(table, x='epoch', y='success_rate', title='FetchReach')\n",
    "\n",
    "    # Log custom tables, which will show up in customizable charts in the UI\n",
    "    wandb.log({'line_1': line_plot, \n",
    "                })\n",
    "\n",
    "# Finally, end the run. We only need this ine in Jupyter notebooks.\n",
    "run.finish()"
   ]
  }
 ],
 "metadata": {
  "kernelspec": {
   "display_name": "Python 3",
   "language": "python",
   "name": "python3"
  },
  "language_info": {
   "codemirror_mode": {
    "name": "ipython",
    "version": 3
   },
   "file_extension": ".py",
   "mimetype": "text/x-python",
   "name": "python",
   "nbconvert_exporter": "python",
   "pygments_lexer": "ipython3",
   "version": "3.11.7"
  }
 },
 "nbformat": 4,
 "nbformat_minor": 2
}
