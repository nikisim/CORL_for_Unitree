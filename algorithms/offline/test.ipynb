{
 "cells": [
  {
   "cell_type": "code",
   "execution_count": 11,
   "metadata": {},
   "outputs": [],
   "source": [
    "import gymnasium as gym \n",
    "import numpy as np\n",
    "import loco_mujoco\n",
    "from loco_mujoco import LocoEnv\n",
    "\n",
    "\n",
    "env = gym.make(\"LocoMujoco\", env_name=\"UnitreeA1.simple\")\n",
    "mdp = LocoEnv.make(\"UnitreeA1.simple.perfect\")"
   ]
  },
  {
   "cell_type": "code",
   "execution_count": 12,
   "metadata": {},
   "outputs": [],
   "source": [
    "def reformat_dataset(dataset):\n",
    "\n",
    "    dataset['observations'] = dataset.pop('states')\n",
    "    dataset['actions'] = dataset.pop('actions')\n",
    "    dataset['next_observations'] = dataset.pop('next_states')\n",
    "    dataset['rewards'] = dataset.pop('rewards')\n",
    "    dataset['terminals'] = dataset.pop('last')\n",
    "\n",
    "    del dataset['absorbing']\n",
    "\n",
    "    return dataset"
   ]
  },
  {
   "cell_type": "code",
   "execution_count": 13,
   "metadata": {},
   "outputs": [],
   "source": [
    "dataset = mdp.create_dataset()\n",
    "dataset = reformat_dataset(dataset)"
   ]
  },
  {
   "cell_type": "code",
   "execution_count": 16,
   "metadata": {},
   "outputs": [
    {
     "data": {
      "text/plain": [
       "array([[-1.75436656e-01, -1.84745601e-02, -2.00154582e-02, ...,\n",
       "         6.12323400e-17,  1.00000000e+00,  2.36551929e-01],\n",
       "       [-1.76199713e-01, -1.99555827e-02, -2.02447174e-02, ...,\n",
       "         6.12323400e-17,  1.00000000e+00,  2.36551929e-01],\n",
       "       [-1.77233390e-01, -1.93418613e-02, -1.74382350e-02, ...,\n",
       "         6.12323400e-17,  1.00000000e+00,  2.36551929e-01],\n",
       "       ...,\n",
       "       [-1.84989459e-01,  1.34406359e-02, -1.28136403e-03, ...,\n",
       "         6.12323400e-17,  1.00000000e+00,  2.36557250e-01],\n",
       "       [-1.84933953e-01,  1.50279862e-02,  5.70976146e-04, ...,\n",
       "         6.12323400e-17,  1.00000000e+00,  2.36557250e-01],\n",
       "       [-1.84899641e-01,  1.64366798e-02,  1.40649562e-03, ...,\n",
       "         6.12323400e-17,  1.00000000e+00,  2.36557250e-01]])"
      ]
     },
     "execution_count": 16,
     "metadata": {},
     "output_type": "execute_result"
    }
   ],
   "source": [
    "dataset['observations']"
   ]
  },
  {
   "cell_type": "code",
   "execution_count": 20,
   "metadata": {},
   "outputs": [
    {
     "data": {
      "text/plain": [
       "array([-1.75246008e-01, -2.18325126e-04, -6.12494639e-03, -7.03702569e-04,\n",
       "        1.73175335e-01,  1.00318845e+00, -1.95248358e+00, -4.98135436e-02,\n",
       "        7.80260207e-01, -1.96077612e+00, -4.57794498e-02,  7.76031970e-01,\n",
       "       -1.83279672e+00,  1.65798397e-01,  9.61358045e-01, -1.78507252e+00,\n",
       "        2.19544015e-01, -3.07581290e-02, -9.17604033e-03,  4.31953768e-02,\n",
       "       -1.27494939e-01,  5.07200012e-03,  7.08031037e-02,  1.00787992e+00,\n",
       "        5.19428699e-02, -6.41077255e-02, -1.67740478e+00,  4.58383325e+00,\n",
       "       -6.42097172e-01,  1.10837962e-01,  5.41819731e+00,  9.36983537e-02,\n",
       "        9.41830047e-01, -2.26558248e-02,  1.00000000e+00,  0.00000000e+00,\n",
       "        2.36557250e-01])"
      ]
     },
     "execution_count": 20,
     "metadata": {},
     "output_type": "execute_result"
    }
   ],
   "source": [
    "s, _ = env.reset()\n",
    "s"
   ]
  }
 ],
 "metadata": {
  "kernelspec": {
   "display_name": "Python 3",
   "language": "python",
   "name": "python3"
  },
  "language_info": {
   "codemirror_mode": {
    "name": "ipython",
    "version": 3
   },
   "file_extension": ".py",
   "mimetype": "text/x-python",
   "name": "python",
   "nbconvert_exporter": "python",
   "pygments_lexer": "ipython3",
   "version": "3.10.12"
  }
 },
 "nbformat": 4,
 "nbformat_minor": 2
}
